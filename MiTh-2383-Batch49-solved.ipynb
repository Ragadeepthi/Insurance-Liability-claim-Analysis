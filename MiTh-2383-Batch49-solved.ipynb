{
 "cells": [
  {
   "cell_type": "code",
   "execution_count": 216,
   "metadata": {},
   "outputs": [],
   "source": [
    "import pandas as pd\n",
    "import numpy as np\n",
    "import os \n",
    "\n",
    "#visualization\n",
    "import seaborn as sns\n",
    "from matplotlib import pyplot as plt\n",
    "%matplotlib inline\n",
    "\n",
    "\n",
    "\n",
    "#ML\n",
    "from sklearn.preprocessing import Imputer, StandardScaler\n",
    "from sklearn.preprocessing import OneHotEncoder\n",
    "from sklearn.linear_model import LogisticRegression, LogisticRegressionCV\n",
    "from sklearn.model_selection import train_test_split, KFold, cross_val_score,GridSearchCV,RandomizedSearchCV\n",
    "from sklearn.neighbors import KNeighborsClassifier\n",
    "from sklearn.tree import DecisionTreeClassifier\n",
    "from sklearn.decomposition import PCA\n",
    "from sklearn.svm import SVC\n",
    "from xgboost import XGBClassifier\n",
    "from sklearn import ensemble, metrics\n",
    "from sklearn.ensemble import RandomForestClassifier\n",
    "from sklearn.metrics import precision_score,recall_score, confusion_matrix, classification_report,accuracy_score, f1_score\n",
    "from catboost import CatBoostClassifier\n",
    "\n",
    "\n",
    "import warnings\n",
    "warnings.filterwarnings('ignore')\n",
    "from time import time\n",
    "from concurrent.futures import ThreadPoolExecutor"
   ]
  },
  {
   "cell_type": "code",
   "execution_count": 2,
   "metadata": {},
   "outputs": [],
   "source": [
    "#change working directory\n",
    "os.chdir(\"D:/MiTh-solved\")"
   ]
  },
  {
   "cell_type": "code",
   "execution_count": 3,
   "metadata": {},
   "outputs": [],
   "source": [
    "#Training Data\n",
    "train_data_ID = pd.read_csv(\"Train-1542969243754.csv\", sep=\",\", keep_default_na=True,na_filter=True,\n",
    "                  na_values=\"'', '#N/A', '#N/A N/A', '#NA', '-1.#IND', '-1.#QNAN', '-NaN', '-nan', '1.#IND', '1.#QNAN', 'N/A', 'NA', 'NULL', 'NaN', 'n/a', 'nan', 'null', '?', '#'\")\n",
    "\n",
    "train_data_ClaimDetails= pd.read_csv(\"Train_ClaimDetails-1542969243754.csv\", sep=\",\", keep_default_na=True,na_filter=True,\n",
    "                  na_values=\" '', '#N/A', '#N/A N/A', '#NA', '-1.#IND', '-1.#QNAN', '-NaN', '-nan', '1.#IND', '1.#QNAN', 'N/A', 'NA', 'NULL', 'NaN', 'n/a', 'nan', 'null', '?', '#' \")\n",
    " \n",
    "train_data_PDemography= pd.read_csv(\"Train_Policy_Demographics-1542969243754.csv\", sep=\",\", keep_default_na=True,na_filter=True,\n",
    "                  na_values=\" '', '#N/A', '#N/A N/A', '#NA', '-1.#IND', '-1.#QNAN', '-NaN', '-nan', '1.#IND', '1.#QNAN', 'N/A', 'NA', 'NULL', 'NaN', 'n/a', 'nan', 'null', '?', '#'\")\n",
    " \n",
    "train_data_ID1 = pd.read_csv(\"Train-1542969243754.csv\", sep=\",\", keep_default_na=False,\n",
    "                  na_values=\"'', '#N/A', '#N/A N/A', '#NA', '-1.#IND', '-1.#QNAN', '-NaN', '-nan', '1.#IND', '1.#QNAN', 'N/A', 'NA', 'NULL', 'NaN', 'n/a', 'nan', 'null', '?', '#'\")\n",
    "\n",
    "train_data_ClaimDetails1= pd.read_csv(\"Train_ClaimDetails-1542969243754.csv\", sep=\",\", keep_default_na=False,\n",
    "                  na_values=\" '', '#N/A', '#N/A N/A', '#NA', '-1.#IND', '-1.#QNAN', '-NaN', '-nan', '1.#IND', '1.#QNAN', 'N/A', 'NA', 'NULL', 'NaN', 'n/a', 'nan', 'null', '?', '#' \")\n",
    " \n",
    "train_data_PDemography1= pd.read_csv(\"Train_Policy_Demographics-1542969243754.csv\", sep=\",\", keep_default_na=True,\n",
    "                  na_values=\" '', '#N/A', '#N/A N/A', '#NA', '-1.#IND', '-1.#QNAN', '-NaN', '-nan', '1.#IND', '1.#QNAN', 'N/A', 'NA', 'NULL', 'NaN', 'n/a', 'nan', 'null', '?', '#'\")\n",
    " \n"
   ]
  },
  {
   "cell_type": "code",
   "execution_count": 4,
   "metadata": {},
   "outputs": [],
   "source": [
    "#test Data\n",
    "test_data_ID = pd.read_csv(\"predictions-1542969243754.csv\", sep=\",\", keep_default_na=True, na_filter=True,\n",
    "                  na_values=\" '', '#N/A', '#N/A N/A', '#NA', '-1.#IND', '-1.#QNAN', '-NaN', '-nan', '1.#IND', '1.#QNAN', 'N/A', 'NA', 'NULL', 'NaN', 'n/a', 'nan', 'null', '?', '#' \")\n",
    "\n",
    "test_data_ClaimDetails= pd.read_csv(\"Test_ClaimDetails-1542969243754.csv\", sep=\",\", keep_default_na=True,na_filter=True,\n",
    "                  na_values=\" '', '#N/A', '#N/A N/A', '#NA', '-1.#IND', '-1.#QNAN', '-NaN', '-nan', '1.#IND', '1.#QNAN', 'N/A', 'NA', 'NULL', 'NaN', 'n/a', 'nan', 'null', '?', '#'\")\n",
    "\n",
    "test_data_PDemography= pd.read_csv(\"Test_Policy_Demographics-1542969243754.csv\", sep=\",\", keep_default_na=True,na_filter=True,\n",
    "                  na_values=\" '', '#N/A', '#N/A N/A', '#NA', '-1.#IND', '-1.#QNAN', '-NaN', '-nan', '1.#IND', '1.#QNAN', 'N/A', 'NA', 'NULL', 'NaN', 'n/a', 'nan', 'null', '?', '#' \")\n",
    " \n",
    "test_data_ID1 = pd.read_csv(\"predictions-1542969243754.csv\", sep=\",\", keep_default_na=False,\n",
    "                  na_values=\" '', '#N/A', '#N/A N/A', '#NA', '-1.#IND', '-1.#QNAN', '-NaN', '-nan', '1.#IND', '1.#QNAN', 'N/A', 'NA', 'NULL', 'NaN', 'n/a', 'nan', 'null', '?', '#' \")\n",
    "\n",
    "test_data_ClaimDetails1= pd.read_csv(\"Test_ClaimDetails-1542969243754.csv\", sep=\",\", keep_default_na=False,\n",
    "                                     na_values=\" '', '#N/A', '#N/A N/A', '#NA', '-1.#IND', '-1.#QNAN', '-NaN', '-nan', '1.#IND', '1.#QNAN', 'N/A', 'NA', 'NULL', 'NaN', 'n/a', 'nan', 'null', '?', '#'\")\n",
    "\n",
    "test_data_PDemography1= pd.read_csv(\"Test_Policy_Demographics-1542969243754.csv\", sep=\",\", keep_default_na=False,\n",
    "                  na_values=\" '', '#N/A', '#N/A N/A', '#NA', '-1.#IND', '-1.#QNAN', '-NaN', '-nan', '1.#IND', '1.#QNAN', 'N/A', 'NA', 'NULL', 'NaN', 'n/a', 'nan', 'null', '?', '#' \")\n",
    " \n"
   ]
  },
  {
   "cell_type": "code",
   "execution_count": 5,
   "metadata": {
    "scrolled": false
   },
   "outputs": [
    {
     "name": "stdout",
     "output_type": "stream",
     "text": [
      "Head of train ID and Lables:\n",
      "     ClaimID     ClaimSize\n",
      "0  CLM56529  lessthan100K\n",
      "1  CLM66153  lessthan100K\n",
      "2  CLM58861  lessthan100K\n",
      "Head of train claim details:\n",
      "         ClaimID Injury_Date Date_reported  Age_Injured  \\\n",
      "14414  CLM62295   10/3/2001    2001-10-04         6100   \n",
      "14415  CLM68967   3/18/2003    2004-02-02         4700   \n",
      "14416  CLM63810   3/12/2002    2002-03-13         1400   \n",
      "\n",
      "      Work_related_injury_status Amputation Death Burns_heat Burns_chemical  \\\n",
      "14414                          N        NaN   NaN        NaN            NaN   \n",
      "14415                          N        NaN   NaN        NaN            NaN   \n",
      "14416                        NaN        NaN     A        NaN            NaN   \n",
      "\n",
      "      SystemicPoisoning_toxic          ...           SocialSecurityBenefits  \\\n",
      "14414                     NaN          ...                              NaN   \n",
      "14415                     NaN          ...                              NaN   \n",
      "14416                     NaN          ...                              NaN   \n",
      "\n",
      "      Medicare_Medicaid Anyothercontributors AnyMultipleInterestedparties  \\\n",
      "14414               NaN                    1                            0   \n",
      "14415               NaN                    1                            0   \n",
      "14416               NaN                    1                            0   \n",
      "\n",
      "      Match_Multiclaimant_multiInterestedparties_claim  \\\n",
      "14414                                              NaN   \n",
      "14415                                              NaN   \n",
      "14416                                              NaN   \n",
      "\n",
      "      PrimaFacie_percentagefault_injured PrimaFacie_percentagefault_insured  \\\n",
      "14414                                  0                                100   \n",
      "14415                                  0                                100   \n",
      "14416                                  0                                100   \n",
      "\n",
      "      PrimaFacie_percentagefault_otherinsured  \\\n",
      "14414                                       0   \n",
      "14415                                       0   \n",
      "14416                                       0   \n",
      "\n",
      "      PrimaFacie_percentagefault_uninsured OtherCollateralSources  \n",
      "14414                                    0                    NaN  \n",
      "14415                                    0                    NaN  \n",
      "14416                                    0                    NaN  \n",
      "\n",
      "[3 rows x 55 columns]\n",
      "Head of train Policy Demographic details:\n",
      "       PolicyID  PolicyType  PolicyForm Employment_status  BusinessClass  \\\n",
      "14414  P286295           2           1                 Y              7   \n",
      "14415  P292967           1           1                 Y             26   \n",
      "14416  P287810           2           1                 N              7   \n",
      "\n",
      "       Perperson_Policylimit  PerOccurrence_PolicyLimit  CombinedSingleLimit  \\\n",
      "14414                      0                          0              1000025   \n",
      "14415                      0                    1000000                    0   \n",
      "14416                      0                     500002                    0   \n",
      "\n",
      "        ClaimID  PolicyLimitPerInjury  \n",
      "14414  CLM62295               1000025  \n",
      "14415  CLM68967               1000000  \n",
      "14416  CLM63810                500002  \n"
     ]
    }
   ],
   "source": [
    "#check if train data was read properly\n",
    "print(\"Head of train ID and Lables:\\n\",train_data_ID.head(3))\n",
    "print(\"Head of train claim details:\\n\",train_data_ClaimDetails.tail(3))\n",
    "print(\"Head of train Policy Demographic details:\\n\",train_data_PDemography.tail(3))\n",
    "#Data was read properly"
   ]
  },
  {
   "cell_type": "code",
   "execution_count": 6,
   "metadata": {},
   "outputs": [
    {
     "name": "stdout",
     "output_type": "stream",
     "text": [
      "Head of train ID and Lables:\n",
      "     ClaimID     ClaimSize\n",
      "0  CLM56529  lessthan100K\n",
      "1  CLM66153  lessthan100K\n",
      "2  CLM58861  lessthan100K\n",
      "Head of train claim details:\n",
      "         ClaimID Injury_Date Date_reported  Age_Injured  \\\n",
      "14414  CLM62295   10/3/2001    2001-10-04         6100   \n",
      "14415  CLM68967   3/18/2003    2004-02-02         4700   \n",
      "14416  CLM63810   3/12/2002    2002-03-13         1400   \n",
      "\n",
      "      Work_related_injury_status Amputation Death Burns_heat Burns_chemical  \\\n",
      "14414                          N                                              \n",
      "14415                          N                                              \n",
      "14416                                           A                             \n",
      "\n",
      "      SystemicPoisoning_toxic          ...           SocialSecurityBenefits  \\\n",
      "14414                                  ...                                    \n",
      "14415                                  ...                                    \n",
      "14416                                  ...                                    \n",
      "\n",
      "      Medicare_Medicaid Anyothercontributors AnyMultipleInterestedparties  \\\n",
      "14414                                      1                            0   \n",
      "14415                                      1                            0   \n",
      "14416                                      1                            0   \n",
      "\n",
      "      Match_Multiclaimant_multiInterestedparties_claim  \\\n",
      "14414                                               NA   \n",
      "14415                                               NA   \n",
      "14416                                               NA   \n",
      "\n",
      "      PrimaFacie_percentagefault_injured PrimaFacie_percentagefault_insured  \\\n",
      "14414                                  0                                100   \n",
      "14415                                  0                                100   \n",
      "14416                                  0                                100   \n",
      "\n",
      "      PrimaFacie_percentagefault_otherinsured  \\\n",
      "14414                                       0   \n",
      "14415                                       0   \n",
      "14416                                       0   \n",
      "\n",
      "      PrimaFacie_percentagefault_uninsured OtherCollateralSources  \n",
      "14414                                    0                         \n",
      "14415                                    0                         \n",
      "14416                                    0                         \n",
      "\n",
      "[3 rows x 55 columns]\n",
      "Head of train Policy Demographic details:\n",
      "       PolicyID  PolicyType  PolicyForm Employment_status  BusinessClass  \\\n",
      "14414  P286295           2           1                 Y              7   \n",
      "14415  P292967           1           1                 Y             26   \n",
      "14416  P287810           2           1                 N              7   \n",
      "\n",
      "       Perperson_Policylimit  PerOccurrence_PolicyLimit  CombinedSingleLimit  \\\n",
      "14414                      0                          0              1000025   \n",
      "14415                      0                    1000000                    0   \n",
      "14416                      0                     500002                    0   \n",
      "\n",
      "        ClaimID  PolicyLimitPerInjury  \n",
      "14414  CLM62295               1000025  \n",
      "14415  CLM68967               1000000  \n",
      "14416  CLM63810                500002  \n"
     ]
    }
   ],
   "source": [
    "#check if train data was read properly\n",
    "print(\"Head of train ID and Lables:\\n\",train_data_ID1.head(3))\n",
    "print(\"Head of train claim details:\\n\",train_data_ClaimDetails1.tail(3))\n",
    "print(\"Head of train Policy Demographic details:\\n\",train_data_PDemography1.tail(3))\n",
    "#Data was read properly"
   ]
  },
  {
   "cell_type": "code",
   "execution_count": 7,
   "metadata": {
    "scrolled": true
   },
   "outputs": [
    {
     "name": "stdout",
     "output_type": "stream",
     "text": [
      "Head of train ID and Lables:\n",
      "     ClaimID     ClaimSize\n",
      "0  CLM51003  lessthan100K\n",
      "1  CLM51006  lessthan100K\n",
      "2  CLM51016  lessthan100K\n",
      "Head of train claim details:\n",
      "        ClaimID Injury_Date Date_reported  Age_Injured  \\\n",
      "4803  CLM70219    9/1/2005    2005-09-20         4000   \n",
      "4804  CLM70221   9/22/2005    2005-09-29         5000   \n",
      "4805  CLM70222  10/11/2005    2005-10-11         4000   \n",
      "\n",
      "     Work_related_injury_status Amputation Death Burns_heat Burns_chemical  \\\n",
      "4803                          Y        NaN   NaN        NaN            NaN   \n",
      "4804                          N        NaN   NaN        NaN            NaN   \n",
      "4805                          N        NaN   NaN        NaN            NaN   \n",
      "\n",
      "     SystemicPoisoning_toxic          ...           SocialSecurityBenefits  \\\n",
      "4803                     NaN          ...                              NaN   \n",
      "4804                     NaN          ...                              NaN   \n",
      "4805                     NaN          ...                              NaN   \n",
      "\n",
      "     Medicare_Medicaid Anyothercontributors AnyMultipleInterestedparties  \\\n",
      "4803               NaN                    1                            0   \n",
      "4804               NaN                    1                            0   \n",
      "4805               NaN                    1                            0   \n",
      "\n",
      "     Match_Multiclaimant_multiInterestedparties_claim  \\\n",
      "4803                                              NaN   \n",
      "4804                                              NaN   \n",
      "4805                                              NaN   \n",
      "\n",
      "     PrimaFacie_percentagefault_injured PrimaFacie_percentagefault_insured  \\\n",
      "4803                                  0                                100   \n",
      "4804                                  0                                100   \n",
      "4805                                  0                                100   \n",
      "\n",
      "     PrimaFacie_percentagefault_otherinsured  \\\n",
      "4803                                       0   \n",
      "4804                                       0   \n",
      "4805                                       0   \n",
      "\n",
      "     PrimaFacie_percentagefault_uninsured OtherCollateralSources  \n",
      "4803                                    0                    NaN  \n",
      "4804                                    0                    NaN  \n",
      "4805                                    0                    NaN  \n",
      "\n",
      "[3 rows x 55 columns]\n",
      "Head of train Policy Demographic details:\n",
      "      PolicyID  PolicyType  PolicyForm Employment_status  BusinessClass  \\\n",
      "4803  P294219           2           1                 Y             14   \n",
      "4804  P294221           2           1                 Y              7   \n",
      "4805  P294222           2           1                 Y             14   \n",
      "\n",
      "      Perperson_Policylimit  PerOccurrence_PolicyLimit  CombinedSingleLimit  \\\n",
      "4803                      0                          0                25000   \n",
      "4804                1000000                          0                    0   \n",
      "4805                      0                          0                55025   \n",
      "\n",
      "       ClaimID  PolicyLimitPerInjury  \n",
      "4803  CLM70219                 25000  \n",
      "4804  CLM70221               1000000  \n",
      "4805  CLM70222                 55025  \n"
     ]
    }
   ],
   "source": [
    "#check if test data was read properly\n",
    "print(\"Head of train ID and Lables:\\n\",test_data_ID.head(3))\n",
    "print(\"Head of train claim details:\\n\",test_data_ClaimDetails.tail(3))\n",
    "print(\"Head of train Policy Demographic details:\\n\",test_data_PDemography.tail(3))\n",
    "#Data was read properly"
   ]
  },
  {
   "cell_type": "code",
   "execution_count": 8,
   "metadata": {},
   "outputs": [
    {
     "name": "stdout",
     "output_type": "stream",
     "text": [
      "Head of train ID and Lables:\n",
      "     ClaimID     ClaimSize\n",
      "0  CLM51003  lessthan100K\n",
      "1  CLM51006  lessthan100K\n",
      "2  CLM51016  lessthan100K\n",
      "Head of train claim details:\n",
      "        ClaimID Injury_Date Date_reported  Age_Injured  \\\n",
      "4803  CLM70219    9/1/2005    2005-09-20         4000   \n",
      "4804  CLM70221   9/22/2005    2005-09-29         5000   \n",
      "4805  CLM70222  10/11/2005    2005-10-11         4000   \n",
      "\n",
      "     Work_related_injury_status Amputation Death Burns_heat Burns_chemical  \\\n",
      "4803                          Y                                              \n",
      "4804                          N                                              \n",
      "4805                          N                                              \n",
      "\n",
      "     SystemicPoisoning_toxic          ...           SocialSecurityBenefits  \\\n",
      "4803                                  ...                                    \n",
      "4804                                  ...                                    \n",
      "4805                                  ...                                    \n",
      "\n",
      "     Medicare_Medicaid Anyothercontributors AnyMultipleInterestedparties  \\\n",
      "4803                                      1                            0   \n",
      "4804                                      1                            0   \n",
      "4805                                      1                            0   \n",
      "\n",
      "     Match_Multiclaimant_multiInterestedparties_claim  \\\n",
      "4803                                               NA   \n",
      "4804                                               NA   \n",
      "4805                                               NA   \n",
      "\n",
      "     PrimaFacie_percentagefault_injured PrimaFacie_percentagefault_insured  \\\n",
      "4803                                  0                                100   \n",
      "4804                                  0                                100   \n",
      "4805                                  0                                100   \n",
      "\n",
      "     PrimaFacie_percentagefault_otherinsured  \\\n",
      "4803                                       0   \n",
      "4804                                       0   \n",
      "4805                                       0   \n",
      "\n",
      "     PrimaFacie_percentagefault_uninsured OtherCollateralSources  \n",
      "4803                                    0                         \n",
      "4804                                    0                         \n",
      "4805                                    0                         \n",
      "\n",
      "[3 rows x 55 columns]\n",
      "Head of train Policy Demographic details:\n",
      "      PolicyID  PolicyType  PolicyForm Employment_status  BusinessClass  \\\n",
      "4803  P294219           2           1                 Y             14   \n",
      "4804  P294221           2           1                 Y              7   \n",
      "4805  P294222           2           1                 Y             14   \n",
      "\n",
      "      Perperson_Policylimit  PerOccurrence_PolicyLimit  CombinedSingleLimit  \\\n",
      "4803                      0                          0                25000   \n",
      "4804                1000000                          0                    0   \n",
      "4805                      0                          0                55025   \n",
      "\n",
      "       ClaimID  PolicyLimitPerInjury  \n",
      "4803  CLM70219                 25000  \n",
      "4804  CLM70221               1000000  \n",
      "4805  CLM70222                 55025  \n"
     ]
    }
   ],
   "source": [
    "#check if test data was read properly\n",
    "print(\"Head of train ID and Lables:\\n\",test_data_ID1.head(3))\n",
    "print(\"Head of train claim details:\\n\",test_data_ClaimDetails1.tail(3))\n",
    "print(\"Head of train Policy Demographic details:\\n\",test_data_PDemography1.tail(3))\n",
    "#Data was read properly"
   ]
  },
  {
   "cell_type": "code",
   "execution_count": 9,
   "metadata": {},
   "outputs": [],
   "source": [
    "#merging\n",
    "app_train =train_data_ID.merge(train_data_ClaimDetails,on='ClaimID').merge(train_data_PDemography,on='ClaimID')\n",
    "app_test =test_data_ID.merge(test_data_ClaimDetails,on='ClaimID').merge(test_data_PDemography,on='ClaimID')\n",
    "\n",
    "#merging without NaN make spaces as it is\n",
    "app_train_empty =train_data_ID1.merge(train_data_ClaimDetails1,on='ClaimID').merge(train_data_PDemography1,on='ClaimID')\n",
    "app_test_empty =test_data_ID1.merge(test_data_ClaimDetails1,on='ClaimID').merge(test_data_PDemography1,on='ClaimID')"
   ]
  },
  {
   "cell_type": "code",
   "execution_count": 10,
   "metadata": {},
   "outputs": [],
   "source": [
    "#reindexing columns in train #exchanging positions of Death and Amputation\n",
    "columnsName = list(app_train.columns)\n",
    "F, H = columnsName.index('Death'), columnsName.index('Amputation')\n",
    "columnsName[F], columnsName[H] = columnsName[H],columnsName[F]\n",
    "app_train = app_train[columnsName]"
   ]
  },
  {
   "cell_type": "code",
   "execution_count": 11,
   "metadata": {},
   "outputs": [],
   "source": [
    "#reindexing columns in test #exchanging positions of Death and Amputation\n",
    "columnsName = list(app_train_empty.columns)\n",
    "F, H = columnsName.index('Death'), columnsName.index('Amputation')\n",
    "columnsName[F], columnsName[H] = columnsName[H],columnsName[F]\n",
    "app_train_empty = app_train_empty[columnsName]"
   ]
  },
  {
   "cell_type": "code",
   "execution_count": 12,
   "metadata": {
    "scrolled": true
   },
   "outputs": [
    {
     "data": {
      "text/html": [
       "<div>\n",
       "<style scoped>\n",
       "    .dataframe tbody tr th:only-of-type {\n",
       "        vertical-align: middle;\n",
       "    }\n",
       "\n",
       "    .dataframe tbody tr th {\n",
       "        vertical-align: top;\n",
       "    }\n",
       "\n",
       "    .dataframe thead th {\n",
       "        text-align: right;\n",
       "    }\n",
       "</style>\n",
       "<table border=\"1\" class=\"dataframe\">\n",
       "  <thead>\n",
       "    <tr style=\"text-align: right;\">\n",
       "      <th></th>\n",
       "      <th>ClaimID</th>\n",
       "      <th>ClaimSize</th>\n",
       "      <th>Injury_Date</th>\n",
       "      <th>Date_reported</th>\n",
       "      <th>Age_Injured</th>\n",
       "      <th>Work_related_injury_status</th>\n",
       "      <th>Death</th>\n",
       "      <th>Amputation</th>\n",
       "      <th>Burns_heat</th>\n",
       "      <th>Burns_chemical</th>\n",
       "      <th>...</th>\n",
       "      <th>OtherCollateralSources</th>\n",
       "      <th>PolicyID</th>\n",
       "      <th>PolicyType</th>\n",
       "      <th>PolicyForm</th>\n",
       "      <th>Employment_status</th>\n",
       "      <th>BusinessClass</th>\n",
       "      <th>Perperson_Policylimit</th>\n",
       "      <th>PerOccurrence_PolicyLimit</th>\n",
       "      <th>CombinedSingleLimit</th>\n",
       "      <th>PolicyLimitPerInjury</th>\n",
       "    </tr>\n",
       "  </thead>\n",
       "  <tbody>\n",
       "    <tr>\n",
       "      <th>0</th>\n",
       "      <td>CLM56529</td>\n",
       "      <td>lessthan100K</td>\n",
       "      <td>3/9/2000</td>\n",
       "      <td>2000-03-23</td>\n",
       "      <td>5900</td>\n",
       "      <td>N</td>\n",
       "      <td>NaN</td>\n",
       "      <td>NaN</td>\n",
       "      <td>NaN</td>\n",
       "      <td>NaN</td>\n",
       "      <td>...</td>\n",
       "      <td>NaN</td>\n",
       "      <td>P280529</td>\n",
       "      <td>1</td>\n",
       "      <td>1</td>\n",
       "      <td>Y</td>\n",
       "      <td>17</td>\n",
       "      <td>0</td>\n",
       "      <td>0</td>\n",
       "      <td>5000000</td>\n",
       "      <td>5000000</td>\n",
       "    </tr>\n",
       "    <tr>\n",
       "      <th>1</th>\n",
       "      <td>CLM66153</td>\n",
       "      <td>lessthan100K</td>\n",
       "      <td>12/6/2002</td>\n",
       "      <td>2002-12-10</td>\n",
       "      <td>3700</td>\n",
       "      <td>N</td>\n",
       "      <td>NaN</td>\n",
       "      <td>NaN</td>\n",
       "      <td>NaN</td>\n",
       "      <td>NaN</td>\n",
       "      <td>...</td>\n",
       "      <td>NaN</td>\n",
       "      <td>P290153</td>\n",
       "      <td>2</td>\n",
       "      <td>1</td>\n",
       "      <td>Y</td>\n",
       "      <td>9</td>\n",
       "      <td>0</td>\n",
       "      <td>5000000</td>\n",
       "      <td>0</td>\n",
       "      <td>5000000</td>\n",
       "    </tr>\n",
       "    <tr>\n",
       "      <th>2</th>\n",
       "      <td>CLM58861</td>\n",
       "      <td>lessthan100K</td>\n",
       "      <td>10/20/2000</td>\n",
       "      <td>2000-11-02</td>\n",
       "      <td>3700</td>\n",
       "      <td>N</td>\n",
       "      <td>NaN</td>\n",
       "      <td>NaN</td>\n",
       "      <td>NaN</td>\n",
       "      <td>NaN</td>\n",
       "      <td>...</td>\n",
       "      <td>NaN</td>\n",
       "      <td>P282861</td>\n",
       "      <td>2</td>\n",
       "      <td>1</td>\n",
       "      <td>Y</td>\n",
       "      <td>6</td>\n",
       "      <td>0</td>\n",
       "      <td>0</td>\n",
       "      <td>5000000</td>\n",
       "      <td>5000000</td>\n",
       "    </tr>\n",
       "    <tr>\n",
       "      <th>3</th>\n",
       "      <td>CLM67972</td>\n",
       "      <td>200KandAbove</td>\n",
       "      <td>8/9/2003</td>\n",
       "      <td>2003-08-11</td>\n",
       "      <td>1600</td>\n",
       "      <td>NaN</td>\n",
       "      <td>A</td>\n",
       "      <td>NaN</td>\n",
       "      <td>NaN</td>\n",
       "      <td>NaN</td>\n",
       "      <td>...</td>\n",
       "      <td>NaN</td>\n",
       "      <td>P291972</td>\n",
       "      <td>4</td>\n",
       "      <td>2</td>\n",
       "      <td>N</td>\n",
       "      <td>20</td>\n",
       "      <td>0</td>\n",
       "      <td>1000000</td>\n",
       "      <td>3000000</td>\n",
       "      <td>1000000</td>\n",
       "    </tr>\n",
       "    <tr>\n",
       "      <th>4</th>\n",
       "      <td>CLM69075</td>\n",
       "      <td>lessthan100K</td>\n",
       "      <td>2/25/2004</td>\n",
       "      <td>2004-02-26</td>\n",
       "      <td>5200</td>\n",
       "      <td>NaN</td>\n",
       "      <td>NaN</td>\n",
       "      <td>NaN</td>\n",
       "      <td>NaN</td>\n",
       "      <td>NaN</td>\n",
       "      <td>...</td>\n",
       "      <td>NaN</td>\n",
       "      <td>P293075</td>\n",
       "      <td>2</td>\n",
       "      <td>1</td>\n",
       "      <td>N</td>\n",
       "      <td>6</td>\n",
       "      <td>0</td>\n",
       "      <td>1000000</td>\n",
       "      <td>0</td>\n",
       "      <td>1000000</td>\n",
       "    </tr>\n",
       "  </tbody>\n",
       "</table>\n",
       "<p>5 rows × 65 columns</p>\n",
       "</div>"
      ],
      "text/plain": [
       "    ClaimID     ClaimSize Injury_Date Date_reported  Age_Injured  \\\n",
       "0  CLM56529  lessthan100K    3/9/2000    2000-03-23         5900   \n",
       "1  CLM66153  lessthan100K   12/6/2002    2002-12-10         3700   \n",
       "2  CLM58861  lessthan100K  10/20/2000    2000-11-02         3700   \n",
       "3  CLM67972  200KandAbove    8/9/2003    2003-08-11         1600   \n",
       "4  CLM69075  lessthan100K   2/25/2004    2004-02-26         5200   \n",
       "\n",
       "  Work_related_injury_status Death Amputation Burns_heat Burns_chemical  \\\n",
       "0                          N   NaN        NaN        NaN            NaN   \n",
       "1                          N   NaN        NaN        NaN            NaN   \n",
       "2                          N   NaN        NaN        NaN            NaN   \n",
       "3                        NaN     A        NaN        NaN            NaN   \n",
       "4                        NaN   NaN        NaN        NaN            NaN   \n",
       "\n",
       "          ...          OtherCollateralSources PolicyID PolicyType PolicyForm  \\\n",
       "0         ...                             NaN  P280529          1          1   \n",
       "1         ...                             NaN  P290153          2          1   \n",
       "2         ...                             NaN  P282861          2          1   \n",
       "3         ...                             NaN  P291972          4          2   \n",
       "4         ...                             NaN  P293075          2          1   \n",
       "\n",
       "  Employment_status BusinessClass Perperson_Policylimit  \\\n",
       "0                 Y            17                     0   \n",
       "1                 Y             9                     0   \n",
       "2                 Y             6                     0   \n",
       "3                 N            20                     0   \n",
       "4                 N             6                     0   \n",
       "\n",
       "  PerOccurrence_PolicyLimit CombinedSingleLimit PolicyLimitPerInjury  \n",
       "0                         0             5000000              5000000  \n",
       "1                   5000000                   0              5000000  \n",
       "2                         0             5000000              5000000  \n",
       "3                   1000000             3000000              1000000  \n",
       "4                   1000000                   0              1000000  \n",
       "\n",
       "[5 rows x 65 columns]"
      ]
     },
     "execution_count": 12,
     "metadata": {},
     "output_type": "execute_result"
    }
   ],
   "source": [
    "app_train.head()"
   ]
  },
  {
   "cell_type": "code",
   "execution_count": 13,
   "metadata": {},
   "outputs": [
    {
     "data": {
      "text/html": [
       "<div>\n",
       "<style scoped>\n",
       "    .dataframe tbody tr th:only-of-type {\n",
       "        vertical-align: middle;\n",
       "    }\n",
       "\n",
       "    .dataframe tbody tr th {\n",
       "        vertical-align: top;\n",
       "    }\n",
       "\n",
       "    .dataframe thead th {\n",
       "        text-align: right;\n",
       "    }\n",
       "</style>\n",
       "<table border=\"1\" class=\"dataframe\">\n",
       "  <thead>\n",
       "    <tr style=\"text-align: right;\">\n",
       "      <th></th>\n",
       "      <th>ClaimID</th>\n",
       "      <th>ClaimSize</th>\n",
       "      <th>Injury_Date</th>\n",
       "      <th>Date_reported</th>\n",
       "      <th>Age_Injured</th>\n",
       "      <th>Work_related_injury_status</th>\n",
       "      <th>Death</th>\n",
       "      <th>Amputation</th>\n",
       "      <th>Burns_heat</th>\n",
       "      <th>Burns_chemical</th>\n",
       "      <th>...</th>\n",
       "      <th>OtherCollateralSources</th>\n",
       "      <th>PolicyID</th>\n",
       "      <th>PolicyType</th>\n",
       "      <th>PolicyForm</th>\n",
       "      <th>Employment_status</th>\n",
       "      <th>BusinessClass</th>\n",
       "      <th>Perperson_Policylimit</th>\n",
       "      <th>PerOccurrence_PolicyLimit</th>\n",
       "      <th>CombinedSingleLimit</th>\n",
       "      <th>PolicyLimitPerInjury</th>\n",
       "    </tr>\n",
       "  </thead>\n",
       "  <tbody>\n",
       "    <tr>\n",
       "      <th>0</th>\n",
       "      <td>CLM56529</td>\n",
       "      <td>lessthan100K</td>\n",
       "      <td>3/9/2000</td>\n",
       "      <td>2000-03-23</td>\n",
       "      <td>5900</td>\n",
       "      <td>N</td>\n",
       "      <td></td>\n",
       "      <td></td>\n",
       "      <td></td>\n",
       "      <td></td>\n",
       "      <td>...</td>\n",
       "      <td></td>\n",
       "      <td>P280529</td>\n",
       "      <td>1</td>\n",
       "      <td>1</td>\n",
       "      <td>Y</td>\n",
       "      <td>17</td>\n",
       "      <td>0</td>\n",
       "      <td>0</td>\n",
       "      <td>5000000</td>\n",
       "      <td>5000000</td>\n",
       "    </tr>\n",
       "    <tr>\n",
       "      <th>1</th>\n",
       "      <td>CLM66153</td>\n",
       "      <td>lessthan100K</td>\n",
       "      <td>12/6/2002</td>\n",
       "      <td>2002-12-10</td>\n",
       "      <td>3700</td>\n",
       "      <td>N</td>\n",
       "      <td></td>\n",
       "      <td></td>\n",
       "      <td></td>\n",
       "      <td></td>\n",
       "      <td>...</td>\n",
       "      <td></td>\n",
       "      <td>P290153</td>\n",
       "      <td>2</td>\n",
       "      <td>1</td>\n",
       "      <td>Y</td>\n",
       "      <td>9</td>\n",
       "      <td>0</td>\n",
       "      <td>5000000</td>\n",
       "      <td>0</td>\n",
       "      <td>5000000</td>\n",
       "    </tr>\n",
       "    <tr>\n",
       "      <th>2</th>\n",
       "      <td>CLM58861</td>\n",
       "      <td>lessthan100K</td>\n",
       "      <td>10/20/2000</td>\n",
       "      <td>2000-11-02</td>\n",
       "      <td>3700</td>\n",
       "      <td>N</td>\n",
       "      <td></td>\n",
       "      <td></td>\n",
       "      <td></td>\n",
       "      <td></td>\n",
       "      <td>...</td>\n",
       "      <td></td>\n",
       "      <td>P282861</td>\n",
       "      <td>2</td>\n",
       "      <td>1</td>\n",
       "      <td>Y</td>\n",
       "      <td>6</td>\n",
       "      <td>0</td>\n",
       "      <td>0</td>\n",
       "      <td>5000000</td>\n",
       "      <td>5000000</td>\n",
       "    </tr>\n",
       "    <tr>\n",
       "      <th>3</th>\n",
       "      <td>CLM67972</td>\n",
       "      <td>200KandAbove</td>\n",
       "      <td>8/9/2003</td>\n",
       "      <td>2003-08-11</td>\n",
       "      <td>1600</td>\n",
       "      <td></td>\n",
       "      <td>A</td>\n",
       "      <td></td>\n",
       "      <td></td>\n",
       "      <td></td>\n",
       "      <td>...</td>\n",
       "      <td></td>\n",
       "      <td>P291972</td>\n",
       "      <td>4</td>\n",
       "      <td>2</td>\n",
       "      <td>N</td>\n",
       "      <td>20</td>\n",
       "      <td>0</td>\n",
       "      <td>1000000</td>\n",
       "      <td>3000000</td>\n",
       "      <td>1000000</td>\n",
       "    </tr>\n",
       "    <tr>\n",
       "      <th>4</th>\n",
       "      <td>CLM69075</td>\n",
       "      <td>lessthan100K</td>\n",
       "      <td>2/25/2004</td>\n",
       "      <td>2004-02-26</td>\n",
       "      <td>5200</td>\n",
       "      <td></td>\n",
       "      <td></td>\n",
       "      <td></td>\n",
       "      <td></td>\n",
       "      <td></td>\n",
       "      <td>...</td>\n",
       "      <td></td>\n",
       "      <td>P293075</td>\n",
       "      <td>2</td>\n",
       "      <td>1</td>\n",
       "      <td>N</td>\n",
       "      <td>6</td>\n",
       "      <td>0</td>\n",
       "      <td>1000000</td>\n",
       "      <td>0</td>\n",
       "      <td>1000000</td>\n",
       "    </tr>\n",
       "  </tbody>\n",
       "</table>\n",
       "<p>5 rows × 65 columns</p>\n",
       "</div>"
      ],
      "text/plain": [
       "    ClaimID     ClaimSize Injury_Date Date_reported  Age_Injured  \\\n",
       "0  CLM56529  lessthan100K    3/9/2000    2000-03-23         5900   \n",
       "1  CLM66153  lessthan100K   12/6/2002    2002-12-10         3700   \n",
       "2  CLM58861  lessthan100K  10/20/2000    2000-11-02         3700   \n",
       "3  CLM67972  200KandAbove    8/9/2003    2003-08-11         1600   \n",
       "4  CLM69075  lessthan100K   2/25/2004    2004-02-26         5200   \n",
       "\n",
       "  Work_related_injury_status Death Amputation Burns_heat Burns_chemical  \\\n",
       "0                          N                                              \n",
       "1                          N                                              \n",
       "2                          N                                              \n",
       "3                                A                                        \n",
       "4                                                                         \n",
       "\n",
       "          ...          OtherCollateralSources PolicyID PolicyType PolicyForm  \\\n",
       "0         ...                                  P280529          1          1   \n",
       "1         ...                                  P290153          2          1   \n",
       "2         ...                                  P282861          2          1   \n",
       "3         ...                                  P291972          4          2   \n",
       "4         ...                                  P293075          2          1   \n",
       "\n",
       "  Employment_status BusinessClass Perperson_Policylimit  \\\n",
       "0                 Y            17                     0   \n",
       "1                 Y             9                     0   \n",
       "2                 Y             6                     0   \n",
       "3                 N            20                     0   \n",
       "4                 N             6                     0   \n",
       "\n",
       "  PerOccurrence_PolicyLimit CombinedSingleLimit PolicyLimitPerInjury  \n",
       "0                         0             5000000              5000000  \n",
       "1                   5000000                   0              5000000  \n",
       "2                         0             5000000              5000000  \n",
       "3                   1000000             3000000              1000000  \n",
       "4                   1000000                   0              1000000  \n",
       "\n",
       "[5 rows x 65 columns]"
      ]
     },
     "execution_count": 13,
     "metadata": {},
     "output_type": "execute_result"
    }
   ],
   "source": [
    "app_train_empty.head()"
   ]
  },
  {
   "cell_type": "code",
   "execution_count": 14,
   "metadata": {
    "scrolled": false
   },
   "outputs": [
    {
     "data": {
      "text/html": [
       "<div>\n",
       "<style scoped>\n",
       "    .dataframe tbody tr th:only-of-type {\n",
       "        vertical-align: middle;\n",
       "    }\n",
       "\n",
       "    .dataframe tbody tr th {\n",
       "        vertical-align: top;\n",
       "    }\n",
       "\n",
       "    .dataframe thead th {\n",
       "        text-align: right;\n",
       "    }\n",
       "</style>\n",
       "<table border=\"1\" class=\"dataframe\">\n",
       "  <thead>\n",
       "    <tr style=\"text-align: right;\">\n",
       "      <th></th>\n",
       "      <th>ClaimID</th>\n",
       "      <th>ClaimSize</th>\n",
       "      <th>Injury_Date</th>\n",
       "      <th>Date_reported</th>\n",
       "      <th>Age_Injured</th>\n",
       "      <th>Work_related_injury_status</th>\n",
       "      <th>Death</th>\n",
       "      <th>Amputation</th>\n",
       "      <th>Burns_heat</th>\n",
       "      <th>Burns_chemical</th>\n",
       "      <th>...</th>\n",
       "      <th>OtherCollateralSources</th>\n",
       "      <th>PolicyID</th>\n",
       "      <th>PolicyType</th>\n",
       "      <th>PolicyForm</th>\n",
       "      <th>Employment_status</th>\n",
       "      <th>BusinessClass</th>\n",
       "      <th>Perperson_Policylimit</th>\n",
       "      <th>PerOccurrence_PolicyLimit</th>\n",
       "      <th>CombinedSingleLimit</th>\n",
       "      <th>PolicyLimitPerInjury</th>\n",
       "    </tr>\n",
       "  </thead>\n",
       "  <tbody>\n",
       "    <tr>\n",
       "      <th>0</th>\n",
       "      <td>CLM51003</td>\n",
       "      <td>lessthan100K</td>\n",
       "      <td>5/18/1989</td>\n",
       "      <td>1989-11-28</td>\n",
       "      <td>4600</td>\n",
       "      <td>Y</td>\n",
       "      <td>NaN</td>\n",
       "      <td>NaN</td>\n",
       "      <td>C</td>\n",
       "      <td>NaN</td>\n",
       "      <td>...</td>\n",
       "      <td>NaN</td>\n",
       "      <td>P275003</td>\n",
       "      <td>1</td>\n",
       "      <td>1</td>\n",
       "      <td>Y</td>\n",
       "      <td>6</td>\n",
       "      <td>0</td>\n",
       "      <td>0</td>\n",
       "      <td>2500000</td>\n",
       "      <td>2500000</td>\n",
       "    </tr>\n",
       "    <tr>\n",
       "      <th>1</th>\n",
       "      <td>CLM51006</td>\n",
       "      <td>lessthan100K</td>\n",
       "      <td>5/17/1989</td>\n",
       "      <td>1990-02-20</td>\n",
       "      <td>3100</td>\n",
       "      <td>NaN</td>\n",
       "      <td>NaN</td>\n",
       "      <td>NaN</td>\n",
       "      <td>NaN</td>\n",
       "      <td>NaN</td>\n",
       "      <td>...</td>\n",
       "      <td>NaN</td>\n",
       "      <td>P275006</td>\n",
       "      <td>1</td>\n",
       "      <td>1</td>\n",
       "      <td>N</td>\n",
       "      <td>26</td>\n",
       "      <td>0</td>\n",
       "      <td>1000000</td>\n",
       "      <td>0</td>\n",
       "      <td>1000000</td>\n",
       "    </tr>\n",
       "    <tr>\n",
       "      <th>2</th>\n",
       "      <td>CLM51016</td>\n",
       "      <td>lessthan100K</td>\n",
       "      <td>5/11/1992</td>\n",
       "      <td>1992-06-23</td>\n",
       "      <td>1400</td>\n",
       "      <td>NaN</td>\n",
       "      <td>NaN</td>\n",
       "      <td>NaN</td>\n",
       "      <td>NaN</td>\n",
       "      <td>NaN</td>\n",
       "      <td>...</td>\n",
       "      <td>NaN</td>\n",
       "      <td>P275016</td>\n",
       "      <td>2</td>\n",
       "      <td>1</td>\n",
       "      <td>N</td>\n",
       "      <td>7</td>\n",
       "      <td>0</td>\n",
       "      <td>0</td>\n",
       "      <td>2000000</td>\n",
       "      <td>2000000</td>\n",
       "    </tr>\n",
       "    <tr>\n",
       "      <th>3</th>\n",
       "      <td>CLM51017</td>\n",
       "      <td>lessthan100K</td>\n",
       "      <td>5/11/1992</td>\n",
       "      <td>1992-06-23</td>\n",
       "      <td>4400</td>\n",
       "      <td>N</td>\n",
       "      <td>NaN</td>\n",
       "      <td>NaN</td>\n",
       "      <td>NaN</td>\n",
       "      <td>NaN</td>\n",
       "      <td>...</td>\n",
       "      <td>NaN</td>\n",
       "      <td>P275017</td>\n",
       "      <td>2</td>\n",
       "      <td>1</td>\n",
       "      <td>Y</td>\n",
       "      <td>7</td>\n",
       "      <td>0</td>\n",
       "      <td>0</td>\n",
       "      <td>2000000</td>\n",
       "      <td>2000000</td>\n",
       "    </tr>\n",
       "    <tr>\n",
       "      <th>4</th>\n",
       "      <td>CLM51020</td>\n",
       "      <td>lessthan100K</td>\n",
       "      <td>12/20/1992</td>\n",
       "      <td>1993-01-07</td>\n",
       "      <td>4200</td>\n",
       "      <td>N</td>\n",
       "      <td>A</td>\n",
       "      <td>NaN</td>\n",
       "      <td>NaN</td>\n",
       "      <td>NaN</td>\n",
       "      <td>...</td>\n",
       "      <td>NaN</td>\n",
       "      <td>P275020</td>\n",
       "      <td>2</td>\n",
       "      <td>1</td>\n",
       "      <td>Y</td>\n",
       "      <td>7</td>\n",
       "      <td>0</td>\n",
       "      <td>0</td>\n",
       "      <td>100000</td>\n",
       "      <td>100000</td>\n",
       "    </tr>\n",
       "  </tbody>\n",
       "</table>\n",
       "<p>5 rows × 65 columns</p>\n",
       "</div>"
      ],
      "text/plain": [
       "    ClaimID     ClaimSize Injury_Date Date_reported  Age_Injured  \\\n",
       "0  CLM51003  lessthan100K   5/18/1989    1989-11-28         4600   \n",
       "1  CLM51006  lessthan100K   5/17/1989    1990-02-20         3100   \n",
       "2  CLM51016  lessthan100K   5/11/1992    1992-06-23         1400   \n",
       "3  CLM51017  lessthan100K   5/11/1992    1992-06-23         4400   \n",
       "4  CLM51020  lessthan100K  12/20/1992    1993-01-07         4200   \n",
       "\n",
       "  Work_related_injury_status Death Amputation Burns_heat Burns_chemical  \\\n",
       "0                          Y   NaN        NaN          C            NaN   \n",
       "1                        NaN   NaN        NaN        NaN            NaN   \n",
       "2                        NaN   NaN        NaN        NaN            NaN   \n",
       "3                          N   NaN        NaN        NaN            NaN   \n",
       "4                          N     A        NaN        NaN            NaN   \n",
       "\n",
       "          ...          OtherCollateralSources PolicyID PolicyType PolicyForm  \\\n",
       "0         ...                             NaN  P275003          1          1   \n",
       "1         ...                             NaN  P275006          1          1   \n",
       "2         ...                             NaN  P275016          2          1   \n",
       "3         ...                             NaN  P275017          2          1   \n",
       "4         ...                             NaN  P275020          2          1   \n",
       "\n",
       "  Employment_status BusinessClass Perperson_Policylimit  \\\n",
       "0                 Y             6                     0   \n",
       "1                 N            26                     0   \n",
       "2                 N             7                     0   \n",
       "3                 Y             7                     0   \n",
       "4                 Y             7                     0   \n",
       "\n",
       "  PerOccurrence_PolicyLimit CombinedSingleLimit PolicyLimitPerInjury  \n",
       "0                         0             2500000              2500000  \n",
       "1                   1000000                   0              1000000  \n",
       "2                         0             2000000              2000000  \n",
       "3                         0             2000000              2000000  \n",
       "4                         0              100000               100000  \n",
       "\n",
       "[5 rows x 65 columns]"
      ]
     },
     "execution_count": 14,
     "metadata": {},
     "output_type": "execute_result"
    }
   ],
   "source": [
    "#reordering the test columns based of train\n",
    "column_titles = list(app_train.columns.values)\n",
    "app_test.reindex(columns=column_titles).head()\n"
   ]
  },
  {
   "cell_type": "code",
   "execution_count": 15,
   "metadata": {},
   "outputs": [
    {
     "data": {
      "text/html": [
       "<div>\n",
       "<style scoped>\n",
       "    .dataframe tbody tr th:only-of-type {\n",
       "        vertical-align: middle;\n",
       "    }\n",
       "\n",
       "    .dataframe tbody tr th {\n",
       "        vertical-align: top;\n",
       "    }\n",
       "\n",
       "    .dataframe thead th {\n",
       "        text-align: right;\n",
       "    }\n",
       "</style>\n",
       "<table border=\"1\" class=\"dataframe\">\n",
       "  <thead>\n",
       "    <tr style=\"text-align: right;\">\n",
       "      <th></th>\n",
       "      <th>ClaimID</th>\n",
       "      <th>ClaimSize</th>\n",
       "      <th>Injury_Date</th>\n",
       "      <th>Date_reported</th>\n",
       "      <th>Age_Injured</th>\n",
       "      <th>Work_related_injury_status</th>\n",
       "      <th>Death</th>\n",
       "      <th>Amputation</th>\n",
       "      <th>Burns_heat</th>\n",
       "      <th>Burns_chemical</th>\n",
       "      <th>...</th>\n",
       "      <th>OtherCollateralSources</th>\n",
       "      <th>PolicyID</th>\n",
       "      <th>PolicyType</th>\n",
       "      <th>PolicyForm</th>\n",
       "      <th>Employment_status</th>\n",
       "      <th>BusinessClass</th>\n",
       "      <th>Perperson_Policylimit</th>\n",
       "      <th>PerOccurrence_PolicyLimit</th>\n",
       "      <th>CombinedSingleLimit</th>\n",
       "      <th>PolicyLimitPerInjury</th>\n",
       "    </tr>\n",
       "  </thead>\n",
       "  <tbody>\n",
       "    <tr>\n",
       "      <th>0</th>\n",
       "      <td>CLM51003</td>\n",
       "      <td>lessthan100K</td>\n",
       "      <td>5/18/1989</td>\n",
       "      <td>1989-11-28</td>\n",
       "      <td>4600</td>\n",
       "      <td>Y</td>\n",
       "      <td></td>\n",
       "      <td></td>\n",
       "      <td>C</td>\n",
       "      <td></td>\n",
       "      <td>...</td>\n",
       "      <td></td>\n",
       "      <td>P275003</td>\n",
       "      <td>1</td>\n",
       "      <td>1</td>\n",
       "      <td>Y</td>\n",
       "      <td>6</td>\n",
       "      <td>0</td>\n",
       "      <td>0</td>\n",
       "      <td>2500000</td>\n",
       "      <td>2500000</td>\n",
       "    </tr>\n",
       "    <tr>\n",
       "      <th>1</th>\n",
       "      <td>CLM51006</td>\n",
       "      <td>lessthan100K</td>\n",
       "      <td>5/17/1989</td>\n",
       "      <td>1990-02-20</td>\n",
       "      <td>3100</td>\n",
       "      <td></td>\n",
       "      <td></td>\n",
       "      <td></td>\n",
       "      <td></td>\n",
       "      <td></td>\n",
       "      <td>...</td>\n",
       "      <td></td>\n",
       "      <td>P275006</td>\n",
       "      <td>1</td>\n",
       "      <td>1</td>\n",
       "      <td>N</td>\n",
       "      <td>26</td>\n",
       "      <td>0</td>\n",
       "      <td>1000000</td>\n",
       "      <td>0</td>\n",
       "      <td>1000000</td>\n",
       "    </tr>\n",
       "    <tr>\n",
       "      <th>2</th>\n",
       "      <td>CLM51016</td>\n",
       "      <td>lessthan100K</td>\n",
       "      <td>5/11/1992</td>\n",
       "      <td>1992-06-23</td>\n",
       "      <td>1400</td>\n",
       "      <td></td>\n",
       "      <td></td>\n",
       "      <td></td>\n",
       "      <td></td>\n",
       "      <td></td>\n",
       "      <td>...</td>\n",
       "      <td></td>\n",
       "      <td>P275016</td>\n",
       "      <td>2</td>\n",
       "      <td>1</td>\n",
       "      <td>N</td>\n",
       "      <td>7</td>\n",
       "      <td>0</td>\n",
       "      <td>0</td>\n",
       "      <td>2000000</td>\n",
       "      <td>2000000</td>\n",
       "    </tr>\n",
       "    <tr>\n",
       "      <th>3</th>\n",
       "      <td>CLM51017</td>\n",
       "      <td>lessthan100K</td>\n",
       "      <td>5/11/1992</td>\n",
       "      <td>1992-06-23</td>\n",
       "      <td>4400</td>\n",
       "      <td>N</td>\n",
       "      <td></td>\n",
       "      <td></td>\n",
       "      <td></td>\n",
       "      <td></td>\n",
       "      <td>...</td>\n",
       "      <td></td>\n",
       "      <td>P275017</td>\n",
       "      <td>2</td>\n",
       "      <td>1</td>\n",
       "      <td>Y</td>\n",
       "      <td>7</td>\n",
       "      <td>0</td>\n",
       "      <td>0</td>\n",
       "      <td>2000000</td>\n",
       "      <td>2000000</td>\n",
       "    </tr>\n",
       "    <tr>\n",
       "      <th>4</th>\n",
       "      <td>CLM51020</td>\n",
       "      <td>lessthan100K</td>\n",
       "      <td>12/20/1992</td>\n",
       "      <td>1993-01-07</td>\n",
       "      <td>4200</td>\n",
       "      <td>N</td>\n",
       "      <td>A</td>\n",
       "      <td></td>\n",
       "      <td></td>\n",
       "      <td></td>\n",
       "      <td>...</td>\n",
       "      <td></td>\n",
       "      <td>P275020</td>\n",
       "      <td>2</td>\n",
       "      <td>1</td>\n",
       "      <td>Y</td>\n",
       "      <td>7</td>\n",
       "      <td>0</td>\n",
       "      <td>0</td>\n",
       "      <td>100000</td>\n",
       "      <td>100000</td>\n",
       "    </tr>\n",
       "  </tbody>\n",
       "</table>\n",
       "<p>5 rows × 65 columns</p>\n",
       "</div>"
      ],
      "text/plain": [
       "    ClaimID     ClaimSize Injury_Date Date_reported  Age_Injured  \\\n",
       "0  CLM51003  lessthan100K   5/18/1989    1989-11-28         4600   \n",
       "1  CLM51006  lessthan100K   5/17/1989    1990-02-20         3100   \n",
       "2  CLM51016  lessthan100K   5/11/1992    1992-06-23         1400   \n",
       "3  CLM51017  lessthan100K   5/11/1992    1992-06-23         4400   \n",
       "4  CLM51020  lessthan100K  12/20/1992    1993-01-07         4200   \n",
       "\n",
       "  Work_related_injury_status Death Amputation Burns_heat Burns_chemical  \\\n",
       "0                          Y                           C                  \n",
       "1                                                                         \n",
       "2                                                                         \n",
       "3                          N                                              \n",
       "4                          N     A                                        \n",
       "\n",
       "          ...          OtherCollateralSources PolicyID PolicyType PolicyForm  \\\n",
       "0         ...                                  P275003          1          1   \n",
       "1         ...                                  P275006          1          1   \n",
       "2         ...                                  P275016          2          1   \n",
       "3         ...                                  P275017          2          1   \n",
       "4         ...                                  P275020          2          1   \n",
       "\n",
       "  Employment_status BusinessClass Perperson_Policylimit  \\\n",
       "0                 Y             6                     0   \n",
       "1                 N            26                     0   \n",
       "2                 N             7                     0   \n",
       "3                 Y             7                     0   \n",
       "4                 Y             7                     0   \n",
       "\n",
       "  PerOccurrence_PolicyLimit CombinedSingleLimit PolicyLimitPerInjury  \n",
       "0                         0             2500000              2500000  \n",
       "1                   1000000                   0              1000000  \n",
       "2                         0             2000000              2000000  \n",
       "3                         0             2000000              2000000  \n",
       "4                         0              100000               100000  \n",
       "\n",
       "[5 rows x 65 columns]"
      ]
     },
     "execution_count": 15,
     "metadata": {},
     "output_type": "execute_result"
    }
   ],
   "source": [
    "app_test_empty.reindex(columns=column_titles).head()"
   ]
  },
  {
   "cell_type": "markdown",
   "metadata": {},
   "source": [
    "### checking for missing values"
   ]
  },
  {
   "cell_type": "code",
   "execution_count": 16,
   "metadata": {},
   "outputs": [
    {
     "data": {
      "text/plain": [
       "ClaimID                                                 0\n",
       "ClaimSize                                               0\n",
       "Injury_Date                                             0\n",
       "Date_reported                                           0\n",
       "Age_Injured                                             0\n",
       "Work_related_injury_status                           5050\n",
       "Death                                               12707\n",
       "Amputation                                          14266\n",
       "Burns_heat                                          14220\n",
       "Burns_chemical                                      14350\n",
       "SystemicPoisoning_toxic                             14366\n",
       "SystemicPoisoning_other                             14389\n",
       "Eye_injury_blindness                                14287\n",
       "RespiratoryCondition                                14319\n",
       "NervousCondition                                    14281\n",
       "HearingLoss                                         14357\n",
       "CirculatoryCondition                                14325\n",
       "MultipleInjuries                                     9257\n",
       "BackInjury                                           8709\n",
       "SkinDisorder                                        14340\n",
       "BrainDamage                                         14045\n",
       "Scarring                                            13864\n",
       "SpinalCordInjuries                                  14221\n",
       "OtherInjuries                                       11156\n",
       "OffRoadVehicle                                      14266\n",
       "AirTransportation                                   14411\n",
       "Railway                                             14379\n",
       "OtherMotorVehicle                                    5449\n",
       "SurgicalCare                                        12890\n",
       "Falls                                               12403\n",
       "                                                    ...  \n",
       "Explosions                                          14347\n",
       "UseOfAgrlMachinery                                  14398\n",
       "Oil_gasExtraction                                   14372\n",
       "OtherModeOfInjury                                   12930\n",
       "Non_economicloss                                        0\n",
       "Exemplarydamages                                        0\n",
       "WhetherPrimaFacie_JointandSeveralLiability              0\n",
       "WorkersCompAvailability                                 0\n",
       "CollateralSourcesAvailability                           0\n",
       "MedicalInsurance                                    11874\n",
       "DisabilityInsurance                                 14252\n",
       "SocialSecurityBenefits                              14245\n",
       "Medicare_Medicaid                                   13557\n",
       "Anyothercontributors                                    0\n",
       "AnyMultipleInterestedparties                            0\n",
       "Match_Multiclaimant_multiInterestedparties_claim    11662\n",
       "PrimaFacie_percentagefault_injured                      0\n",
       "PrimaFacie_percentagefault_insured                      0\n",
       "PrimaFacie_percentagefault_otherinsured                 0\n",
       "PrimaFacie_percentagefault_uninsured                    0\n",
       "OtherCollateralSources                              14192\n",
       "PolicyID                                                0\n",
       "PolicyType                                              0\n",
       "PolicyForm                                              0\n",
       "Employment_status                                       0\n",
       "BusinessClass                                           0\n",
       "Perperson_Policylimit                                   0\n",
       "PerOccurrence_PolicyLimit                               0\n",
       "CombinedSingleLimit                                     0\n",
       "PolicyLimitPerInjury                                    0\n",
       "Length: 65, dtype: int64"
      ]
     },
     "execution_count": 16,
     "metadata": {},
     "output_type": "execute_result"
    }
   ],
   "source": [
    "app_train.isnull().sum()"
   ]
  },
  {
   "cell_type": "code",
   "execution_count": 17,
   "metadata": {
    "scrolled": true
   },
   "outputs": [
    {
     "data": {
      "text/plain": [
       "ClaimID                                                0\n",
       "ClaimSize                                              0\n",
       "Injury_Date                                            0\n",
       "Date_reported                                          0\n",
       "Age_Injured                                            0\n",
       "Work_related_injury_status                          1707\n",
       "Amputation                                          4760\n",
       "Death                                               4214\n",
       "Burns_heat                                          4748\n",
       "Burns_chemical                                      4779\n",
       "SystemicPoisoning_toxic                             4791\n",
       "SystemicPoisoning_other                             4802\n",
       "Eye_injury_blindness                                4767\n",
       "RespiratoryCondition                                4777\n",
       "NervousCondition                                    4767\n",
       "HearingLoss                                         4785\n",
       "CirculatoryCondition                                4775\n",
       "MultipleInjuries                                    3056\n",
       "BackInjury                                          2942\n",
       "SkinDisorder                                        4781\n",
       "BrainDamage                                         4693\n",
       "Scarring                                            4635\n",
       "SpinalCordInjuries                                  4732\n",
       "OtherInjuries                                       3725\n",
       "OffRoadVehicle                                      4759\n",
       "AirTransportation                                   4801\n",
       "Railway                                             4782\n",
       "OtherMotorVehicle                                   1779\n",
       "SurgicalCare                                        4346\n",
       "Falls                                               4171\n",
       "                                                    ... \n",
       "Explosions                                          4784\n",
       "UseOfAgrlMachinery                                  4799\n",
       "Oil_gasExtraction                                   4784\n",
       "OtherModeOfInjury                                   4276\n",
       "Non_economicloss                                       0\n",
       "Exemplarydamages                                       0\n",
       "WhetherPrimaFacie_JointandSeveralLiability             0\n",
       "WorkersCompAvailability                                0\n",
       "CollateralSourcesAvailability                          0\n",
       "MedicalInsurance                                    3950\n",
       "DisabilityInsurance                                 4751\n",
       "SocialSecurityBenefits                              4739\n",
       "Medicare_Medicaid                                   4497\n",
       "Anyothercontributors                                   0\n",
       "AnyMultipleInterestedparties                           0\n",
       "Match_Multiclaimant_multiInterestedparties_claim    3906\n",
       "PrimaFacie_percentagefault_injured                     0\n",
       "PrimaFacie_percentagefault_insured                     0\n",
       "PrimaFacie_percentagefault_otherinsured                0\n",
       "PrimaFacie_percentagefault_uninsured                   0\n",
       "OtherCollateralSources                              4724\n",
       "PolicyID                                               0\n",
       "PolicyType                                             0\n",
       "PolicyForm                                             0\n",
       "Employment_status                                      0\n",
       "BusinessClass                                          0\n",
       "Perperson_Policylimit                                  0\n",
       "PerOccurrence_PolicyLimit                              0\n",
       "CombinedSingleLimit                                    0\n",
       "PolicyLimitPerInjury                                   0\n",
       "Length: 65, dtype: int64"
      ]
     },
     "execution_count": 17,
     "metadata": {},
     "output_type": "execute_result"
    }
   ],
   "source": [
    "app_test.isnull().sum()"
   ]
  },
  {
   "cell_type": "code",
   "execution_count": 18,
   "metadata": {},
   "outputs": [
    {
     "data": {
      "text/plain": [
       "Work_related_injury_status                          35.028092\n",
       "Death                                               88.139003\n",
       "Amputation                                          98.952625\n",
       "Burns_heat                                          98.633558\n",
       "Burns_chemical                                      99.535271\n",
       "SystemicPoisoning_toxic                             99.646251\n",
       "SystemicPoisoning_other                             99.805785\n",
       "Eye_injury_blindness                                99.098287\n",
       "RespiratoryCondition                                99.320247\n",
       "NervousCondition                                    99.056669\n",
       "HearingLoss                                         99.583825\n",
       "CirculatoryCondition                                99.361864\n",
       "MultipleInjuries                                    64.208920\n",
       "BackInjury                                          60.407852\n",
       "SkinDisorder                                        99.465908\n",
       "BrainDamage                                         97.419713\n",
       "Scarring                                            96.164251\n",
       "SpinalCordInjuries                                  98.640494\n",
       "OtherInjuries                                       77.380870\n",
       "OffRoadVehicle                                      98.952625\n",
       "AirTransportation                                   99.958382\n",
       "Railway                                             99.736422\n",
       "OtherMotorVehicle                                   37.795658\n",
       "SurgicalCare                                        89.408337\n",
       "Falls                                               86.030381\n",
       "Drowning                                            99.771104\n",
       "UseOfDefectiveProduct                               98.494832\n",
       "Fire                                                99.403482\n",
       "Firearm                                             99.771104\n",
       "Pollution_ToxicExposure                             99.729486\n",
       "Explosions                                          99.514462\n",
       "UseOfAgrlMachinery                                  99.868211\n",
       "Oil_gasExtraction                                   99.687868\n",
       "OtherModeOfInjury                                   89.685788\n",
       "MedicalInsurance                                    82.361101\n",
       "DisabilityInsurance                                 98.855518\n",
       "SocialSecurityBenefits                              98.806964\n",
       "Medicare_Medicaid                                   94.034820\n",
       "Match_Multiclaimant_multiInterestedparties_claim    80.890615\n",
       "OtherCollateralSources                              98.439342\n",
       "dtype: float64"
      ]
     },
     "execution_count": 18,
     "metadata": {},
     "output_type": "execute_result"
    }
   ],
   "source": [
    "#getting percentage of missing values \n",
    "empty_result = app_train[app_train.columns].apply(lambda x: 100* x.isnull().sum()/len(app_train))\n",
    "empty_result = empty_result[empty_result>30]\n",
    "empty_result"
   ]
  },
  {
   "cell_type": "code",
   "execution_count": 19,
   "metadata": {},
   "outputs": [
    {
     "data": {
      "text/plain": [
       "pandas.core.series.Series"
      ]
     },
     "execution_count": 19,
     "metadata": {},
     "output_type": "execute_result"
    }
   ],
   "source": [
    "type(empty_result)"
   ]
  },
  {
   "cell_type": "code",
   "execution_count": 20,
   "metadata": {
    "scrolled": true
   },
   "outputs": [
    {
     "name": "stdout",
     "output_type": "stream",
     "text": [
      "<class 'pandas.core.frame.DataFrame'>\n",
      "Int64Index: 14417 entries, 0 to 14416\n",
      "Data columns (total 17 columns):\n",
      "Death                      1710 non-null object\n",
      "Amputation                 151 non-null object\n",
      "Burns_heat                 197 non-null object\n",
      "Burns_chemical             67 non-null object\n",
      "SystemicPoisoning_toxic    51 non-null object\n",
      "SystemicPoisoning_other    28 non-null object\n",
      "Eye_injury_blindness       130 non-null object\n",
      "RespiratoryCondition       98 non-null object\n",
      "NervousCondition           136 non-null object\n",
      "HearingLoss                60 non-null object\n",
      "CirculatoryCondition       92 non-null object\n",
      "MultipleInjuries           5160 non-null object\n",
      "BackInjury                 5708 non-null object\n",
      "SkinDisorder               77 non-null object\n",
      "BrainDamage                372 non-null object\n",
      "Scarring                   553 non-null object\n",
      "SpinalCordInjuries         196 non-null object\n",
      "dtypes: object(17)\n",
      "memory usage: 2.0+ MB\n"
     ]
    }
   ],
   "source": [
    "app_train[empty_result.index[1:18]].info()"
   ]
  },
  {
   "cell_type": "markdown",
   "metadata": {},
   "source": [
    "# Feature Engineering"
   ]
  },
  {
   "cell_type": "markdown",
   "metadata": {},
   "source": [
    "### Based on Injury type"
   ]
  },
  {
   "cell_type": "code",
   "execution_count": 21,
   "metadata": {
    "scrolled": true
   },
   "outputs": [
    {
     "data": {
      "text/plain": [
       "0    \n",
       "1    \n",
       "2    \n",
       "3    \n",
       "4    \n",
       "Name: SystemicPoisoning_other, dtype: object"
      ]
     },
     "execution_count": 21,
     "metadata": {},
     "output_type": "execute_result"
    }
   ],
   "source": [
    "app_train_empty['SystemicPoisoning_other'].replace('NA','', inplace=True)\n",
    "app_train_empty['SystemicPoisoning_other'].head()"
   ]
  },
  {
   "cell_type": "code",
   "execution_count": 22,
   "metadata": {},
   "outputs": [
    {
     "data": {
      "text/plain": [
       "0    \n",
       "1    \n",
       "2    \n",
       "3    \n",
       "4    \n",
       "Name: SystemicPoisoning_other, dtype: object"
      ]
     },
     "execution_count": 22,
     "metadata": {},
     "output_type": "execute_result"
    }
   ],
   "source": [
    "app_test_empty['SystemicPoisoning_other'].replace('NA','', inplace=True)\n",
    "app_test_empty['SystemicPoisoning_other'].head()"
   ]
  },
  {
   "cell_type": "code",
   "execution_count": 23,
   "metadata": {
    "scrolled": true
   },
   "outputs": [
    {
     "data": {
      "text/plain": [
       "(14417, 48)"
      ]
     },
     "execution_count": 23,
     "metadata": {},
     "output_type": "execute_result"
    }
   ],
   "source": [
    "#based on Injury type\n",
    "cols2 = ['Death','Amputation','Burns_heat','Burns_chemical','SystemicPoisoning_toxic','SystemicPoisoning_other',\n",
    "         'Eye_injury_blindness','RespiratoryCondition','NervousCondition','HearingLoss',\n",
    "         'CirculatoryCondition','MultipleInjuries','BackInjury','SkinDisorder','BrainDamage','Scarring',\n",
    "         'SpinalCordInjuries','OtherInjuries']\n",
    "app_train_empty=app_train_empty.assign(Injury_Type=app_train_empty[cols2].sum(1)).drop(cols2, 1)\n",
    "app_train_empty.shape"
   ]
  },
  {
   "cell_type": "code",
   "execution_count": 24,
   "metadata": {},
   "outputs": [
    {
     "data": {
      "text/plain": [
       "(4806, 48)"
      ]
     },
     "execution_count": 24,
     "metadata": {},
     "output_type": "execute_result"
    }
   ],
   "source": [
    "app_test_empty=app_test_empty.assign(Injury_Type=app_test_empty[cols2].sum(1)).drop(cols2, 1)\n",
    "app_test_empty.shape"
   ]
  },
  {
   "cell_type": "code",
   "execution_count": 25,
   "metadata": {
    "scrolled": true
   },
   "outputs": [
    {
     "data": {
      "text/plain": [
       "M          3671\n",
       "L          3138\n",
       "R          2270\n",
       "A          1516\n",
       "LM         1047\n",
       "MR          479\n",
       "LR          185\n",
       "LP          181\n",
       "O           155\n",
       "C           109\n",
       "B           105\n",
       "Q            95\n",
       "LMR          78\n",
       "LMP          75\n",
       "P            74\n",
       "G            69\n",
       "LO           68\n",
       "AL           55\n",
       "AR           46\n",
       "MP           42\n",
       "E            39\n",
       "MQ           35\n",
       "LMO          33\n",
       "D            32\n",
       "H            30\n",
       "PR           29\n",
       "N            26\n",
       "IM           26\n",
       "MO           21\n",
       "F            19\n",
       "           ... \n",
       "ALR           1\n",
       "KLNR          1\n",
       "ELMQ          1\n",
       "AKR           1\n",
       "FK            1\n",
       "HILM          1\n",
       "MOP           1\n",
       "CDGHILO       1\n",
       "BFK           1\n",
       "AMP           1\n",
       "DLP           1\n",
       "MNPR          1\n",
       "GKPQR         1\n",
       "JOR           1\n",
       "CPR           1\n",
       "BG            1\n",
       "AP            1\n",
       "ILMOPQ        1\n",
       "GLQ           1\n",
       "JKOR          1\n",
       "HIKMR         1\n",
       "DH            1\n",
       "CIM           1\n",
       "LMNPR         1\n",
       "GLOP          1\n",
       "CF            1\n",
       "IJKLP         1\n",
       "EFR           1\n",
       "JMO           1\n",
       "GJLOP         1\n",
       "Name: Injury_Type, Length: 254, dtype: int64"
      ]
     },
     "execution_count": 25,
     "metadata": {},
     "output_type": "execute_result"
    }
   ],
   "source": [
    "app_train_empty['Injury_Type'].value_counts()"
   ]
  },
  {
   "cell_type": "code",
   "execution_count": 26,
   "metadata": {},
   "outputs": [
    {
     "data": {
      "text/plain": [
       "M          1225\n",
       "L          1060\n",
       "R           764\n",
       "A           518\n",
       "LM          358\n",
       "MR          144\n",
       "LP           68\n",
       "LR           62\n",
       "O            46\n",
       "C            37\n",
       "Q            35\n",
       "LMR          34\n",
       "B            27\n",
       "LMP          23\n",
       "LO           22\n",
       "AL           21\n",
       "G            21\n",
       "AR           17\n",
       "P            16\n",
       "MQ           15\n",
       "H            14\n",
       "PR           13\n",
       "E            13\n",
       "K            13\n",
       "D            12\n",
       "I            10\n",
       "BL           10\n",
       "N            10\n",
       "LPR           8\n",
       "MO            7\n",
       "           ... \n",
       "ILMR          1\n",
       "ILPR          1\n",
       "LN            1\n",
       "MOR           1\n",
       "ACH           1\n",
       "CNP           1\n",
       "DLP           1\n",
       "KOR           1\n",
       "CPR           1\n",
       "ALM           1\n",
       "LMQR          1\n",
       "IKR           1\n",
       "IJM           1\n",
       "IMR           1\n",
       "ILMOPQ        1\n",
       "LOQ           1\n",
       "AP            1\n",
       "AD            1\n",
       "BKO           1\n",
       "DGP           1\n",
       "ANR           1\n",
       "GR            1\n",
       "LPQR          1\n",
       "IPR           1\n",
       "LMPR          1\n",
       "ALP           1\n",
       "JLMNOPQ       1\n",
       "AKR           1\n",
       "KLMQ          1\n",
       "BLPQ          1\n",
       "Name: Injury_Type, Length: 140, dtype: int64"
      ]
     },
     "execution_count": 26,
     "metadata": {},
     "output_type": "execute_result"
    }
   ],
   "source": [
    "app_test_empty['Injury_Type'].value_counts()"
   ]
  },
  {
   "cell_type": "code",
   "execution_count": 27,
   "metadata": {},
   "outputs": [
    {
     "data": {
      "text/plain": [
       "0    L\n",
       "1    R\n",
       "2    M\n",
       "3    A\n",
       "4    L\n",
       "Name: Injury_Type, dtype: object"
      ]
     },
     "execution_count": 27,
     "metadata": {},
     "output_type": "execute_result"
    }
   ],
   "source": [
    "app_train_empty['Injury_Type'].head()"
   ]
  },
  {
   "cell_type": "code",
   "execution_count": 28,
   "metadata": {},
   "outputs": [
    {
     "data": {
      "text/plain": [
       "\"pd.crosstab(app_train_empty.Injury_Type,app_train.ClaimSize).plot(kind='bar',figsize=(28,15))\\nplt.Figure(figsize=(20,16), frameon=True)\\nplt.title('ClaimSize Frequency for Injury Type')\\nplt.xlabel('Injury Type')\\nplt.ylabel('Frequency of Clamsize')\\nplt.savefig('Injury_Type_bar_chart', dpi=500)\""
      ]
     },
     "execution_count": 28,
     "metadata": {},
     "output_type": "execute_result"
    }
   ],
   "source": [
    "'''pd.crosstab(app_train_empty.Injury_Type,app_train.ClaimSize).plot(kind='bar',figsize=(28,15))\n",
    "plt.Figure(figsize=(20,16), frameon=True)\n",
    "plt.title('ClaimSize Frequency for Injury Type')\n",
    "plt.xlabel('Injury Type')\n",
    "plt.ylabel('Frequency of Clamsize')\n",
    "plt.savefig('Injury_Type_bar_chart', dpi=500)'''\n",
    "#plt.set_size_inches(18.5, 10.5, forward=True)\n",
    "#fig = matplotlib.pyplot.gcf()\n",
    "#fig.set_size_inches(18.5, 10.5)\n",
    "#fig.savefig('test2png.png', dpi=100)\n"
   ]
  },
  {
   "cell_type": "code",
   "execution_count": 29,
   "metadata": {},
   "outputs": [
    {
     "data": {
      "image/png": "[encoded data removed]",
      "text/plain": [
       "<Figure size 2016x1080 with 1 Axes>"
      ]
     },
     "metadata": {},
     "output_type": "display_data"
    }
   ],
   "source": [
    "app_train_empty.Injury_Type.value_counts().plot(kind='bar',figsize=(28,15))\n",
    "plt.Figure(figsize=(20,16), frameon=True)\n",
    "plt.title('Frequency for Injury Type')\n",
    "plt.xlabel('Injury Type')\n",
    "plt.ylabel('Frequency of Injury_Type')\n",
    "plt.savefig('Injury_Type_bar_chart', dpi=500)"
   ]
  },
  {
   "cell_type": "code",
   "execution_count": 30,
   "metadata": {},
   "outputs": [
    {
     "data": {
      "image/png": "[encoded data removed]",
      "text/plain": [
       "<Figure size 2016x1080 with 1 Axes>"
      ]
     },
     "metadata": {},
     "output_type": "display_data"
    }
   ],
   "source": [
    "app_test_empty.Injury_Type.value_counts().plot(kind='bar',figsize=(28,15))\n",
    "plt.Figure(figsize=(20,16), frameon=True)\n",
    "plt.title('Frequency for Injury Type')\n",
    "plt.xlabel('Injury Type')\n",
    "plt.ylabel('Frequency of Injury_Type')\n",
    "plt.savefig('Injury_Type_bar_chart1', dpi=500)\n"
   ]
  },
  {
   "cell_type": "code",
   "execution_count": 31,
   "metadata": {},
   "outputs": [
    {
     "data": {
      "text/plain": [
       "M        3671\n",
       "L        3138\n",
       "Other    2775\n",
       "R        2270\n",
       "A        1516\n",
       "LM       1047\n",
       "Name: Injury_Type, dtype: int64"
      ]
     },
     "execution_count": 31,
     "metadata": {},
     "output_type": "execute_result"
    }
   ],
   "source": [
    "series = pd.value_counts(app_train_empty.Injury_Type)\n",
    "mask = (series/series.sum() * 100).lt(5)\n",
    "# To replace df['column'] use np.where I.e \n",
    "#df['column'] = np.where(df['column'].isin(series[mask].index),'Other',df['column'])\n",
    "app_train_empty['Injury_Type']=np.where(app_train_empty['Injury_Type'].isin(series[mask].index),'Other',app_train_empty['Injury_Type'])\n",
    "app_train_empty['Injury_Type'].value_counts()"
   ]
  },
  {
   "cell_type": "code",
   "execution_count": 32,
   "metadata": {
    "scrolled": true
   },
   "outputs": [
    {
     "data": {
      "text/plain": [
       "M        1225\n",
       "L        1060\n",
       "Other     881\n",
       "R         764\n",
       "A         518\n",
       "LM        358\n",
       "Name: Injury_Type, dtype: int64"
      ]
     },
     "execution_count": 32,
     "metadata": {},
     "output_type": "execute_result"
    }
   ],
   "source": [
    "series = pd.value_counts(app_test_empty.Injury_Type)\n",
    "mask = (series/series.sum() * 100).lt(5)\n",
    "# To replace df['column'] use np.where I.e \n",
    "#df['column'] = np.where(df['column'].isin(series[mask].index),'Other',df['column'])\n",
    "app_test_empty['Injury_Type']=np.where(app_test_empty['Injury_Type'].isin(series[mask].index),'Other',app_test_empty['Injury_Type'])\n",
    "app_test_empty['Injury_Type'].value_counts()"
   ]
  },
  {
   "cell_type": "code",
   "execution_count": 33,
   "metadata": {},
   "outputs": [
    {
     "data": {
      "text/plain": [
       "'\\nfrom sklearn.preprocessing import LabelEncoder\\n\\nlb_make = LabelEncoder()\\napp_train1[cols2] = app_train1[cols2].apply(lambda x: lb_make.fit_transform(x))\\napp_train_empty1= app_train_empty'"
      ]
     },
     "execution_count": 33,
     "metadata": {},
     "output_type": "execute_result"
    }
   ],
   "source": [
    "'''\n",
    "from sklearn.preprocessing import LabelEncoder\n",
    "\n",
    "lb_make = LabelEncoder()\n",
    "app_train1[cols2] = app_train1[cols2].apply(lambda x: lb_make.fit_transform(x))\n",
    "app_train_empty1= app_train_empty'''"
   ]
  },
  {
   "cell_type": "markdown",
   "metadata": {},
   "source": [
    "### Based On Insurance Type Merging"
   ]
  },
  {
   "cell_type": "code",
   "execution_count": 34,
   "metadata": {},
   "outputs": [],
   "source": [
    "app_train_empty['WorkersCompAvailability'].replace('Y', 'WorksersComp', inplace=True)\n",
    "app_train_empty['WorkersCompAvailability'].replace('N', 'Noworkcomp', inplace=True)\n",
    "app_train_empty['CollateralSourcesAvailability'].replace('N', 'NoOtherCollateral', inplace=True)\n",
    "app_train_empty['CollateralSourcesAvailability'].replace('Y', 'YesCSA', inplace=True)\n",
    "app_train_empty['MedicalInsurance'].replace('Y', 'Medical', inplace=True)\n",
    "app_train_empty['DisabilityInsurance'].replace('Y', 'Disability', inplace=True)\n",
    "app_train_empty['SocialSecurityBenefits'].replace('Y', 'SocialSecurity', inplace=True)\n",
    "app_train_empty['Medicare_Medicaid'].replace('Y', 'Medicare_Medicaid', inplace=True)\n",
    "app_train_empty['OtherCollateralSources'].replace('Y', 'OtherCollateral', inplace=True)"
   ]
  },
  {
   "cell_type": "code",
   "execution_count": 35,
   "metadata": {},
   "outputs": [],
   "source": [
    "app_test_empty['WorkersCompAvailability'].replace('Y', 'WorksersComp', inplace=True)\n",
    "app_test_empty['WorkersCompAvailability'].replace('N', 'Noworkcomp', inplace=True)\n",
    "app_test_empty['CollateralSourcesAvailability'].replace('N', 'NoOtherCollateral', inplace=True)\n",
    "app_test_empty['CollateralSourcesAvailability'].replace('Y', 'YesCSA', inplace=True)\n",
    "app_test_empty['MedicalInsurance'].replace('Y', 'Medical', inplace=True)\n",
    "app_test_empty['DisabilityInsurance'].replace('Y', 'Disability', inplace=True)\n",
    "app_test_empty['SocialSecurityBenefits'].replace('Y', 'SocialSecurity', inplace=True)\n",
    "app_test_empty['Medicare_Medicaid'].replace('Y', 'Medicare_Medicaid', inplace=True)\n",
    "app_test_empty['OtherCollateralSources'].replace('Y', 'OtherCollateral', inplace=True)"
   ]
  },
  {
   "cell_type": "code",
   "execution_count": 36,
   "metadata": {},
   "outputs": [],
   "source": [
    "#Insurance Type\n",
    "\n",
    "#merging \n",
    "cols = ['WorkersCompAvailability','CollateralSourcesAvailability','MedicalInsurance','DisabilityInsurance','SocialSecurityBenefits','Medicare_Medicaid','OtherCollateralSources']\n",
    "\n",
    "app_train_empty=app_train_empty.assign(Insurance_Type=app_train_empty[cols].sum(1)).drop(cols, 1)\n",
    "app_test_empty=app_test_empty.assign(Insurance_Type=app_test_empty[cols].sum(1)).drop(cols, 1)\n"
   ]
  },
  {
   "cell_type": "code",
   "execution_count": 37,
   "metadata": {},
   "outputs": [
    {
     "data": {
      "text/plain": [
       "NoworkcompNoOtherCollateral                                                          9058\n",
       "NoworkcompYesCSAMedical                                                              2104\n",
       "WorksersCompNoOtherCollateral                                                        1798\n",
       "NoworkcompYesCSAMedicare_Medicaid                                                     662\n",
       "WorksersCompYesCSAMedical                                                             115\n",
       "NoworkcompYesCSAOtherCollateral                                                       103\n",
       "NoworkcompYesCSAMedicalMedicare_Medicaid                                              102\n",
       "NoworkcompYesCSAMedicalDisability                                                      61\n",
       "NoworkcompYesCSAMedicalOtherCollateral                                                 55\n",
       "NoworkcompYesCSA                                                                       49\n",
       "NoworkcompYesCSASocialSecurity                                                         48\n",
       "NoworkcompYesCSASocialSecurityMedicare_Medicaid                                        34\n",
       "NoworkcompYesCSADisability                                                             30\n",
       "WorksersCompYesCSAOtherCollateral                                                      27\n",
       "WorksersCompYesCSAMedicalDisability                                                    23\n",
       "NoworkcompYesCSAMedicalSocialSecurityMedicare_Medicaid                                 18\n",
       "NoworkcompYesCSAMedicalSocialSecurity                                                  15\n",
       "NoworkcompYesCSAMedicare_MedicaidOtherCollateral                                       12\n",
       "WorksersCompYesCSASocialSecurity                                                       11\n",
       "NoworkcompYesCSAMedicalDisabilitySocialSecurity                                        10\n",
       "WorksersCompYesCSA                                                                      9\n",
       "WorksersCompYesCSAMedicare_Medicaid                                                     6\n",
       "NoworkcompYesCSAMedicalDisabilitySocialSecurityMedicare_Medicaid                        6\n",
       "WorksersCompYesCSAMedicalSocialSecurity                                                 5\n",
       "WorksersCompYesCSAMedicalOtherCollateral                                                5\n",
       "NoworkcompYesCSASocialSecurityOtherCollateral                                           5\n",
       "NoworkcompYesCSAMedicalDisabilityMedicare_Medicaid                                      4\n",
       "WorksersCompYesCSASocialSecurityMedicare_Medicaid                                       4\n",
       "WorksersCompYesCSADisability                                                            4\n",
       "WorksersCompYesCSAMedicalDisabilitySocialSecurity                                       4\n",
       "NoworkcompYesCSAMedicalDisabilityOtherCollateral                                        4\n",
       "NoworkcompYesCSADisabilitySocialSecurity                                                3\n",
       "WorksersCompYesCSADisabilitySocialSecurity                                              3\n",
       "WorksersCompYesCSAMedicalDisabilityOtherCollateral                                      3\n",
       "NoworkcompYesCSAMedicalMedicare_MedicaidOtherCollateral                                 2\n",
       "NoworkcompYesCSADisabilityOtherCollateral                                               2\n",
       "NoworkcompYesCSASocialSecurityMedicare_MedicaidOtherCollateral                          2\n",
       "WorksersCompYesCSAMedicalMedicare_Medicaid                                              2\n",
       "WorksersCompYesCSAMedicalDisabilityMedicare_Medicaid                                    2\n",
       "WorksersCompYesCSAMedicalDisabilitySocialSecurityMedicare_MedicaidOtherCollateral       1\n",
       "WorksersCompYesCSAMedicalDisabilitySocialSecurityOtherCollateral                        1\n",
       "NoworkcompYesCSAMedicalSocialSecurityOtherCollateral                                    1\n",
       "WorksersCompYesCSADisabilityOtherCollateral                                             1\n",
       "NoworkcompYesCSADisabilityMedicare_MedicaidOtherCollateral                              1\n",
       "NoworkcompYesCSADisabilityMedicare_Medicaid                                             1\n",
       "NoworkcompYesCSADisabilitySocialSecurityMedicare_Medicaid                               1\n",
       "Name: Insurance_Type, dtype: int64"
      ]
     },
     "execution_count": 37,
     "metadata": {},
     "output_type": "execute_result"
    }
   ],
   "source": [
    "#checking levels\n",
    "app_train_empty['Insurance_Type'].value_counts()"
   ]
  },
  {
   "cell_type": "code",
   "execution_count": 38,
   "metadata": {
    "scrolled": true
   },
   "outputs": [
    {
     "data": {
      "text/plain": [
       "NoworkcompNoOtherCollateral                                          2980\n",
       "NoworkcompYesCSAMedical                                               681\n",
       "WorksersCompNoOtherCollateral                                         623\n",
       "NoworkcompYesCSAMedicare_Medicaid                                     226\n",
       "WorksersCompYesCSAMedical                                              45\n",
       "NoworkcompYesCSAMedicalMedicare_Medicaid                               43\n",
       "NoworkcompYesCSAOtherCollateral                                        39\n",
       "NoworkcompYesCSAMedicalOtherCollateral                                 29\n",
       "NoworkcompYesCSASocialSecurityMedicare_Medicaid                        20\n",
       "NoworkcompYesCSAMedicalDisability                                      17\n",
       "WorksersCompYesCSAMedicalDisability                                    14\n",
       "NoworkcompYesCSASocialSecurity                                         13\n",
       "NoworkcompYesCSAMedicalSocialSecurity                                  12\n",
       "NoworkcompYesCSA                                                       10\n",
       "WorksersCompYesCSAOtherCollateral                                       8\n",
       "NoworkcompYesCSADisability                                              7\n",
       "NoworkcompYesCSAMedicalSocialSecurityMedicare_Medicaid                  7\n",
       "WorksersCompYesCSADisability                                            4\n",
       "WorksersCompYesCSASocialSecurity                                        4\n",
       "WorksersCompYesCSAMedicare_Medicaid                                     3\n",
       "NoworkcompYesCSADisabilityMedicare_Medicaid                             3\n",
       "NoworkcompYesCSAMedicalDisabilityOtherCollateral                        2\n",
       "WorksersCompYesCSA                                                      2\n",
       "NoworkcompYesCSAMedicalDisabilitySocialSecurityMedicare_Medicaid        2\n",
       "WorksersCompYesCSAMedicalSocialSecurity                                 2\n",
       "NoworkcompYesCSADisabilitySocialSecurity                                2\n",
       "WorksersCompYesCSADisabilitySocialSecurity                              1\n",
       "NoworkcompYesCSAMedicalDisabilityMedicare_MedicaidOtherCollateral       1\n",
       "WorksersCompYesCSAMedicare_MedicaidOtherCollateral                      1\n",
       "NoworkcompYesCSAMedicare_MedicaidOtherCollateral                        1\n",
       "WorksersCompYesCSAMedicalDisabilitySocialSecurity                       1\n",
       "WorksersCompYesCSASocialSecurityMedicare_Medicaid                       1\n",
       "WorksersCompYesCSASocialSecurityOtherCollateral                         1\n",
       "WorksersCompYesCSADisabilitySocialSecurityMedicare_Medicaid             1\n",
       "Name: Insurance_Type, dtype: int64"
      ]
     },
     "execution_count": 38,
     "metadata": {},
     "output_type": "execute_result"
    }
   ],
   "source": [
    "app_test_empty['Insurance_Type'].value_counts()"
   ]
  },
  {
   "cell_type": "code",
   "execution_count": 39,
   "metadata": {},
   "outputs": [],
   "source": [
    "#app_train_empty['Insurance_Type'].replace('N','NoCollateralsourcesAvailable', inplace=True)\n",
    "#app_test_empty['Insurance_Type'].replace('N','NoCollateralsourcesAvailable', inplace=True)\n"
   ]
  },
  {
   "cell_type": "code",
   "execution_count": 40,
   "metadata": {},
   "outputs": [
    {
     "data": {
      "image/png": "[encoded data removed]",
      "text/plain": [
       "<Figure size 576x432 with 1 Axes>"
      ]
     },
     "metadata": {},
     "output_type": "display_data"
    }
   ],
   "source": [
    "#checking frequency\n",
    "app_train_empty.Insurance_Type.value_counts().plot(kind='bar',figsize=(8,6))\n",
    "plt.Figure(figsize=(20,16), frameon=True)\n",
    "plt.title('Frequency for Insurance Type')\n",
    "plt.xlabel('Insurance Type')\n",
    "plt.ylabel('Frequency of Insurance_Type')\n",
    "plt.savefig('Insurance_Type_bar_chart', dpi=100)"
   ]
  },
  {
   "cell_type": "code",
   "execution_count": 41,
   "metadata": {},
   "outputs": [
    {
     "data": {
      "image/png": "[encoded data removed]",
      "text/plain": [
       "<Figure size 576x432 with 1 Axes>"
      ]
     },
     "metadata": {},
     "output_type": "display_data"
    }
   ],
   "source": [
    "app_test_empty.Insurance_Type.value_counts().plot(kind='bar',figsize=(8,6))\n",
    "plt.Figure(figsize=(20,16), frameon=True)\n",
    "plt.title('Frequency for Insurance Type')\n",
    "plt.xlabel('Insurance Type')\n",
    "plt.ylabel('Frequency of Insurance_Type')\n",
    "plt.savefig('Insurance_Type_bar_chart', dpi=100)"
   ]
  },
  {
   "cell_type": "code",
   "execution_count": 42,
   "metadata": {},
   "outputs": [
    {
     "data": {
      "text/plain": [
       "NoworkcompNoOtherCollateral      9058\n",
       "NoworkcompYesCSAMedical          2104\n",
       "WorksersCompNoOtherCollateral    1798\n",
       "Other                            1457\n",
       "Name: Insurance_Type, dtype: int64"
      ]
     },
     "execution_count": 42,
     "metadata": {},
     "output_type": "execute_result"
    }
   ],
   "source": [
    "#binning based on frequency\n",
    "series = pd.value_counts(app_train_empty.Insurance_Type)\n",
    "mask = (series/series.sum() * 100).lt(5)\n",
    "# To replace df['column'] use np.where I.e \n",
    "#df['column'] = np.where(df['column'].isin(series[mask].index),'Other',df['column'])\n",
    "app_train_empty['Insurance_Type']=np.where(app_train_empty['Insurance_Type'].isin(series[mask].index),'Other',app_train_empty['Insurance_Type'])\n",
    "app_train_empty['Insurance_Type'].value_counts()"
   ]
  },
  {
   "cell_type": "code",
   "execution_count": 43,
   "metadata": {},
   "outputs": [
    {
     "data": {
      "text/plain": [
       "NoworkcompNoOtherCollateral      2980\n",
       "NoworkcompYesCSAMedical           681\n",
       "WorksersCompNoOtherCollateral     623\n",
       "Other                             522\n",
       "Name: Insurance_Type, dtype: int64"
      ]
     },
     "execution_count": 43,
     "metadata": {},
     "output_type": "execute_result"
    }
   ],
   "source": [
    "series = pd.value_counts(app_test_empty.Insurance_Type)\n",
    "mask = (series/series.sum() * 100).lt(5)\n",
    "# To replace df['column'] use np.where I.e \n",
    "#df['column'] = np.where(df['column'].isin(series[mask].index),'Other',df['column'])\n",
    "app_test_empty['Insurance_Type']=np.where(app_test_empty['Insurance_Type'].isin(series[mask].index),'Other',app_test_empty['Insurance_Type'])\n",
    "app_test_empty['Insurance_Type'].value_counts()"
   ]
  },
  {
   "cell_type": "code",
   "execution_count": 44,
   "metadata": {},
   "outputs": [],
   "source": [
    "# Delete features of same insurance type as we have similar CollateralSourcesAvailability feature"
   ]
  },
  {
   "cell_type": "code",
   "execution_count": 45,
   "metadata": {},
   "outputs": [],
   "source": [
    "# as even if we combile it will create a feature similar to CollateralSourcesAvailability we can drop it\n",
    "\n",
    "#cols = ['MedicalInsurance','DisabilityInsurance','SocialSecurityBenefits','Medicare_Medicaid','OtherCollateralSources']\n",
    "\n",
    "#app_train.drop(app_train[cols], axis=1).head()"
   ]
  },
  {
   "cell_type": "code",
   "execution_count": 46,
   "metadata": {},
   "outputs": [
    {
     "data": {
      "text/plain": [
       "(14417, 42)"
      ]
     },
     "execution_count": 46,
     "metadata": {},
     "output_type": "execute_result"
    }
   ],
   "source": [
    "app_train_empty.shape"
   ]
  },
  {
   "cell_type": "code",
   "execution_count": 47,
   "metadata": {},
   "outputs": [
    {
     "data": {
      "text/plain": [
       "(4806, 42)"
      ]
     },
     "execution_count": 47,
     "metadata": {},
     "output_type": "execute_result"
    }
   ],
   "source": [
    "app_test_empty.shape"
   ]
  },
  {
   "cell_type": "markdown",
   "metadata": {},
   "source": [
    "### Based on Cause of claim"
   ]
  },
  {
   "cell_type": "code",
   "execution_count": 48,
   "metadata": {
    "scrolled": true
   },
   "outputs": [
    {
     "data": {
      "text/plain": [
       "0    F\n",
       "1     \n",
       "2     \n",
       "3     \n",
       "4     \n",
       "Name: Falls, dtype: object"
      ]
     },
     "execution_count": 48,
     "metadata": {},
     "output_type": "execute_result"
    }
   ],
   "source": [
    "app_train_empty['Falls'].replace('NA','', inplace=True)\n",
    "app_train_empty['Falls'].head()"
   ]
  },
  {
   "cell_type": "code",
   "execution_count": 49,
   "metadata": {},
   "outputs": [
    {
     "data": {
      "text/plain": [
       "0    \n",
       "1    \n",
       "2    \n",
       "3    \n",
       "4    \n",
       "Name: Falls, dtype: object"
      ]
     },
     "execution_count": 49,
     "metadata": {},
     "output_type": "execute_result"
    }
   ],
   "source": [
    "app_test_empty['Falls'].replace('NA','', inplace=True)\n",
    "app_test_empty['Falls'].head()"
   ]
  },
  {
   "cell_type": "code",
   "execution_count": 50,
   "metadata": {},
   "outputs": [],
   "source": [
    "#merging\n",
    "cols3 = ['OffRoadVehicle','AirTransportation','Railway','OtherMotorVehicle','SurgicalCare','Falls','Drowning',\n",
    "         'UseOfDefectiveProduct','Fire','Firearm','Pollution_ToxicExposure','Explosions',\n",
    "         'UseOfAgrlMachinery','Oil_gasExtraction','OtherModeOfInjury']\n",
    "\n",
    "app_train_empty=app_train_empty.assign(Cause_of_Claim=app_train_empty[cols3].sum(1)).drop(cols3, 1)\n",
    "app_test_empty=app_test_empty.assign(Cause_of_Claim=app_test_empty[cols3].sum(1)).drop(cols3, 1)"
   ]
  },
  {
   "cell_type": "code",
   "execution_count": 51,
   "metadata": {
    "scrolled": false
   },
   "outputs": [
    {
     "data": {
      "text/plain": [
       "D        8850\n",
       "F        1907\n",
       "E        1478\n",
       "O        1345\n",
       "H         163\n",
       "A         125\n",
       "I          52\n",
       "DO         51\n",
       "L          45\n",
       "FO         32\n",
       "C          31\n",
       "N          30\n",
       "G          30\n",
       "K          30\n",
       "J          26\n",
       "FH         20\n",
       "EF         19\n",
       "EO         19\n",
       "DF         17\n",
       "M          16\n",
       "IL         11\n",
       "AD          9\n",
       "CD          7\n",
       "IO          6\n",
       "B           6\n",
       "HO          6\n",
       "DE          5\n",
       "DI          5\n",
       "KO          4\n",
       "AF          4\n",
       "         ... \n",
       "DFO         2\n",
       "FN          2\n",
       "IN          2\n",
       "FK          1\n",
       "DJ          1\n",
       "EJO         1\n",
       "FL          1\n",
       "AFO         1\n",
       "DK          1\n",
       "DHILN       1\n",
       "FIL         1\n",
       "AFH         1\n",
       "DEH         1\n",
       "AIKO        1\n",
       "HK          1\n",
       "LN          1\n",
       "LO          1\n",
       "MNO         1\n",
       "LM          1\n",
       "FLN         1\n",
       "DIL         1\n",
       "NO          1\n",
       "ADH         1\n",
       "AH          1\n",
       "FKO         1\n",
       "FG          1\n",
       "HM          1\n",
       "EFH         1\n",
       "AJ          1\n",
       "EHJ         1\n",
       "Name: Cause_of_Claim, Length: 72, dtype: int64"
      ]
     },
     "execution_count": 51,
     "metadata": {},
     "output_type": "execute_result"
    }
   ],
   "source": [
    "app_train_empty['Cause_of_Claim'].value_counts()"
   ]
  },
  {
   "cell_type": "code",
   "execution_count": 52,
   "metadata": {},
   "outputs": [
    {
     "data": {
      "text/plain": [
       "D        2985\n",
       "F         602\n",
       "O         486\n",
       "E         449\n",
       "H          48\n",
       "A          38\n",
       "C          20\n",
       "DO         19\n",
       "N          18\n",
       "L          16\n",
       "I          14\n",
       "J          13\n",
       "K          11\n",
       "G          10\n",
       "FO          9\n",
       "EF          8\n",
       "FH          7\n",
       "M           6\n",
       "DF          5\n",
       "B           5\n",
       "CD          4\n",
       "AO          3\n",
       "KO          3\n",
       "EO          3\n",
       "AD          3\n",
       "FN          2\n",
       "HO          2\n",
       "DHILO       2\n",
       "JO          1\n",
       "DHI         1\n",
       "DHO         1\n",
       "DJ          1\n",
       "DH          1\n",
       "DHILN       1\n",
       "ADM         1\n",
       "DFO         1\n",
       "DI          1\n",
       "AH          1\n",
       "DL          1\n",
       "HIL         1\n",
       "GH          1\n",
       "LN          1\n",
       "AF          1\n",
       "Name: Cause_of_Claim, dtype: int64"
      ]
     },
     "execution_count": 52,
     "metadata": {},
     "output_type": "execute_result"
    }
   ],
   "source": [
    "app_test_empty['Cause_of_Claim'].value_counts()"
   ]
  },
  {
   "cell_type": "code",
   "execution_count": 53,
   "metadata": {
    "scrolled": true
   },
   "outputs": [
    {
     "data": {
      "image/png": "[encoded data removed]",
      "text/plain": [
       "<Figure size 576x432 with 1 Axes>"
      ]
     },
     "metadata": {},
     "output_type": "display_data"
    }
   ],
   "source": [
    "#checking frequency\n",
    "app_train_empty.Cause_of_Claim.value_counts().plot(kind='bar',figsize=(8,6))\n",
    "plt.Figure(figsize=(20,16), frameon=True)\n",
    "plt.title('Frequency for Cause_of_Claim')\n",
    "plt.xlabel('Insurance Type')\n",
    "plt.ylabel('Frequency of Cause_of_Claim')\n",
    "plt.savefig('Cause_of_Claim_bar_chart', dpi=100)"
   ]
  },
  {
   "cell_type": "code",
   "execution_count": 54,
   "metadata": {
    "scrolled": true
   },
   "outputs": [
    {
     "data": {
      "image/png": "[encoded data removed]",
      "text/plain": [
       "<Figure size 576x432 with 1 Axes>"
      ]
     },
     "metadata": {},
     "output_type": "display_data"
    }
   ],
   "source": [
    "app_test_empty.Cause_of_Claim.value_counts().plot(kind='bar',figsize=(8,6))\n",
    "plt.Figure(figsize=(20,16), frameon=True)\n",
    "plt.title('Frequency for Cause_of_Claim')\n",
    "plt.xlabel('Insurance Type')\n",
    "plt.ylabel('Frequency of Cause_of_Claim')\n",
    "plt.savefig('Cause_of_Claim_bar_chart1', dpi=100)"
   ]
  },
  {
   "cell_type": "code",
   "execution_count": 55,
   "metadata": {},
   "outputs": [
    {
     "data": {
      "text/plain": [
       "D        8850\n",
       "F        1907\n",
       "E        1478\n",
       "O        1345\n",
       "Other     837\n",
       "Name: Cause_of_Claim, dtype: int64"
      ]
     },
     "execution_count": 55,
     "metadata": {},
     "output_type": "execute_result"
    }
   ],
   "source": [
    "#binning based on frequency\n",
    "series = pd.value_counts(app_train_empty.Cause_of_Claim)\n",
    "mask = (series/series.sum() * 100).lt(5)\n",
    "app_train_empty['Cause_of_Claim']=np.where(app_train_empty['Cause_of_Claim'].isin(series[mask].index),'Other',app_train_empty['Cause_of_Claim'])\n",
    "app_train_empty['Cause_of_Claim'].value_counts()"
   ]
  },
  {
   "cell_type": "code",
   "execution_count": 56,
   "metadata": {},
   "outputs": [
    {
     "data": {
      "text/plain": [
       "D        2985\n",
       "F         602\n",
       "O         486\n",
       "E         449\n",
       "Other     284\n",
       "Name: Cause_of_Claim, dtype: int64"
      ]
     },
     "execution_count": 56,
     "metadata": {},
     "output_type": "execute_result"
    }
   ],
   "source": [
    "series = pd.value_counts(app_test_empty.Cause_of_Claim)\n",
    "mask = (series/series.sum() * 100).lt(5)\n",
    "app_test_empty['Cause_of_Claim']=np.where(app_test_empty['Cause_of_Claim'].isin(series[mask].index),'Other',app_test_empty['Cause_of_Claim'])\n",
    "app_test_empty['Cause_of_Claim'].value_counts()\n"
   ]
  },
  {
   "cell_type": "code",
   "execution_count": 57,
   "metadata": {},
   "outputs": [
    {
     "data": {
      "text/plain": [
       "0    F\n",
       "1    D\n",
       "2    D\n",
       "3    E\n",
       "4    D\n",
       "Name: Cause_of_Claim, dtype: object"
      ]
     },
     "execution_count": 57,
     "metadata": {},
     "output_type": "execute_result"
    }
   ],
   "source": [
    "app_train_empty['Cause_of_Claim'].head()"
   ]
  },
  {
   "cell_type": "code",
   "execution_count": 58,
   "metadata": {},
   "outputs": [
    {
     "name": "stdout",
     "output_type": "stream",
     "text": [
      "Modified Train dimensions (14417, 28)\n",
      "Modified Train dimensions (4806, 28)\n"
     ]
    }
   ],
   "source": [
    "print(\"Modified Train dimensions\",app_train_empty.shape)\n",
    "print(\"Modified Train dimensions\",app_test_empty.shape)"
   ]
  },
  {
   "cell_type": "code",
   "execution_count": 59,
   "metadata": {},
   "outputs": [],
   "source": [
    "#checking frequency for Business Class"
   ]
  },
  {
   "cell_type": "code",
   "execution_count": 60,
   "metadata": {},
   "outputs": [
    {
     "data": {
      "image/png": "[encoded data removed]",
      "text/plain": [
       "<Figure size 576x432 with 1 Axes>"
      ]
     },
     "metadata": {},
     "output_type": "display_data"
    }
   ],
   "source": [
    "#checking frequency\n",
    "app_train_empty.BusinessClass.value_counts().plot(kind='bar',figsize=(8,6))\n",
    "plt.Figure(figsize=(20,16), frameon=True)\n",
    "plt.title('Frequency for BusinessClass')\n",
    "plt.xlabel('BusinessClass')\n",
    "plt.ylabel('Frequency of BusinessClass')\n",
    "plt.savefig('BusinessClass_bar_chart', dpi=100)"
   ]
  },
  {
   "cell_type": "code",
   "execution_count": 61,
   "metadata": {},
   "outputs": [
    {
     "data": {
      "image/png": "[encoded data removed]",
      "text/plain": [
       "<Figure size 576x432 with 1 Axes>"
      ]
     },
     "metadata": {},
     "output_type": "display_data"
    }
   ],
   "source": [
    "#checking frequency\n",
    "app_test_empty.BusinessClass.value_counts().plot(kind='bar',figsize=(8,6))\n",
    "plt.Figure(figsize=(20,16), frameon=True)\n",
    "plt.title('Frequency for BusinessClass')\n",
    "plt.xlabel('BusinessClass')\n",
    "plt.ylabel('Frequency of BusinessClass')\n",
    "plt.savefig('BusinessClass_bar_chart', dpi=100)"
   ]
  },
  {
   "cell_type": "code",
   "execution_count": 62,
   "metadata": {},
   "outputs": [
    {
     "data": {
      "text/plain": [
       "7     3379\n",
       "8     2693\n",
       "26    2381\n",
       "14    1725\n",
       "19     954\n",
       "6      672\n",
       "22     403\n",
       "1      362\n",
       "15     349\n",
       "9      334\n",
       "16     234\n",
       "23     179\n",
       "10     154\n",
       "17     138\n",
       "13     110\n",
       "3       95\n",
       "18      84\n",
       "4       50\n",
       "20      39\n",
       "11      23\n",
       "5       18\n",
       "2       14\n",
       "12      11\n",
       "24       9\n",
       "25       7\n",
       "Name: BusinessClass, dtype: int64"
      ]
     },
     "execution_count": 62,
     "metadata": {},
     "output_type": "execute_result"
    }
   ],
   "source": [
    "app_train_empty['BusinessClass'].value_counts()"
   ]
  },
  {
   "cell_type": "code",
   "execution_count": 63,
   "metadata": {},
   "outputs": [
    {
     "data": {
      "text/plain": [
       "7     1136\n",
       "8      885\n",
       "26     793\n",
       "14     612\n",
       "19     317\n",
       "6      201\n",
       "15     140\n",
       "1      125\n",
       "9      112\n",
       "22     111\n",
       "16      67\n",
       "17      59\n",
       "10      51\n",
       "23      45\n",
       "13      43\n",
       "3       25\n",
       "18      21\n",
       "20      15\n",
       "11      14\n",
       "4       13\n",
       "2        7\n",
       "5        6\n",
       "12       5\n",
       "24       2\n",
       "25       1\n",
       "Name: BusinessClass, dtype: int64"
      ]
     },
     "execution_count": 63,
     "metadata": {},
     "output_type": "execute_result"
    }
   ],
   "source": [
    "app_test_empty['BusinessClass'].value_counts()"
   ]
  },
  {
   "cell_type": "code",
   "execution_count": 64,
   "metadata": {},
   "outputs": [
    {
     "data": {
      "text/plain": [
       "7        3379\n",
       "Other    3285\n",
       "8        2693\n",
       "26       2381\n",
       "14       1725\n",
       "19        954\n",
       "Name: BusinessClass, dtype: int64"
      ]
     },
     "execution_count": 64,
     "metadata": {},
     "output_type": "execute_result"
    }
   ],
   "source": [
    "#binning based on frequency\n",
    "series = pd.value_counts(app_train_empty.BusinessClass)\n",
    "mask = (series/series.sum() * 100).lt(5)\n",
    "app_train_empty['BusinessClass']=np.where(app_train_empty['BusinessClass'].isin(series[mask].index),'Other',app_train_empty['BusinessClass'])\n",
    "app_train_empty['BusinessClass'].value_counts()"
   ]
  },
  {
   "cell_type": "code",
   "execution_count": 65,
   "metadata": {
    "scrolled": true
   },
   "outputs": [
    {
     "data": {
      "text/plain": [
       "7        1136\n",
       "Other    1063\n",
       "8         885\n",
       "26        793\n",
       "14        612\n",
       "19        317\n",
       "Name: BusinessClass, dtype: int64"
      ]
     },
     "execution_count": 65,
     "metadata": {},
     "output_type": "execute_result"
    }
   ],
   "source": [
    "#binning based on frequency\n",
    "series = pd.value_counts(app_test_empty.BusinessClass)\n",
    "mask = (series/series.sum() * 100).lt(5)\n",
    "app_test_empty['BusinessClass']=np.where(app_test_empty['BusinessClass'].isin(series[mask].index),'Other',app_test_empty['BusinessClass'])\n",
    "app_test_empty['BusinessClass'].value_counts()"
   ]
  },
  {
   "cell_type": "code",
   "execution_count": 66,
   "metadata": {},
   "outputs": [],
   "source": [
    "#checking frequency for Policy Type"
   ]
  },
  {
   "cell_type": "code",
   "execution_count": 67,
   "metadata": {},
   "outputs": [
    {
     "data": {
      "image/png": "[encoded data removed]",
      "text/plain": [
       "<Figure size 576x432 with 1 Axes>"
      ]
     },
     "metadata": {},
     "output_type": "display_data"
    }
   ],
   "source": [
    "#checking frequency\n",
    "app_train_empty.PolicyType.value_counts().plot(kind='bar',figsize=(8,6))\n",
    "plt.Figure(figsize=(20,16), frameon=True)\n",
    "plt.title('Frequency for PolicyType')\n",
    "plt.xlabel('PolicyType')\n",
    "plt.ylabel('Frequency of PolicyType')\n",
    "plt.savefig('PolicyType_bar_chart', dpi=100)"
   ]
  },
  {
   "cell_type": "code",
   "execution_count": 68,
   "metadata": {},
   "outputs": [
    {
     "data": {
      "image/png": "[encoded data removed]",
      "text/plain": [
       "<Figure size 576x432 with 1 Axes>"
      ]
     },
     "metadata": {},
     "output_type": "display_data"
    }
   ],
   "source": [
    "#checking frequency\n",
    "app_test_empty.PolicyType.value_counts().plot(kind='bar',figsize=(8,6))\n",
    "plt.Figure(figsize=(20,16), frameon=True)\n",
    "plt.title('Frequency for PolicyType')\n",
    "plt.xlabel('PolicyType')\n",
    "plt.ylabel('Frequency of PolicyType')\n",
    "plt.savefig('PolicyType_bar_chart1', dpi=100)"
   ]
  },
  {
   "cell_type": "code",
   "execution_count": 69,
   "metadata": {},
   "outputs": [
    {
     "data": {
      "text/plain": [
       "2    8917\n",
       "1    2411\n",
       "4    1545\n",
       "3    1405\n",
       "5     139\n",
       "Name: PolicyType, dtype: int64"
      ]
     },
     "execution_count": 69,
     "metadata": {},
     "output_type": "execute_result"
    }
   ],
   "source": [
    "app_train_empty['PolicyType'].value_counts()"
   ]
  },
  {
   "cell_type": "code",
   "execution_count": 70,
   "metadata": {},
   "outputs": [
    {
     "data": {
      "text/plain": [
       "2    2997\n",
       "1     767\n",
       "3     513\n",
       "4     474\n",
       "5      55\n",
       "Name: PolicyType, dtype: int64"
      ]
     },
     "execution_count": 70,
     "metadata": {},
     "output_type": "execute_result"
    }
   ],
   "source": [
    "app_test_empty['PolicyType'].value_counts()"
   ]
  },
  {
   "cell_type": "code",
   "execution_count": 71,
   "metadata": {},
   "outputs": [],
   "source": [
    "#As as there are no more classes and no extra bins of less than 5% frequency so no binning is needed "
   ]
  },
  {
   "cell_type": "markdown",
   "metadata": {},
   "source": [
    "### Datatype conversion of Policy Type and Policy Form Features"
   ]
  },
  {
   "cell_type": "code",
   "execution_count": 72,
   "metadata": {
    "scrolled": true
   },
   "outputs": [],
   "source": [
    "app_train_empty['PolicyType']= app_train_empty['PolicyForm'].astype(object)\n",
    "app_test_empty['PolicyType']= app_test_empty['PolicyForm'].astype(object)\n",
    "app_train_empty['PolicyForm']= app_train_empty['PolicyForm'].astype(object)\n",
    "app_test_empty['PolicyForm']= app_test_empty['PolicyForm'].astype(object)"
   ]
  },
  {
   "cell_type": "code",
   "execution_count": 73,
   "metadata": {},
   "outputs": [],
   "source": [
    "app_train_empty['Anyothercontributors']= app_train_empty['Anyothercontributors'].astype(object)\n",
    "app_test_empty['Anyothercontributors']= app_test_empty['Anyothercontributors'].astype(object)\n",
    "app_train_empty['AnyMultipleInterestedparties']= app_train_empty['AnyMultipleInterestedparties'].astype(object)\n",
    "app_test_empty['AnyMultipleInterestedparties']= app_test_empty['AnyMultipleInterestedparties'].astype(object)"
   ]
  },
  {
   "cell_type": "code",
   "execution_count": 74,
   "metadata": {},
   "outputs": [
    {
     "data": {
      "text/html": [
       "<div>\n",
       "<style scoped>\n",
       "    .dataframe tbody tr th:only-of-type {\n",
       "        vertical-align: middle;\n",
       "    }\n",
       "\n",
       "    .dataframe tbody tr th {\n",
       "        vertical-align: top;\n",
       "    }\n",
       "\n",
       "    .dataframe thead th {\n",
       "        text-align: right;\n",
       "    }\n",
       "</style>\n",
       "<table border=\"1\" class=\"dataframe\">\n",
       "  <thead>\n",
       "    <tr style=\"text-align: right;\">\n",
       "      <th></th>\n",
       "      <th>ClaimID</th>\n",
       "      <th>ClaimSize</th>\n",
       "      <th>Injury_Date</th>\n",
       "      <th>Date_reported</th>\n",
       "      <th>Age_Injured</th>\n",
       "      <th>Work_related_injury_status</th>\n",
       "      <th>Non_economicloss</th>\n",
       "      <th>Exemplarydamages</th>\n",
       "      <th>WhetherPrimaFacie_JointandSeveralLiability</th>\n",
       "      <th>Anyothercontributors</th>\n",
       "      <th>...</th>\n",
       "      <th>PolicyForm</th>\n",
       "      <th>Employment_status</th>\n",
       "      <th>BusinessClass</th>\n",
       "      <th>Perperson_Policylimit</th>\n",
       "      <th>PerOccurrence_PolicyLimit</th>\n",
       "      <th>CombinedSingleLimit</th>\n",
       "      <th>PolicyLimitPerInjury</th>\n",
       "      <th>Injury_Type</th>\n",
       "      <th>Insurance_Type</th>\n",
       "      <th>Cause_of_Claim</th>\n",
       "    </tr>\n",
       "  </thead>\n",
       "  <tbody>\n",
       "    <tr>\n",
       "      <th>0</th>\n",
       "      <td>CLM56529</td>\n",
       "      <td>lessthan100K</td>\n",
       "      <td>3/9/2000</td>\n",
       "      <td>2000-03-23</td>\n",
       "      <td>5900</td>\n",
       "      <td>N</td>\n",
       "      <td>No</td>\n",
       "      <td>No</td>\n",
       "      <td>N</td>\n",
       "      <td>1</td>\n",
       "      <td>...</td>\n",
       "      <td>1</td>\n",
       "      <td>Y</td>\n",
       "      <td>Other</td>\n",
       "      <td>0</td>\n",
       "      <td>0</td>\n",
       "      <td>5000000</td>\n",
       "      <td>5000000</td>\n",
       "      <td>L</td>\n",
       "      <td>NoworkcompNoOtherCollateral</td>\n",
       "      <td>F</td>\n",
       "    </tr>\n",
       "    <tr>\n",
       "      <th>1</th>\n",
       "      <td>CLM66153</td>\n",
       "      <td>lessthan100K</td>\n",
       "      <td>12/6/2002</td>\n",
       "      <td>2002-12-10</td>\n",
       "      <td>3700</td>\n",
       "      <td>N</td>\n",
       "      <td>No</td>\n",
       "      <td>No</td>\n",
       "      <td>N</td>\n",
       "      <td>1</td>\n",
       "      <td>...</td>\n",
       "      <td>1</td>\n",
       "      <td>Y</td>\n",
       "      <td>Other</td>\n",
       "      <td>0</td>\n",
       "      <td>5000000</td>\n",
       "      <td>0</td>\n",
       "      <td>5000000</td>\n",
       "      <td>R</td>\n",
       "      <td>NoworkcompNoOtherCollateral</td>\n",
       "      <td>D</td>\n",
       "    </tr>\n",
       "    <tr>\n",
       "      <th>2</th>\n",
       "      <td>CLM58861</td>\n",
       "      <td>lessthan100K</td>\n",
       "      <td>10/20/2000</td>\n",
       "      <td>2000-11-02</td>\n",
       "      <td>3700</td>\n",
       "      <td>N</td>\n",
       "      <td>No</td>\n",
       "      <td>No</td>\n",
       "      <td>N</td>\n",
       "      <td>1</td>\n",
       "      <td>...</td>\n",
       "      <td>1</td>\n",
       "      <td>Y</td>\n",
       "      <td>Other</td>\n",
       "      <td>0</td>\n",
       "      <td>0</td>\n",
       "      <td>5000000</td>\n",
       "      <td>5000000</td>\n",
       "      <td>M</td>\n",
       "      <td>NoworkcompNoOtherCollateral</td>\n",
       "      <td>D</td>\n",
       "    </tr>\n",
       "    <tr>\n",
       "      <th>3</th>\n",
       "      <td>CLM67972</td>\n",
       "      <td>200KandAbove</td>\n",
       "      <td>8/9/2003</td>\n",
       "      <td>2003-08-11</td>\n",
       "      <td>1600</td>\n",
       "      <td></td>\n",
       "      <td>No</td>\n",
       "      <td>No</td>\n",
       "      <td>N</td>\n",
       "      <td>2</td>\n",
       "      <td>...</td>\n",
       "      <td>2</td>\n",
       "      <td>N</td>\n",
       "      <td>Other</td>\n",
       "      <td>0</td>\n",
       "      <td>1000000</td>\n",
       "      <td>3000000</td>\n",
       "      <td>1000000</td>\n",
       "      <td>A</td>\n",
       "      <td>NoworkcompNoOtherCollateral</td>\n",
       "      <td>E</td>\n",
       "    </tr>\n",
       "    <tr>\n",
       "      <th>4</th>\n",
       "      <td>CLM69075</td>\n",
       "      <td>lessthan100K</td>\n",
       "      <td>2/25/2004</td>\n",
       "      <td>2004-02-26</td>\n",
       "      <td>5200</td>\n",
       "      <td></td>\n",
       "      <td>No</td>\n",
       "      <td>No</td>\n",
       "      <td>N</td>\n",
       "      <td>1</td>\n",
       "      <td>...</td>\n",
       "      <td>1</td>\n",
       "      <td>N</td>\n",
       "      <td>Other</td>\n",
       "      <td>0</td>\n",
       "      <td>1000000</td>\n",
       "      <td>0</td>\n",
       "      <td>1000000</td>\n",
       "      <td>L</td>\n",
       "      <td>NoworkcompNoOtherCollateral</td>\n",
       "      <td>D</td>\n",
       "    </tr>\n",
       "  </tbody>\n",
       "</table>\n",
       "<p>5 rows × 28 columns</p>\n",
       "</div>"
      ],
      "text/plain": [
       "    ClaimID     ClaimSize Injury_Date Date_reported  Age_Injured  \\\n",
       "0  CLM56529  lessthan100K    3/9/2000    2000-03-23         5900   \n",
       "1  CLM66153  lessthan100K   12/6/2002    2002-12-10         3700   \n",
       "2  CLM58861  lessthan100K  10/20/2000    2000-11-02         3700   \n",
       "3  CLM67972  200KandAbove    8/9/2003    2003-08-11         1600   \n",
       "4  CLM69075  lessthan100K   2/25/2004    2004-02-26         5200   \n",
       "\n",
       "  Work_related_injury_status Non_economicloss Exemplarydamages  \\\n",
       "0                          N               No               No   \n",
       "1                          N               No               No   \n",
       "2                          N               No               No   \n",
       "3                                          No               No   \n",
       "4                                          No               No   \n",
       "\n",
       "  WhetherPrimaFacie_JointandSeveralLiability Anyothercontributors  \\\n",
       "0                                          N                    1   \n",
       "1                                          N                    1   \n",
       "2                                          N                    1   \n",
       "3                                          N                    2   \n",
       "4                                          N                    1   \n",
       "\n",
       "       ...       PolicyForm Employment_status  BusinessClass  \\\n",
       "0      ...                1                 Y          Other   \n",
       "1      ...                1                 Y          Other   \n",
       "2      ...                1                 Y          Other   \n",
       "3      ...                2                 N          Other   \n",
       "4      ...                1                 N          Other   \n",
       "\n",
       "   Perperson_Policylimit  PerOccurrence_PolicyLimit  CombinedSingleLimit  \\\n",
       "0                      0                          0              5000000   \n",
       "1                      0                    5000000                    0   \n",
       "2                      0                          0              5000000   \n",
       "3                      0                    1000000              3000000   \n",
       "4                      0                    1000000                    0   \n",
       "\n",
       "  PolicyLimitPerInjury Injury_Type               Insurance_Type Cause_of_Claim  \n",
       "0              5000000           L  NoworkcompNoOtherCollateral              F  \n",
       "1              5000000           R  NoworkcompNoOtherCollateral              D  \n",
       "2              5000000           M  NoworkcompNoOtherCollateral              D  \n",
       "3              1000000           A  NoworkcompNoOtherCollateral              E  \n",
       "4              1000000           L  NoworkcompNoOtherCollateral              D  \n",
       "\n",
       "[5 rows x 28 columns]"
      ]
     },
     "execution_count": 74,
     "metadata": {},
     "output_type": "execute_result"
    }
   ],
   "source": [
    "app_train_empty.head()"
   ]
  },
  {
   "cell_type": "markdown",
   "metadata": {},
   "source": [
    "### Datatype conversion of Date Features"
   ]
  },
  {
   "cell_type": "code",
   "execution_count": 75,
   "metadata": {},
   "outputs": [],
   "source": [
    "#converting into datetime formats in train\n",
    "app_train_empty['Injury_Date'] =app_train_empty['Injury_Date'].apply(pd.to_datetime, errors = 'coerce')\n",
    "app_train_empty['Date_reported'] =app_train_empty['Date_reported'].apply(pd.to_datetime, errors = 'coerce')\n",
    "\n",
    "#converting into datetime formats in train\n",
    "app_test_empty['Injury_Date'] =app_test_empty['Injury_Date'].apply(pd.to_datetime, errors = 'coerce')\n",
    "app_test_empty['Date_reported'] =app_test_empty['Date_reported'].apply(pd.to_datetime, errors = 'coerce')\n"
   ]
  },
  {
   "cell_type": "code",
   "execution_count": 76,
   "metadata": {
    "scrolled": false
   },
   "outputs": [
    {
     "data": {
      "text/plain": [
       "dtype('<M8[ns]')"
      ]
     },
     "execution_count": 76,
     "metadata": {},
     "output_type": "execute_result"
    }
   ],
   "source": [
    "app_train_empty['Injury_Date'].dtypes"
   ]
  },
  {
   "cell_type": "code",
   "execution_count": 77,
   "metadata": {},
   "outputs": [],
   "source": [
    "#calculating difference between two date reported and injury date in train\n",
    "app_train_empty['time_taken_to report']=(((app_train_empty['Date_reported']-app_train_empty['Injury_Date']).astype('timedelta64[h]'))/24).astype(np.int64)"
   ]
  },
  {
   "cell_type": "code",
   "execution_count": 78,
   "metadata": {},
   "outputs": [],
   "source": [
    "#calculating difference between two date reported and injury date in train\n",
    "app_test_empty['time_taken_to report']=(((app_test_empty['Date_reported']-app_test_empty['Injury_Date']).astype('timedelta64[h]'))/24).astype(np.int64)"
   ]
  },
  {
   "cell_type": "code",
   "execution_count": 79,
   "metadata": {},
   "outputs": [
    {
     "data": {
      "text/plain": [
       "0    14\n",
       "1     4\n",
       "2    13\n",
       "3     2\n",
       "4     1\n",
       "Name: time_taken_to report, dtype: int64"
      ]
     },
     "execution_count": 79,
     "metadata": {},
     "output_type": "execute_result"
    }
   ],
   "source": [
    "app_train_empty['time_taken_to report'].head()"
   ]
  },
  {
   "cell_type": "markdown",
   "metadata": {},
   "source": [
    "### Modifing Age Column"
   ]
  },
  {
   "cell_type": "code",
   "execution_count": 80,
   "metadata": {},
   "outputs": [],
   "source": [
    "app_train_empty['Age_Injured'] =app_train_empty['Age_Injured']/100"
   ]
  },
  {
   "cell_type": "code",
   "execution_count": 81,
   "metadata": {},
   "outputs": [
    {
     "data": {
      "text/plain": [
       "0    59.0\n",
       "1    37.0\n",
       "2    37.0\n",
       "3    16.0\n",
       "4    52.0\n",
       "Name: Age_Injured, dtype: float64"
      ]
     },
     "execution_count": 81,
     "metadata": {},
     "output_type": "execute_result"
    }
   ],
   "source": [
    "app_train_empty['Age_Injured'].head()"
   ]
  },
  {
   "cell_type": "code",
   "execution_count": 82,
   "metadata": {},
   "outputs": [],
   "source": [
    "app_test_empty['Age_Injured'] =app_test_empty['Age_Injured']/100"
   ]
  },
  {
   "cell_type": "code",
   "execution_count": 83,
   "metadata": {},
   "outputs": [
    {
     "data": {
      "text/plain": [
       "0    46.0\n",
       "1    31.0\n",
       "2    14.0\n",
       "3    44.0\n",
       "4    42.0\n",
       "Name: Age_Injured, dtype: float64"
      ]
     },
     "execution_count": 83,
     "metadata": {},
     "output_type": "execute_result"
    }
   ],
   "source": [
    "app_test_empty['Age_Injured'].head()"
   ]
  },
  {
   "cell_type": "code",
   "execution_count": 85,
   "metadata": {},
   "outputs": [
    {
     "data": {
      "text/plain": [
       "array([[<matplotlib.axes._subplots.AxesSubplot object at 0x000001E475E24F98>,\n",
       "        <matplotlib.axes._subplots.AxesSubplot object at 0x000001E45D426F60>],\n",
       "       [<matplotlib.axes._subplots.AxesSubplot object at 0x000001E45D593DD8>,\n",
       "        <matplotlib.axes._subplots.AxesSubplot object at 0x000001E457EFE080>]],\n",
       "      dtype=object)"
      ]
     },
     "execution_count": 85,
     "metadata": {},
     "output_type": "execute_result"
    },
    {
     "data": {
      "image/png": "[encoded data removed]",
      "text/plain": [
       "<Figure size 1296x1152 with 4 Axes>"
      ]
     },
     "metadata": {},
     "output_type": "display_data"
    }
   ],
   "source": [
    "#Age Injured by Claimsize \n",
    "app_train_empty.hist(column=\"Age_Injured\",by=\"ClaimSize\",bins=30, figsize=(18,16))"
   ]
  },
  {
   "cell_type": "code",
   "execution_count": 86,
   "metadata": {},
   "outputs": [
    {
     "data": {
      "text/plain": [
       "array([[<matplotlib.axes._subplots.AxesSubplot object at 0x000001E45A3B4E10>]],\n",
       "      dtype=object)"
      ]
     },
     "execution_count": 86,
     "metadata": {},
     "output_type": "execute_result"
    },
    {
     "data": {
      "image/png": "[encoded data removed]",
      "text/plain": [
       "<Figure size 576x432 with 1 Axes>"
      ]
     },
     "metadata": {},
     "output_type": "display_data"
    }
   ],
   "source": [
    "app_train_empty.hist(column=\"Age_Injured\",bins=30, figsize=(8,6))"
   ]
  },
  {
   "cell_type": "code",
   "execution_count": 87,
   "metadata": {},
   "outputs": [
    {
     "data": {
      "text/plain": [
       "array([[<matplotlib.axes._subplots.AxesSubplot object at 0x000001E4596A5F60>]],\n",
       "      dtype=object)"
      ]
     },
     "execution_count": 87,
     "metadata": {},
     "output_type": "execute_result"
    },
    {
     "data": {
      "image/png": "[encoded data removed]",
      "text/plain": [
       "<Figure size 576x432 with 1 Axes>"
      ]
     },
     "metadata": {},
     "output_type": "display_data"
    }
   ],
   "source": [
    "app_test_empty.hist(column=\"Age_Injured\",bins=30, figsize=(8,6))"
   ]
  },
  {
   "cell_type": "code",
   "execution_count": 88,
   "metadata": {},
   "outputs": [],
   "source": [
    "app_train_empty['ClaimSize']=app_train_empty['ClaimSize'].astype('category')"
   ]
  },
  {
   "cell_type": "code",
   "execution_count": 89,
   "metadata": {},
   "outputs": [
    {
     "data": {
      "image/png": "[encoded data removed]",
      "text/plain": [
       "<Figure size 720x504 with 1 Axes>"
      ]
     },
     "metadata": {},
     "output_type": "display_data"
    }
   ],
   "source": [
    "plt.figure(figsize = (10,7))\n",
    "\n",
    "plt.scatter(x = app_train_empty.PerOccurrence_PolicyLimit/1000,y = app_train_empty.Perperson_Policylimit/1000)\n",
    "plt.title('Policy Limit per person and per occurance')\n",
    "plt.xlabel('Limit Per Occurance')\n",
    "plt.ylabel('Limit Per person')\n",
    "plt.show()"
   ]
  },
  {
   "cell_type": "code",
   "execution_count": 90,
   "metadata": {},
   "outputs": [
    {
     "data": {
      "image/png": "[encoded data removed]",
      "text/plain": [
       "<Figure size 720x504 with 1 Axes>"
      ]
     },
     "metadata": {},
     "output_type": "display_data"
    }
   ],
   "source": [
    "plt.figure(figsize = (10,7))\n",
    "\n",
    "plt.scatter(x = app_train_empty.CombinedSingleLimit/1000,y = app_train_empty.Perperson_Policylimit/1000)\n",
    "plt.title('Combined single limit and per occurance')\n",
    "plt.xlabel('Combined single limit')\n",
    "plt.ylabel('Limit Per person')\n",
    "plt.show()"
   ]
  },
  {
   "cell_type": "code",
   "execution_count": 91,
   "metadata": {},
   "outputs": [
    {
     "data": {
      "image/png": "[encoded data removed]",
      "text/plain": [
       "<Figure size 720x504 with 1 Axes>"
      ]
     },
     "metadata": {},
     "output_type": "display_data"
    }
   ],
   "source": [
    "plt.figure(figsize = (10,7))\n",
    "\n",
    "plt.scatter(x = app_train_empty.PolicyLimitPerInjury/1000,y = app_train_empty.Perperson_Policylimit/1000)\n",
    "plt.title('limit per Injury and limit per person')\n",
    "plt.xlabel('limit per Injury')\n",
    "plt.ylabel('Limit Per person')\n",
    "plt.show()"
   ]
  },
  {
   "cell_type": "code",
   "execution_count": 92,
   "metadata": {},
   "outputs": [
    {
     "data": {
      "image/png": "[encoded data removed]",
      "text/plain": [
       "<Figure size 720x504 with 1 Axes>"
      ]
     },
     "metadata": {},
     "output_type": "display_data"
    }
   ],
   "source": [
    "plt.figure(figsize = (10,7))\n",
    "\n",
    "plt.scatter(x = app_train_empty.PolicyLimitPerInjury/1000,y = app_train_empty.CombinedSingleLimit/1000)\n",
    "plt.title('Combined single limit and per Injury')\n",
    "plt.ylabel('Combined single limit')\n",
    "plt.xlabel('Limit Per person')\n",
    "plt.show()"
   ]
  },
  {
   "cell_type": "markdown",
   "metadata": {},
   "source": [
    "### Dropping unnecessary columns"
   ]
  },
  {
   "cell_type": "markdown",
   "metadata": {},
   "source": [
    "##### Dropping basic ID and target variables from train and test"
   ]
  },
  {
   "cell_type": "code",
   "execution_count": 93,
   "metadata": {},
   "outputs": [],
   "source": [
    "#save ClaimID in temoprary variable and drop it from train\n",
    "app_train_ID = app_train_empty['ClaimID']\n",
    "app_train_ID.shape\n",
    "\n",
    "#save ClaimID in temoprary variable and drop it from test\n",
    "app_test_ID = app_test_empty['ClaimID']\n",
    "app_test_ID.shape\n",
    "\n",
    "#save Claimsize in target variable and drop it from train\n",
    "app_train_target = app_train_empty['ClaimSize']\n",
    "app_train_target.shape\n",
    "\n",
    "#there was something wrong in test.csv provided so read test ClaimID from samplesubmission.csv\n",
    "#dropping claimsize, claimID, PolicyID column from train and test \n",
    "#dropping claimsize column from test as it is read from sample csv \n",
    "#dropping Date columns\n",
    "\n",
    "app_train_empty = app_train_empty.drop(['ClaimID', 'ClaimSize', 'PolicyID', 'Injury_Date', 'Date_reported'], axis =1)\n",
    "app_test_empty = app_test_empty.drop(['ClaimID', 'ClaimSize', 'PolicyID', 'Injury_Date', 'Date_reported'], axis =1)\n"
   ]
  },
  {
   "cell_type": "markdown",
   "metadata": {},
   "source": [
    "### Dropping Features with more missing data"
   ]
  },
  {
   "cell_type": "code",
   "execution_count": 94,
   "metadata": {},
   "outputs": [],
   "source": [
    "#most of the rows are missing so deleted.\n",
    "#app_train_empty = app_train_empty.drop(['Work_related_injury_status'], axis =1)\n",
    "#app_test_empty = app_test_empty.drop(['Work_related_injury_status'], axis =1)"
   ]
  },
  {
   "cell_type": "code",
   "execution_count": 95,
   "metadata": {},
   "outputs": [],
   "source": [
    "#most of the rows are missing and no proper information so deleted.\n",
    "#app_train_empty = app_train_empty.drop(['Match_Multiclaimant_multiInterestedparties_claim'], axis =1)\n",
    "#app_test_empty = app_test_empty.drop(['Match_Multiclaimant_multiInterestedparties_claim'], axis =1)"
   ]
  },
  {
   "cell_type": "code",
   "execution_count": 96,
   "metadata": {},
   "outputs": [
    {
     "name": "stdout",
     "output_type": "stream",
     "text": [
      "Modified Train dimensions (14417, 24)\n",
      "Modified Train dimensions (4806, 24)\n"
     ]
    }
   ],
   "source": [
    "print(\"Modified Train dimensions\",app_train_empty.shape)\n",
    "print(\"Modified Train dimensions\",app_test_empty.shape)"
   ]
  },
  {
   "cell_type": "markdown",
   "metadata": {},
   "source": [
    "### Writing to new csv for manual check"
   ]
  },
  {
   "cell_type": "code",
   "execution_count": 97,
   "metadata": {},
   "outputs": [],
   "source": [
    "#to manual cross check\n",
    "app_train_empty.to_csv('newtrain.csv', sep=',', index=False)"
   ]
  },
  {
   "cell_type": "code",
   "execution_count": 98,
   "metadata": {},
   "outputs": [
    {
     "data": {
      "text/html": [
       "<div>\n",
       "<style scoped>\n",
       "    .dataframe tbody tr th:only-of-type {\n",
       "        vertical-align: middle;\n",
       "    }\n",
       "\n",
       "    .dataframe tbody tr th {\n",
       "        vertical-align: top;\n",
       "    }\n",
       "\n",
       "    .dataframe thead th {\n",
       "        text-align: right;\n",
       "    }\n",
       "</style>\n",
       "<table border=\"1\" class=\"dataframe\">\n",
       "  <thead>\n",
       "    <tr style=\"text-align: right;\">\n",
       "      <th></th>\n",
       "      <th>Age_Injured</th>\n",
       "      <th>PrimaFacie_percentagefault_injured</th>\n",
       "      <th>PrimaFacie_percentagefault_insured</th>\n",
       "      <th>PrimaFacie_percentagefault_otherinsured</th>\n",
       "      <th>PrimaFacie_percentagefault_uninsured</th>\n",
       "      <th>Perperson_Policylimit</th>\n",
       "      <th>PerOccurrence_PolicyLimit</th>\n",
       "      <th>CombinedSingleLimit</th>\n",
       "      <th>PolicyLimitPerInjury</th>\n",
       "      <th>time_taken_to report</th>\n",
       "    </tr>\n",
       "  </thead>\n",
       "  <tbody>\n",
       "    <tr>\n",
       "      <th>count</th>\n",
       "      <td>14417.000000</td>\n",
       "      <td>14417.000000</td>\n",
       "      <td>14417.000000</td>\n",
       "      <td>14417.000000</td>\n",
       "      <td>14417.000000</td>\n",
       "      <td>1.441700e+04</td>\n",
       "      <td>1.441700e+04</td>\n",
       "      <td>1.441700e+04</td>\n",
       "      <td>1.441700e+04</td>\n",
       "      <td>14417.000000</td>\n",
       "    </tr>\n",
       "    <tr>\n",
       "      <th>mean</th>\n",
       "      <td>43.808143</td>\n",
       "      <td>6.508219</td>\n",
       "      <td>87.336547</td>\n",
       "      <td>5.361518</td>\n",
       "      <td>0.782618</td>\n",
       "      <td>1.088967e+05</td>\n",
       "      <td>5.543583e+05</td>\n",
       "      <td>1.141678e+06</td>\n",
       "      <td>1.515379e+06</td>\n",
       "      <td>44.778733</td>\n",
       "    </tr>\n",
       "    <tr>\n",
       "      <th>std</th>\n",
       "      <td>16.458068</td>\n",
       "      <td>16.579278</td>\n",
       "      <td>24.473152</td>\n",
       "      <td>17.594942</td>\n",
       "      <td>6.793993</td>\n",
       "      <td>1.229854e+06</td>\n",
       "      <td>1.607942e+06</td>\n",
       "      <td>4.300206e+06</td>\n",
       "      <td>4.497684e+06</td>\n",
       "      <td>84.001181</td>\n",
       "    </tr>\n",
       "    <tr>\n",
       "      <th>min</th>\n",
       "      <td>11.000000</td>\n",
       "      <td>0.000000</td>\n",
       "      <td>0.000000</td>\n",
       "      <td>0.000000</td>\n",
       "      <td>0.000000</td>\n",
       "      <td>0.000000e+00</td>\n",
       "      <td>0.000000e+00</td>\n",
       "      <td>0.000000e+00</td>\n",
       "      <td>1.000000e+04</td>\n",
       "      <td>0.000000</td>\n",
       "    </tr>\n",
       "    <tr>\n",
       "      <th>25%</th>\n",
       "      <td>32.000000</td>\n",
       "      <td>0.000000</td>\n",
       "      <td>90.000000</td>\n",
       "      <td>0.000000</td>\n",
       "      <td>0.000000</td>\n",
       "      <td>0.000000e+00</td>\n",
       "      <td>0.000000e+00</td>\n",
       "      <td>0.000000e+00</td>\n",
       "      <td>1.000000e+06</td>\n",
       "      <td>1.000000</td>\n",
       "    </tr>\n",
       "    <tr>\n",
       "      <th>50%</th>\n",
       "      <td>42.000000</td>\n",
       "      <td>0.000000</td>\n",
       "      <td>100.000000</td>\n",
       "      <td>0.000000</td>\n",
       "      <td>0.000000</td>\n",
       "      <td>0.000000e+00</td>\n",
       "      <td>0.000000e+00</td>\n",
       "      <td>1.000000e+06</td>\n",
       "      <td>1.000000e+06</td>\n",
       "      <td>4.000000</td>\n",
       "    </tr>\n",
       "    <tr>\n",
       "      <th>75%</th>\n",
       "      <td>54.000000</td>\n",
       "      <td>0.000000</td>\n",
       "      <td>100.000000</td>\n",
       "      <td>0.000000</td>\n",
       "      <td>0.000000</td>\n",
       "      <td>0.000000e+00</td>\n",
       "      <td>1.000000e+06</td>\n",
       "      <td>1.000000e+06</td>\n",
       "      <td>1.000000e+06</td>\n",
       "      <td>35.000000</td>\n",
       "    </tr>\n",
       "    <tr>\n",
       "      <th>max</th>\n",
       "      <td>100.000000</td>\n",
       "      <td>100.000000</td>\n",
       "      <td>100.000000</td>\n",
       "      <td>100.000000</td>\n",
       "      <td>100.000000</td>\n",
       "      <td>1.000000e+08</td>\n",
       "      <td>1.000000e+08</td>\n",
       "      <td>1.000001e+08</td>\n",
       "      <td>1.000001e+08</td>\n",
       "      <td>365.000000</td>\n",
       "    </tr>\n",
       "  </tbody>\n",
       "</table>\n",
       "</div>"
      ],
      "text/plain": [
       "        Age_Injured  PrimaFacie_percentagefault_injured  \\\n",
       "count  14417.000000                        14417.000000   \n",
       "mean      43.808143                            6.508219   \n",
       "std       16.458068                           16.579278   \n",
       "min       11.000000                            0.000000   \n",
       "25%       32.000000                            0.000000   \n",
       "50%       42.000000                            0.000000   \n",
       "75%       54.000000                            0.000000   \n",
       "max      100.000000                          100.000000   \n",
       "\n",
       "       PrimaFacie_percentagefault_insured  \\\n",
       "count                        14417.000000   \n",
       "mean                            87.336547   \n",
       "std                             24.473152   \n",
       "min                              0.000000   \n",
       "25%                             90.000000   \n",
       "50%                            100.000000   \n",
       "75%                            100.000000   \n",
       "max                            100.000000   \n",
       "\n",
       "       PrimaFacie_percentagefault_otherinsured  \\\n",
       "count                             14417.000000   \n",
       "mean                                  5.361518   \n",
       "std                                  17.594942   \n",
       "min                                   0.000000   \n",
       "25%                                   0.000000   \n",
       "50%                                   0.000000   \n",
       "75%                                   0.000000   \n",
       "max                                 100.000000   \n",
       "\n",
       "       PrimaFacie_percentagefault_uninsured  Perperson_Policylimit  \\\n",
       "count                          14417.000000           1.441700e+04   \n",
       "mean                               0.782618           1.088967e+05   \n",
       "std                                6.793993           1.229854e+06   \n",
       "min                                0.000000           0.000000e+00   \n",
       "25%                                0.000000           0.000000e+00   \n",
       "50%                                0.000000           0.000000e+00   \n",
       "75%                                0.000000           0.000000e+00   \n",
       "max                              100.000000           1.000000e+08   \n",
       "\n",
       "       PerOccurrence_PolicyLimit  CombinedSingleLimit  PolicyLimitPerInjury  \\\n",
       "count               1.441700e+04         1.441700e+04          1.441700e+04   \n",
       "mean                5.543583e+05         1.141678e+06          1.515379e+06   \n",
       "std                 1.607942e+06         4.300206e+06          4.497684e+06   \n",
       "min                 0.000000e+00         0.000000e+00          1.000000e+04   \n",
       "25%                 0.000000e+00         0.000000e+00          1.000000e+06   \n",
       "50%                 0.000000e+00         1.000000e+06          1.000000e+06   \n",
       "75%                 1.000000e+06         1.000000e+06          1.000000e+06   \n",
       "max                 1.000000e+08         1.000001e+08          1.000001e+08   \n",
       "\n",
       "       time_taken_to report  \n",
       "count          14417.000000  \n",
       "mean              44.778733  \n",
       "std               84.001181  \n",
       "min                0.000000  \n",
       "25%                1.000000  \n",
       "50%                4.000000  \n",
       "75%               35.000000  \n",
       "max              365.000000  "
      ]
     },
     "execution_count": 98,
     "metadata": {},
     "output_type": "execute_result"
    }
   ],
   "source": [
    "#Summary statistics\n",
    "app_train_empty.describe()"
   ]
  },
  {
   "cell_type": "code",
   "execution_count": 99,
   "metadata": {},
   "outputs": [
    {
     "data": {
      "text/html": [
       "<div>\n",
       "<style scoped>\n",
       "    .dataframe tbody tr th:only-of-type {\n",
       "        vertical-align: middle;\n",
       "    }\n",
       "\n",
       "    .dataframe tbody tr th {\n",
       "        vertical-align: top;\n",
       "    }\n",
       "\n",
       "    .dataframe thead th {\n",
       "        text-align: right;\n",
       "    }\n",
       "</style>\n",
       "<table border=\"1\" class=\"dataframe\">\n",
       "  <thead>\n",
       "    <tr style=\"text-align: right;\">\n",
       "      <th></th>\n",
       "      <th>Age_Injured</th>\n",
       "      <th>PrimaFacie_percentagefault_injured</th>\n",
       "      <th>PrimaFacie_percentagefault_insured</th>\n",
       "      <th>PrimaFacie_percentagefault_otherinsured</th>\n",
       "      <th>PrimaFacie_percentagefault_uninsured</th>\n",
       "      <th>Perperson_Policylimit</th>\n",
       "      <th>PerOccurrence_PolicyLimit</th>\n",
       "      <th>CombinedSingleLimit</th>\n",
       "      <th>PolicyLimitPerInjury</th>\n",
       "      <th>time_taken_to report</th>\n",
       "    </tr>\n",
       "  </thead>\n",
       "  <tbody>\n",
       "    <tr>\n",
       "      <th>count</th>\n",
       "      <td>4806.000000</td>\n",
       "      <td>4806.000000</td>\n",
       "      <td>4806.000000</td>\n",
       "      <td>4806.000000</td>\n",
       "      <td>4806.000000</td>\n",
       "      <td>4.806000e+03</td>\n",
       "      <td>4.806000e+03</td>\n",
       "      <td>4.806000e+03</td>\n",
       "      <td>4.806000e+03</td>\n",
       "      <td>4806.000000</td>\n",
       "    </tr>\n",
       "    <tr>\n",
       "      <th>mean</th>\n",
       "      <td>43.379318</td>\n",
       "      <td>6.977736</td>\n",
       "      <td>86.719725</td>\n",
       "      <td>5.528298</td>\n",
       "      <td>0.774241</td>\n",
       "      <td>9.365091e+04</td>\n",
       "      <td>5.475019e+05</td>\n",
       "      <td>1.102712e+06</td>\n",
       "      <td>1.471690e+06</td>\n",
       "      <td>45.597794</td>\n",
       "    </tr>\n",
       "    <tr>\n",
       "      <th>std</th>\n",
       "      <td>16.722784</td>\n",
       "      <td>17.613509</td>\n",
       "      <td>25.277735</td>\n",
       "      <td>17.914606</td>\n",
       "      <td>6.774256</td>\n",
       "      <td>3.355473e+05</td>\n",
       "      <td>1.372524e+06</td>\n",
       "      <td>4.073767e+06</td>\n",
       "      <td>4.125732e+06</td>\n",
       "      <td>84.298572</td>\n",
       "    </tr>\n",
       "    <tr>\n",
       "      <th>min</th>\n",
       "      <td>11.000000</td>\n",
       "      <td>0.000000</td>\n",
       "      <td>0.000000</td>\n",
       "      <td>0.000000</td>\n",
       "      <td>0.000000</td>\n",
       "      <td>0.000000e+00</td>\n",
       "      <td>0.000000e+00</td>\n",
       "      <td>0.000000e+00</td>\n",
       "      <td>1.000000e+04</td>\n",
       "      <td>0.000000</td>\n",
       "    </tr>\n",
       "    <tr>\n",
       "      <th>25%</th>\n",
       "      <td>31.000000</td>\n",
       "      <td>0.000000</td>\n",
       "      <td>85.000000</td>\n",
       "      <td>0.000000</td>\n",
       "      <td>0.000000</td>\n",
       "      <td>0.000000e+00</td>\n",
       "      <td>0.000000e+00</td>\n",
       "      <td>0.000000e+00</td>\n",
       "      <td>1.000000e+06</td>\n",
       "      <td>1.000000</td>\n",
       "    </tr>\n",
       "    <tr>\n",
       "      <th>50%</th>\n",
       "      <td>42.000000</td>\n",
       "      <td>0.000000</td>\n",
       "      <td>100.000000</td>\n",
       "      <td>0.000000</td>\n",
       "      <td>0.000000</td>\n",
       "      <td>0.000000e+00</td>\n",
       "      <td>0.000000e+00</td>\n",
       "      <td>7.500160e+05</td>\n",
       "      <td>1.000000e+06</td>\n",
       "      <td>5.000000</td>\n",
       "    </tr>\n",
       "    <tr>\n",
       "      <th>75%</th>\n",
       "      <td>53.000000</td>\n",
       "      <td>0.000000</td>\n",
       "      <td>100.000000</td>\n",
       "      <td>0.000000</td>\n",
       "      <td>0.000000</td>\n",
       "      <td>0.000000e+00</td>\n",
       "      <td>1.000000e+06</td>\n",
       "      <td>1.000000e+06</td>\n",
       "      <td>1.000000e+06</td>\n",
       "      <td>37.000000</td>\n",
       "    </tr>\n",
       "    <tr>\n",
       "      <th>max</th>\n",
       "      <td>99.000000</td>\n",
       "      <td>100.000000</td>\n",
       "      <td>100.000000</td>\n",
       "      <td>100.000000</td>\n",
       "      <td>100.000000</td>\n",
       "      <td>5.000000e+06</td>\n",
       "      <td>4.000000e+07</td>\n",
       "      <td>5.000000e+07</td>\n",
       "      <td>5.000000e+07</td>\n",
       "      <td>364.000000</td>\n",
       "    </tr>\n",
       "  </tbody>\n",
       "</table>\n",
       "</div>"
      ],
      "text/plain": [
       "       Age_Injured  PrimaFacie_percentagefault_injured  \\\n",
       "count  4806.000000                         4806.000000   \n",
       "mean     43.379318                            6.977736   \n",
       "std      16.722784                           17.613509   \n",
       "min      11.000000                            0.000000   \n",
       "25%      31.000000                            0.000000   \n",
       "50%      42.000000                            0.000000   \n",
       "75%      53.000000                            0.000000   \n",
       "max      99.000000                          100.000000   \n",
       "\n",
       "       PrimaFacie_percentagefault_insured  \\\n",
       "count                         4806.000000   \n",
       "mean                            86.719725   \n",
       "std                             25.277735   \n",
       "min                              0.000000   \n",
       "25%                             85.000000   \n",
       "50%                            100.000000   \n",
       "75%                            100.000000   \n",
       "max                            100.000000   \n",
       "\n",
       "       PrimaFacie_percentagefault_otherinsured  \\\n",
       "count                              4806.000000   \n",
       "mean                                  5.528298   \n",
       "std                                  17.914606   \n",
       "min                                   0.000000   \n",
       "25%                                   0.000000   \n",
       "50%                                   0.000000   \n",
       "75%                                   0.000000   \n",
       "max                                 100.000000   \n",
       "\n",
       "       PrimaFacie_percentagefault_uninsured  Perperson_Policylimit  \\\n",
       "count                           4806.000000           4.806000e+03   \n",
       "mean                               0.774241           9.365091e+04   \n",
       "std                                6.774256           3.355473e+05   \n",
       "min                                0.000000           0.000000e+00   \n",
       "25%                                0.000000           0.000000e+00   \n",
       "50%                                0.000000           0.000000e+00   \n",
       "75%                                0.000000           0.000000e+00   \n",
       "max                              100.000000           5.000000e+06   \n",
       "\n",
       "       PerOccurrence_PolicyLimit  CombinedSingleLimit  PolicyLimitPerInjury  \\\n",
       "count               4.806000e+03         4.806000e+03          4.806000e+03   \n",
       "mean                5.475019e+05         1.102712e+06          1.471690e+06   \n",
       "std                 1.372524e+06         4.073767e+06          4.125732e+06   \n",
       "min                 0.000000e+00         0.000000e+00          1.000000e+04   \n",
       "25%                 0.000000e+00         0.000000e+00          1.000000e+06   \n",
       "50%                 0.000000e+00         7.500160e+05          1.000000e+06   \n",
       "75%                 1.000000e+06         1.000000e+06          1.000000e+06   \n",
       "max                 4.000000e+07         5.000000e+07          5.000000e+07   \n",
       "\n",
       "       time_taken_to report  \n",
       "count           4806.000000  \n",
       "mean              45.597794  \n",
       "std               84.298572  \n",
       "min                0.000000  \n",
       "25%                1.000000  \n",
       "50%                5.000000  \n",
       "75%               37.000000  \n",
       "max              364.000000  "
      ]
     },
     "execution_count": 99,
     "metadata": {},
     "output_type": "execute_result"
    }
   ],
   "source": [
    "app_test_empty.describe()"
   ]
  },
  {
   "cell_type": "code",
   "execution_count": 100,
   "metadata": {},
   "outputs": [
    {
     "name": "stdout",
     "output_type": "stream",
     "text": [
      "<class 'pandas.core.frame.DataFrame'>\n",
      "Int64Index: 14417 entries, 0 to 14416\n",
      "Data columns (total 24 columns):\n",
      "Age_Injured                                         14417 non-null float64\n",
      "Work_related_injury_status                          14417 non-null object\n",
      "Non_economicloss                                    14417 non-null object\n",
      "Exemplarydamages                                    14417 non-null object\n",
      "WhetherPrimaFacie_JointandSeveralLiability          14417 non-null object\n",
      "Anyothercontributors                                14417 non-null object\n",
      "AnyMultipleInterestedparties                        14417 non-null object\n",
      "Match_Multiclaimant_multiInterestedparties_claim    14417 non-null object\n",
      "PrimaFacie_percentagefault_injured                  14417 non-null int64\n",
      "PrimaFacie_percentagefault_insured                  14417 non-null int64\n",
      "PrimaFacie_percentagefault_otherinsured             14417 non-null int64\n",
      "PrimaFacie_percentagefault_uninsured                14417 non-null int64\n",
      "PolicyType                                          14417 non-null object\n",
      "PolicyForm                                          14417 non-null object\n",
      "Employment_status                                   14417 non-null object\n",
      "BusinessClass                                       14417 non-null object\n",
      "Perperson_Policylimit                               14417 non-null int64\n",
      "PerOccurrence_PolicyLimit                           14417 non-null int64\n",
      "CombinedSingleLimit                                 14417 non-null int64\n",
      "PolicyLimitPerInjury                                14417 non-null int64\n",
      "Injury_Type                                         14417 non-null object\n",
      "Insurance_Type                                      14417 non-null object\n",
      "Cause_of_Claim                                      14417 non-null object\n",
      "time_taken_to report                                14417 non-null int64\n",
      "dtypes: float64(1), int64(9), object(14)\n",
      "memory usage: 2.7+ MB\n"
     ]
    }
   ],
   "source": [
    "app_train_empty.info()"
   ]
  },
  {
   "cell_type": "code",
   "execution_count": 101,
   "metadata": {},
   "outputs": [],
   "source": [
    "#retreiving the catagorical columns\n",
    "category_columns= app_train_empty.select_dtypes(include='object').columns"
   ]
  },
  {
   "cell_type": "code",
   "execution_count": 102,
   "metadata": {},
   "outputs": [],
   "source": [
    "#Converting Datatype of categorical variables"
   ]
  },
  {
   "cell_type": "code",
   "execution_count": 103,
   "metadata": {
    "scrolled": false
   },
   "outputs": [],
   "source": [
    "app_train_empty[category_columns] = app_train_empty[category_columns].apply(lambda x: x.astype('category'))"
   ]
  },
  {
   "cell_type": "code",
   "execution_count": 104,
   "metadata": {},
   "outputs": [],
   "source": [
    "app_test_empty[category_columns] = app_test_empty[category_columns].apply(lambda x: x.astype('category'))"
   ]
  },
  {
   "cell_type": "code",
   "execution_count": 105,
   "metadata": {},
   "outputs": [
    {
     "data": {
      "text/plain": [
       "40.0     433\n",
       "43.0     399\n",
       "35.0     392\n",
       "45.0     386\n",
       "41.0     379\n",
       "42.0     377\n",
       "38.0     356\n",
       "47.0     347\n",
       "39.0     339\n",
       "33.0     338\n",
       "37.0     332\n",
       "46.0     330\n",
       "44.0     326\n",
       "36.0     319\n",
       "50.0     318\n",
       "48.0     303\n",
       "29.0     289\n",
       "32.0     283\n",
       "34.0     274\n",
       "52.0     272\n",
       "54.0     269\n",
       "30.0     267\n",
       "53.0     266\n",
       "49.0     264\n",
       "28.0     257\n",
       "31.0     254\n",
       "55.0     243\n",
       "51.0     238\n",
       "27.0     231\n",
       "26.0     230\n",
       "        ... \n",
       "15.0      77\n",
       "77.0      77\n",
       "75.0      75\n",
       "78.0      75\n",
       "74.0      72\n",
       "76.0      67\n",
       "14.0      64\n",
       "79.0      64\n",
       "80.0      54\n",
       "81.0      53\n",
       "13.0      51\n",
       "12.0      47\n",
       "82.0      41\n",
       "11.0      39\n",
       "86.0      37\n",
       "83.0      36\n",
       "85.0      33\n",
       "84.0      30\n",
       "88.0      21\n",
       "90.0      18\n",
       "87.0      14\n",
       "91.0      12\n",
       "93.0      11\n",
       "89.0      11\n",
       "95.0       8\n",
       "94.0       7\n",
       "92.0       6\n",
       "98.0       3\n",
       "96.0       2\n",
       "100.0      1\n",
       "Name: Age_Injured, Length: 88, dtype: int64"
      ]
     },
     "execution_count": 105,
     "metadata": {},
     "output_type": "execute_result"
    }
   ],
   "source": [
    "app_train_empty['Age_Injured'].value_counts()"
   ]
  },
  {
   "cell_type": "code",
   "execution_count": 106,
   "metadata": {},
   "outputs": [],
   "source": [
    "#as there are no float values\n",
    "#app_train_empty['Age_Injured']= app_train_empty['Age_Injured'].astype(np.int64)\n",
    "app_test_empty['Age_Injured']= app_test_empty['Age_Injured'].astype(np.int64)"
   ]
  },
  {
   "cell_type": "code",
   "execution_count": 107,
   "metadata": {
    "scrolled": false
   },
   "outputs": [
    {
     "name": "stdout",
     "output_type": "stream",
     "text": [
      "<class 'pandas.core.frame.DataFrame'>\n",
      "Int64Index: 4806 entries, 0 to 4805\n",
      "Data columns (total 24 columns):\n",
      "Age_Injured                                         4806 non-null int64\n",
      "Work_related_injury_status                          4806 non-null category\n",
      "Non_economicloss                                    4806 non-null category\n",
      "Exemplarydamages                                    4806 non-null category\n",
      "WhetherPrimaFacie_JointandSeveralLiability          4806 non-null category\n",
      "Anyothercontributors                                4806 non-null category\n",
      "AnyMultipleInterestedparties                        4806 non-null category\n",
      "Match_Multiclaimant_multiInterestedparties_claim    4806 non-null category\n",
      "PrimaFacie_percentagefault_injured                  4806 non-null int64\n",
      "PrimaFacie_percentagefault_insured                  4806 non-null int64\n",
      "PrimaFacie_percentagefault_otherinsured             4806 non-null int64\n",
      "PrimaFacie_percentagefault_uninsured                4806 non-null int64\n",
      "PolicyType                                          4806 non-null category\n",
      "PolicyForm                                          4806 non-null category\n",
      "Employment_status                                   4806 non-null category\n",
      "BusinessClass                                       4806 non-null category\n",
      "Perperson_Policylimit                               4806 non-null int64\n",
      "PerOccurrence_PolicyLimit                           4806 non-null int64\n",
      "CombinedSingleLimit                                 4806 non-null int64\n",
      "PolicyLimitPerInjury                                4806 non-null int64\n",
      "Injury_Type                                         4806 non-null category\n",
      "Insurance_Type                                      4806 non-null category\n",
      "Cause_of_Claim                                      4806 non-null category\n",
      "time_taken_to report                                4806 non-null int64\n",
      "dtypes: category(14), int64(10)\n",
      "memory usage: 480.6 KB\n"
     ]
    }
   ],
   "source": [
    "app_test_empty.info()"
   ]
  },
  {
   "cell_type": "code",
   "execution_count": 108,
   "metadata": {},
   "outputs": [],
   "source": [
    "#to manual cross check\n",
    "app_train_empty.to_csv('newtrain.csv', sep=',', index=False)\n",
    "app_test_empty.to_csv('newtest.csv', sep=',', index=False)"
   ]
  },
  {
   "cell_type": "markdown",
   "metadata": {},
   "source": [
    "## Train and test split"
   ]
  },
  {
   "cell_type": "code",
   "execution_count": 109,
   "metadata": {},
   "outputs": [],
   "source": [
    "X_train, X_val, y_train, y_val = train_test_split(app_train_empty, app_train_target, test_size = 0.25, random_state = 42)"
   ]
  },
  {
   "cell_type": "markdown",
   "metadata": {},
   "source": [
    "## standardization"
   ]
  },
  {
   "cell_type": "code",
   "execution_count": 110,
   "metadata": {},
   "outputs": [],
   "source": [
    "numeric_columns= app_train_empty.select_dtypes(include='int64').columns\n",
    "X_train1=X_train[numeric_columns]"
   ]
  },
  {
   "cell_type": "code",
   "execution_count": 111,
   "metadata": {},
   "outputs": [
    {
     "name": "stdout",
     "output_type": "stream",
     "text": [
      "<class 'pandas.core.frame.DataFrame'>\n",
      "Int64Index: 10812 entries, 3402 to 7270\n",
      "Data columns (total 9 columns):\n",
      "PrimaFacie_percentagefault_injured         10812 non-null int64\n",
      "PrimaFacie_percentagefault_insured         10812 non-null int64\n",
      "PrimaFacie_percentagefault_otherinsured    10812 non-null int64\n",
      "PrimaFacie_percentagefault_uninsured       10812 non-null int64\n",
      "Perperson_Policylimit                      10812 non-null int64\n",
      "PerOccurrence_PolicyLimit                  10812 non-null int64\n",
      "CombinedSingleLimit                        10812 non-null int64\n",
      "PolicyLimitPerInjury                       10812 non-null int64\n",
      "time_taken_to report                       10812 non-null int64\n",
      "dtypes: int64(9)\n",
      "memory usage: 844.7 KB\n"
     ]
    }
   ],
   "source": [
    "X_train1.info()"
   ]
  },
  {
   "cell_type": "code",
   "execution_count": 112,
   "metadata": {},
   "outputs": [],
   "source": [
    "from sklearn.preprocessing import StandardScaler\n",
    "standardizer = StandardScaler()\n",
    "standardizer.fit(X_train[numeric_columns])\n",
    "X_train[numeric_columns] = standardizer.transform(X_train[numeric_columns])\n",
    "#print(\"Mean\",int(np.mean(train_scaled)))\n",
    "#print(\"SD\",int(np.std(train_scaled)))"
   ]
  },
  {
   "cell_type": "code",
   "execution_count": 113,
   "metadata": {},
   "outputs": [
    {
     "data": {
      "text/plain": [
       "(10812, 24)"
      ]
     },
     "execution_count": 113,
     "metadata": {},
     "output_type": "execute_result"
    }
   ],
   "source": [
    "X_train.shape"
   ]
  },
  {
   "cell_type": "code",
   "execution_count": 114,
   "metadata": {},
   "outputs": [],
   "source": [
    "from sklearn.preprocessing import StandardScaler\n",
    "standardizer = StandardScaler()\n",
    "standardizer.fit(X_val[numeric_columns])\n",
    "X_val[numeric_columns] = standardizer.transform(X_val[numeric_columns])\n",
    "#print(\"Mean\",int(np.mean(val_scaled)))\n",
    "#print(\"SD\",int(np.std(val_scaled)))"
   ]
  },
  {
   "cell_type": "code",
   "execution_count": 115,
   "metadata": {},
   "outputs": [],
   "source": [
    "from sklearn.preprocessing import StandardScaler\n",
    "standardizer = StandardScaler()\n",
    "standardizer.fit(app_test_empty[numeric_columns])\n",
    "app_test_empty[numeric_columns] = standardizer.transform(app_test_empty[numeric_columns])\n",
    "#print(\"Mean\",int(np.mean(test_scaled)))\n",
    "#print(\"SD\",int(np.std(test_scaled)))"
   ]
  },
  {
   "cell_type": "markdown",
   "metadata": {},
   "source": [
    "## Dummification"
   ]
  },
  {
   "cell_type": "code",
   "execution_count": 121,
   "metadata": {},
   "outputs": [],
   "source": [
    "X_train= pd.get_dummies(X_train, drop_first=True,dummy_na=True )\n",
    "X_val= pd.get_dummies(X_val, drop_first=True,dummy_na=True)\n",
    "app_test_empty= pd.get_dummies(app_test_empty, drop_first=True ,dummy_na=True)"
   ]
  },
  {
   "cell_type": "code",
   "execution_count": 122,
   "metadata": {},
   "outputs": [
    {
     "name": "stdout",
     "output_type": "stream",
     "text": [
      "Modified Train dimensions (10812, 54)\n",
      "Modified Train dimensions (3605, 54)\n",
      "Modified Train dimensions (4806, 54)\n"
     ]
    }
   ],
   "source": [
    "print(\"Modified Train dimensions\",X_train.shape)\n",
    "print(\"Modified Train dimensions\",X_val.shape)\n",
    "print(\"Modified Train dimensions\",app_test_empty.shape)"
   ]
  },
  {
   "cell_type": "markdown",
   "metadata": {},
   "source": [
    "# Model Building"
   ]
  },
  {
   "cell_type": "code",
   "execution_count": 123,
   "metadata": {},
   "outputs": [],
   "source": [
    "#label encode target variable\n",
    "from sklearn import preprocessing\n",
    "lab_enc = preprocessing.LabelEncoder()\n",
    "tar = lab_enc.fit_transform(y_train)\n",
    "tar_val = lab_enc.fit_transform(y_val)"
   ]
  },
  {
   "cell_type": "code",
   "execution_count": null,
   "metadata": {},
   "outputs": [],
   "source": []
  },
  {
   "cell_type": "code",
   "execution_count": 144,
   "metadata": {},
   "outputs": [
    {
     "name": "stdout",
     "output_type": "stream",
     "text": [
      "0:\tlearn: -1.0729635\ttotal: 130ms\tremaining: 10.2s\n",
      "1:\tlearn: -1.0507964\ttotal: 261ms\tremaining: 10.2s\n",
      "2:\tlearn: -1.0305656\ttotal: 470ms\tremaining: 12.1s\n",
      "3:\tlearn: -1.0136916\ttotal: 686ms\tremaining: 13s\n",
      "4:\tlearn: -0.9978127\ttotal: 888ms\tremaining: 13.3s\n",
      "5:\tlearn: -0.9821136\ttotal: 1.08s\tremaining: 13.3s\n",
      "6:\tlearn: -0.9693973\ttotal: 1.28s\tremaining: 13.3s\n",
      "7:\tlearn: -0.9573653\ttotal: 1.47s\tremaining: 13.2s\n",
      "8:\tlearn: -0.9459379\ttotal: 1.67s\tremaining: 13.2s\n",
      "9:\tlearn: -0.9351589\ttotal: 1.87s\tremaining: 13.1s\n",
      "10:\tlearn: -0.9252708\ttotal: 2.05s\tremaining: 12.9s\n",
      "11:\tlearn: -0.9169068\ttotal: 2.25s\tremaining: 12.8s\n",
      "12:\tlearn: -0.9095132\ttotal: 2.46s\tremaining: 12.7s\n",
      "13:\tlearn: -0.9016349\ttotal: 2.66s\tremaining: 12.6s\n",
      "14:\tlearn: -0.8945988\ttotal: 2.86s\tremaining: 12.4s\n",
      "15:\tlearn: -0.8889538\ttotal: 3.04s\tremaining: 12.2s\n",
      "16:\tlearn: -0.8820848\ttotal: 3.22s\tremaining: 11.9s\n",
      "17:\tlearn: -0.8769719\ttotal: 3.43s\tremaining: 11.8s\n",
      "18:\tlearn: -0.8714907\ttotal: 3.62s\tremaining: 11.6s\n",
      "19:\tlearn: -0.8646968\ttotal: 3.81s\tremaining: 11.4s\n",
      "20:\tlearn: -0.8596930\ttotal: 4.05s\tremaining: 11.4s\n",
      "21:\tlearn: -0.8539711\ttotal: 4.24s\tremaining: 11.2s\n",
      "22:\tlearn: -0.8495900\ttotal: 4.48s\tremaining: 11.1s\n",
      "23:\tlearn: -0.8455759\ttotal: 4.83s\tremaining: 11.3s\n",
      "24:\tlearn: -0.8418721\ttotal: 5.09s\tremaining: 11.2s\n",
      "25:\tlearn: -0.8387366\ttotal: 5.49s\tremaining: 11.4s\n",
      "26:\tlearn: -0.8357950\ttotal: 5.72s\tremaining: 11.2s\n",
      "27:\tlearn: -0.8315948\ttotal: 5.93s\tremaining: 11s\n",
      "28:\tlearn: -0.8268763\ttotal: 6.18s\tremaining: 10.9s\n",
      "29:\tlearn: -0.8231395\ttotal: 6.38s\tremaining: 10.6s\n",
      "30:\tlearn: -0.8201457\ttotal: 6.53s\tremaining: 10.3s\n",
      "31:\tlearn: -0.8179588\ttotal: 6.72s\tremaining: 10.1s\n",
      "32:\tlearn: -0.8153557\ttotal: 6.97s\tremaining: 9.93s\n",
      "33:\tlearn: -0.8123769\ttotal: 7.19s\tremaining: 9.73s\n",
      "34:\tlearn: -0.8087195\ttotal: 7.37s\tremaining: 9.48s\n",
      "35:\tlearn: -0.8057731\ttotal: 7.54s\tremaining: 9.21s\n",
      "36:\tlearn: -0.8031774\ttotal: 7.79s\tremaining: 9.06s\n",
      "37:\tlearn: -0.8019637\ttotal: 8.16s\tremaining: 9.02s\n",
      "38:\tlearn: -0.7992477\ttotal: 8.45s\tremaining: 8.88s\n",
      "39:\tlearn: -0.7974396\ttotal: 8.66s\tremaining: 8.66s\n",
      "40:\tlearn: -0.7948031\ttotal: 8.86s\tremaining: 8.43s\n",
      "41:\tlearn: -0.7931284\ttotal: 9.07s\tremaining: 8.21s\n",
      "42:\tlearn: -0.7921440\ttotal: 9.24s\tremaining: 7.95s\n",
      "43:\tlearn: -0.7904033\ttotal: 9.45s\tremaining: 7.73s\n",
      "44:\tlearn: -0.7891713\ttotal: 9.65s\tremaining: 7.5s\n",
      "45:\tlearn: -0.7881589\ttotal: 9.85s\tremaining: 7.28s\n",
      "46:\tlearn: -0.7865062\ttotal: 10.1s\tremaining: 7.06s\n",
      "47:\tlearn: -0.7852969\ttotal: 10.3s\tremaining: 6.85s\n",
      "48:\tlearn: -0.7838546\ttotal: 10.5s\tremaining: 6.65s\n",
      "49:\tlearn: -0.7818287\ttotal: 10.7s\tremaining: 6.42s\n",
      "50:\tlearn: -0.7807867\ttotal: 10.9s\tremaining: 6.2s\n",
      "51:\tlearn: -0.7794547\ttotal: 11.1s\tremaining: 5.98s\n",
      "52:\tlearn: -0.7774023\ttotal: 11.3s\tremaining: 5.76s\n",
      "53:\tlearn: -0.7755228\ttotal: 11.5s\tremaining: 5.54s\n",
      "54:\tlearn: -0.7749019\ttotal: 11.7s\tremaining: 5.31s\n",
      "55:\tlearn: -0.7740171\ttotal: 11.9s\tremaining: 5.09s\n",
      "56:\tlearn: -0.7725294\ttotal: 12.1s\tremaining: 4.87s\n",
      "57:\tlearn: -0.7715525\ttotal: 12.3s\tremaining: 4.65s\n",
      "58:\tlearn: -0.7707899\ttotal: 12.5s\tremaining: 4.43s\n",
      "59:\tlearn: -0.7700583\ttotal: 12.6s\tremaining: 4.21s\n",
      "60:\tlearn: -0.7693651\ttotal: 12.8s\tremaining: 3.99s\n",
      "61:\tlearn: -0.7677317\ttotal: 13s\tremaining: 3.76s\n",
      "62:\tlearn: -0.7669837\ttotal: 13.3s\tremaining: 3.58s\n",
      "63:\tlearn: -0.7663825\ttotal: 13.4s\tremaining: 3.36s\n",
      "64:\tlearn: -0.7654447\ttotal: 13.6s\tremaining: 3.14s\n",
      "65:\tlearn: -0.7633212\ttotal: 13.8s\tremaining: 2.94s\n",
      "66:\tlearn: -0.7623273\ttotal: 14s\tremaining: 2.72s\n",
      "67:\tlearn: -0.7612211\ttotal: 14.2s\tremaining: 2.51s\n",
      "68:\tlearn: -0.7603617\ttotal: 14.4s\tremaining: 2.29s\n",
      "69:\tlearn: -0.7595151\ttotal: 14.5s\tremaining: 2.08s\n",
      "70:\tlearn: -0.7588638\ttotal: 14.7s\tremaining: 1.87s\n",
      "71:\tlearn: -0.7582488\ttotal: 14.9s\tremaining: 1.66s\n",
      "72:\tlearn: -0.7570227\ttotal: 15.1s\tremaining: 1.45s\n",
      "73:\tlearn: -0.7565111\ttotal: 15.3s\tremaining: 1.24s\n",
      "74:\tlearn: -0.7561872\ttotal: 15.5s\tremaining: 1.03s\n",
      "75:\tlearn: -0.7555149\ttotal: 15.6s\tremaining: 823ms\n",
      "76:\tlearn: -0.7547107\ttotal: 15.8s\tremaining: 617ms\n",
      "77:\tlearn: -0.7537096\ttotal: 16s\tremaining: 410ms\n",
      "78:\tlearn: -0.7523157\ttotal: 16.1s\tremaining: 204ms\n",
      "79:\tlearn: -0.7514666\ttotal: 16.4s\tremaining: 0us\n"
     ]
    },
    {
     "data": {
      "text/plain": [
       "<catboost.core.CatBoostClassifier at 0x1e475e77128>"
      ]
     },
     "execution_count": 144,
     "metadata": {},
     "output_type": "execute_result"
    }
   ],
   "source": [
    "#using gradient boosting method called Catboost which will accept catagorical variables\n",
    "model = CatBoostClassifier(iterations=80, learning_rate=0.05, depth=6, loss_function='MultiClass',\n",
    "                           boosting_type='Ordered', bagging_temperature= 0.5,thread_count=10)\n",
    "# Fit model\n",
    "model.fit(X_train, tar)\n"
   ]
  },
  {
   "cell_type": "code",
   "execution_count": 145,
   "metadata": {},
   "outputs": [],
   "source": [
    "preds_class_train = model.predict(X_train)\n",
    "# Get predicted probabilities for each class\n",
    "preds_proba_train = model.predict_proba(X_train)\n",
    "# Get predicted RawFormulaVal\n",
    "preds_raw_train = model.predict(X_train, prediction_type='Class') \n"
   ]
  },
  {
   "cell_type": "code",
   "execution_count": 146,
   "metadata": {},
   "outputs": [],
   "source": [
    "preds_class = model.predict(X_val)\n",
    "# Get predicted probabilities for each class\n",
    "preds_proba = model.predict_proba(X_val)\n",
    "# Get predicted RawFormulaVal\n",
    "preds_raw = model.predict(X_val, prediction_type='Class') "
   ]
  },
  {
   "cell_type": "code",
   "execution_count": 147,
   "metadata": {},
   "outputs": [
    {
     "data": {
      "text/plain": [
       "array([[0.],\n",
       "       [2.],\n",
       "       [2.],\n",
       "       ...,\n",
       "       [2.],\n",
       "       [1.],\n",
       "       [2.]])"
      ]
     },
     "execution_count": 147,
     "metadata": {},
     "output_type": "execute_result"
    }
   ],
   "source": [
    "preds_raw"
   ]
  },
  {
   "cell_type": "code",
   "execution_count": 148,
   "metadata": {
    "scrolled": true
   },
   "outputs": [
    {
     "name": "stdout",
     "output_type": "stream",
     "text": [
      "Accuracy: 0.685072142064373\n",
      "Accuracy: 0.6826629680998613\n"
     ]
    }
   ],
   "source": [
    "print ('Accuracy:', accuracy_score(tar, preds_raw_train))\n",
    "print ('Accuracy:', accuracy_score(tar_val, preds_raw))"
   ]
  },
  {
   "cell_type": "markdown",
   "metadata": {},
   "source": [
    "# Random Forest"
   ]
  },
  {
   "cell_type": "code",
   "execution_count": null,
   "metadata": {},
   "outputs": [],
   "source": [
    "np.random.seed(1234)"
   ]
  },
  {
   "cell_type": "code",
   "execution_count": 194,
   "metadata": {},
   "outputs": [
    {
     "data": {
      "text/plain": [
       "RandomForestClassifier(bootstrap=True, class_weight=None, criterion='gini',\n",
       "            max_depth=8, max_features=20, max_leaf_nodes=None,\n",
       "            min_impurity_decrease=0.0, min_impurity_split=None,\n",
       "            min_samples_leaf=1, min_samples_split=2,\n",
       "            min_weight_fraction_leaf=0.0, n_estimators=100, n_jobs=10,\n",
       "            oob_score=False, random_state=2, verbose=0, warm_start=False)"
      ]
     },
     "execution_count": 194,
     "metadata": {},
     "output_type": "execute_result"
    }
   ],
   "source": [
    "# Create a random forest Classifier. By convention, clf means 'Classifier'\n",
    "clf = RandomForestClassifier(n_estimators=100, criterion='gini',n_jobs=10, \n",
    "                             random_state=2,max_depth=8, max_features=20,bootstrap=True)\n",
    "\n",
    "# Train the Classifier to take the training features and learn how they relate\n",
    "# to the training y (the species)\n",
    "clf.fit(X_train, tar)"
   ]
  },
  {
   "cell_type": "code",
   "execution_count": 195,
   "metadata": {},
   "outputs": [
    {
     "name": "stdout",
     "output_type": "stream",
     "text": [
      "Accuracy: 0.7166111727709952\n",
      "Accuracy: 0.6957004160887656\n"
     ]
    }
   ],
   "source": [
    "predicted_rf = clf.predict(X_train)\n",
    "preds1=clf.predict(X_val)\n",
    "print ('Accuracy:', accuracy_score(tar, predicted_rf))\n",
    "print ('Accuracy:', accuracy_score(tar_val, preds1))\n"
   ]
  },
  {
   "cell_type": "code",
   "execution_count": 226,
   "metadata": {
    "scrolled": true
   },
   "outputs": [
    {
     "data": {
      "text/plain": [
       "array([2.28489807e-02, 2.34976708e-02, 7.52496025e-02, 1.91561175e-02,\n",
       "       2.02301582e-03, 2.59728033e-03, 2.12320942e-02, 1.45368831e-02,\n",
       "       1.82565536e-02, 3.20562503e-02, 3.55751197e-03, 7.14574728e-03,\n",
       "       0.00000000e+00, 4.32165895e-03, 0.00000000e+00, 4.19890022e-05,\n",
       "       0.00000000e+00, 1.46197799e-04, 0.00000000e+00, 7.11672546e-03,\n",
       "       0.00000000e+00, 8.14772942e-03, 0.00000000e+00, 6.88038849e-04,\n",
       "       4.40446158e-04, 2.24414664e-03, 0.00000000e+00, 4.59852361e-03,\n",
       "       0.00000000e+00, 3.99401279e-03, 0.00000000e+00, 2.15166660e-03,\n",
       "       0.00000000e+00, 5.11546445e-03, 2.67914674e-03, 2.69138643e-03,\n",
       "       1.71364215e-03, 2.66072474e-03, 0.00000000e+00, 5.29711617e-02,\n",
       "       2.72296846e-01, 4.84366765e-02, 1.78879987e-01, 5.56634862e-02,\n",
       "       0.00000000e+00, 2.66259711e-02, 2.62384519e-02, 8.27426926e-03,\n",
       "       0.00000000e+00, 1.43342742e-02, 1.42994152e-02, 3.51514617e-03,\n",
       "       7.55510716e-03, 0.00000000e+00])"
      ]
     },
     "execution_count": 226,
     "metadata": {},
     "output_type": "execute_result"
    }
   ],
   "source": [
    "clf.feature_importances_"
   ]
  },
  {
   "cell_type": "markdown",
   "metadata": {},
   "source": [
    "## Extract important features"
   ]
  },
  {
   "cell_type": "code",
   "execution_count": 225,
   "metadata": {
    "scrolled": true
   },
   "outputs": [
    {
     "name": "stdout",
     "output_type": "stream",
     "text": [
      "Features sorted by their score:\n",
      "[(0.2723, 'Injury_Type_LM'), (0.1789, 'Injury_Type_Other'), (0.0752, 'PrimaFacie_percentagefault_insured'), (0.0557, 'Injury_Type_R'), (0.053, 'Injury_Type_L'), (0.0484, 'Injury_Type_M'), (0.0321, 'time_taken_to report'), (0.0266, 'Insurance_Type_NoworkcompYesCSAMedical'), (0.0262, 'Insurance_Type_Other'), (0.0235, 'PrimaFacie_percentagefault_injured'), (0.0228, 'Age_Injured'), (0.0212, 'PerOccurrence_PolicyLimit'), (0.0192, 'PrimaFacie_percentagefault_otherinsured'), (0.0183, 'PolicyLimitPerInjury'), (0.0145, 'CombinedSingleLimit'), (0.0143, 'Cause_of_Claim_F'), (0.0143, 'Cause_of_Claim_E'), (0.0083, 'Insurance_Type_WorksersCompNoOtherCollateral'), (0.0081, 'AnyMultipleInterestedparties_1.0'), (0.0076, 'Cause_of_Claim_Other'), (0.0071, 'Work_related_injury_status_Y'), (0.0071, 'Anyothercontributors_2.0'), (0.0051, 'BusinessClass_19'), (0.0046, 'PolicyType_2.0'), (0.0043, 'Non_economicloss_Yes'), (0.004, 'PolicyForm_2.0'), (0.0036, 'Work_related_injury_status_N'), (0.0035, 'Cause_of_Claim_O'), (0.0027, 'BusinessClass_Other'), (0.0027, 'BusinessClass_7'), (0.0027, 'BusinessClass_26'), (0.0026, 'Perperson_Policylimit'), (0.0022, 'Match_Multiclaimant_multiInterestedparties_claim_NA'), (0.0022, 'Employment_status_Y'), (0.002, 'PrimaFacie_percentagefault_uninsured'), (0.0017, 'BusinessClass_8'), (0.0007, 'Match_Multiclaimant_multiInterestedparties_claim_1'), (0.0004, 'Match_Multiclaimant_multiInterestedparties_claim_2'), (0.0001, 'WhetherPrimaFacie_JointandSeveralLiability_Y'), (0.0, 'Work_related_injury_status_nan'), (0.0, 'WhetherPrimaFacie_JointandSeveralLiability_nan'), (0.0, 'PolicyType_nan'), (0.0, 'PolicyForm_nan'), (0.0, 'Non_economicloss_nan'), (0.0, 'Match_Multiclaimant_multiInterestedparties_claim_nan'), (0.0, 'Insurance_Type_nan'), (0.0, 'Injury_Type_nan'), (0.0, 'Exemplarydamages_nan'), (0.0, 'Exemplarydamages_Yes'), (0.0, 'Employment_status_nan'), (0.0, 'Cause_of_Claim_nan'), (0.0, 'BusinessClass_nan'), (0.0, 'Anyothercontributors_nan'), (0.0, 'AnyMultipleInterestedparties_nan')]\n"
     ]
    }
   ],
   "source": [
    "names= X_train.columns\n",
    "print (\"Features sorted by their score:\")\n",
    "print (sorted(zip(map(lambda x: round(x, 4), clf.feature_importances_), names), \n",
    "             reverse=True))"
   ]
  },
  {
   "cell_type": "code",
   "execution_count": 247,
   "metadata": {},
   "outputs": [],
   "source": [
    "impf=sorted(zip(map(lambda x: round(x, 4), clf.feature_importances_), names), \n",
    "             reverse=True)\n",
    "impf = pd.DataFrame(impf, index=None)"
   ]
  },
  {
   "cell_type": "code",
   "execution_count": 248,
   "metadata": {},
   "outputs": [
    {
     "data": {
      "text/html": [
       "<div>\n",
       "<style scoped>\n",
       "    .dataframe tbody tr th:only-of-type {\n",
       "        vertical-align: middle;\n",
       "    }\n",
       "\n",
       "    .dataframe tbody tr th {\n",
       "        vertical-align: top;\n",
       "    }\n",
       "\n",
       "    .dataframe thead th {\n",
       "        text-align: right;\n",
       "    }\n",
       "</style>\n",
       "<table border=\"1\" class=\"dataframe\">\n",
       "  <thead>\n",
       "    <tr style=\"text-align: right;\">\n",
       "      <th></th>\n",
       "      <th>0</th>\n",
       "      <th>1</th>\n",
       "    </tr>\n",
       "  </thead>\n",
       "  <tbody>\n",
       "    <tr>\n",
       "      <th>0</th>\n",
       "      <td>0.2723</td>\n",
       "      <td>Injury_Type_LM</td>\n",
       "    </tr>\n",
       "    <tr>\n",
       "      <th>1</th>\n",
       "      <td>0.1789</td>\n",
       "      <td>Injury_Type_Other</td>\n",
       "    </tr>\n",
       "    <tr>\n",
       "      <th>2</th>\n",
       "      <td>0.0752</td>\n",
       "      <td>PrimaFacie_percentagefault_insured</td>\n",
       "    </tr>\n",
       "    <tr>\n",
       "      <th>3</th>\n",
       "      <td>0.0557</td>\n",
       "      <td>Injury_Type_R</td>\n",
       "    </tr>\n",
       "    <tr>\n",
       "      <th>4</th>\n",
       "      <td>0.0530</td>\n",
       "      <td>Injury_Type_L</td>\n",
       "    </tr>\n",
       "    <tr>\n",
       "      <th>5</th>\n",
       "      <td>0.0484</td>\n",
       "      <td>Injury_Type_M</td>\n",
       "    </tr>\n",
       "    <tr>\n",
       "      <th>6</th>\n",
       "      <td>0.0321</td>\n",
       "      <td>time_taken_to report</td>\n",
       "    </tr>\n",
       "    <tr>\n",
       "      <th>7</th>\n",
       "      <td>0.0266</td>\n",
       "      <td>Insurance_Type_NoworkcompYesCSAMedical</td>\n",
       "    </tr>\n",
       "    <tr>\n",
       "      <th>8</th>\n",
       "      <td>0.0262</td>\n",
       "      <td>Insurance_Type_Other</td>\n",
       "    </tr>\n",
       "    <tr>\n",
       "      <th>9</th>\n",
       "      <td>0.0235</td>\n",
       "      <td>PrimaFacie_percentagefault_injured</td>\n",
       "    </tr>\n",
       "    <tr>\n",
       "      <th>10</th>\n",
       "      <td>0.0228</td>\n",
       "      <td>Age_Injured</td>\n",
       "    </tr>\n",
       "    <tr>\n",
       "      <th>11</th>\n",
       "      <td>0.0212</td>\n",
       "      <td>PerOccurrence_PolicyLimit</td>\n",
       "    </tr>\n",
       "    <tr>\n",
       "      <th>12</th>\n",
       "      <td>0.0192</td>\n",
       "      <td>PrimaFacie_percentagefault_otherinsured</td>\n",
       "    </tr>\n",
       "    <tr>\n",
       "      <th>13</th>\n",
       "      <td>0.0183</td>\n",
       "      <td>PolicyLimitPerInjury</td>\n",
       "    </tr>\n",
       "    <tr>\n",
       "      <th>14</th>\n",
       "      <td>0.0145</td>\n",
       "      <td>CombinedSingleLimit</td>\n",
       "    </tr>\n",
       "    <tr>\n",
       "      <th>15</th>\n",
       "      <td>0.0143</td>\n",
       "      <td>Cause_of_Claim_F</td>\n",
       "    </tr>\n",
       "    <tr>\n",
       "      <th>16</th>\n",
       "      <td>0.0143</td>\n",
       "      <td>Cause_of_Claim_E</td>\n",
       "    </tr>\n",
       "    <tr>\n",
       "      <th>17</th>\n",
       "      <td>0.0083</td>\n",
       "      <td>Insurance_Type_WorksersCompNoOtherCollateral</td>\n",
       "    </tr>\n",
       "    <tr>\n",
       "      <th>18</th>\n",
       "      <td>0.0081</td>\n",
       "      <td>AnyMultipleInterestedparties_1.0</td>\n",
       "    </tr>\n",
       "    <tr>\n",
       "      <th>19</th>\n",
       "      <td>0.0076</td>\n",
       "      <td>Cause_of_Claim_Other</td>\n",
       "    </tr>\n",
       "    <tr>\n",
       "      <th>20</th>\n",
       "      <td>0.0071</td>\n",
       "      <td>Work_related_injury_status_Y</td>\n",
       "    </tr>\n",
       "    <tr>\n",
       "      <th>21</th>\n",
       "      <td>0.0071</td>\n",
       "      <td>Anyothercontributors_2.0</td>\n",
       "    </tr>\n",
       "    <tr>\n",
       "      <th>22</th>\n",
       "      <td>0.0051</td>\n",
       "      <td>BusinessClass_19</td>\n",
       "    </tr>\n",
       "    <tr>\n",
       "      <th>23</th>\n",
       "      <td>0.0046</td>\n",
       "      <td>PolicyType_2.0</td>\n",
       "    </tr>\n",
       "    <tr>\n",
       "      <th>24</th>\n",
       "      <td>0.0043</td>\n",
       "      <td>Non_economicloss_Yes</td>\n",
       "    </tr>\n",
       "    <tr>\n",
       "      <th>25</th>\n",
       "      <td>0.0040</td>\n",
       "      <td>PolicyForm_2.0</td>\n",
       "    </tr>\n",
       "    <tr>\n",
       "      <th>26</th>\n",
       "      <td>0.0036</td>\n",
       "      <td>Work_related_injury_status_N</td>\n",
       "    </tr>\n",
       "    <tr>\n",
       "      <th>27</th>\n",
       "      <td>0.0035</td>\n",
       "      <td>Cause_of_Claim_O</td>\n",
       "    </tr>\n",
       "    <tr>\n",
       "      <th>28</th>\n",
       "      <td>0.0027</td>\n",
       "      <td>BusinessClass_Other</td>\n",
       "    </tr>\n",
       "    <tr>\n",
       "      <th>29</th>\n",
       "      <td>0.0027</td>\n",
       "      <td>BusinessClass_7</td>\n",
       "    </tr>\n",
       "    <tr>\n",
       "      <th>30</th>\n",
       "      <td>0.0027</td>\n",
       "      <td>BusinessClass_26</td>\n",
       "    </tr>\n",
       "    <tr>\n",
       "      <th>31</th>\n",
       "      <td>0.0026</td>\n",
       "      <td>Perperson_Policylimit</td>\n",
       "    </tr>\n",
       "    <tr>\n",
       "      <th>32</th>\n",
       "      <td>0.0022</td>\n",
       "      <td>Match_Multiclaimant_multiInterestedparties_cla...</td>\n",
       "    </tr>\n",
       "    <tr>\n",
       "      <th>33</th>\n",
       "      <td>0.0022</td>\n",
       "      <td>Employment_status_Y</td>\n",
       "    </tr>\n",
       "    <tr>\n",
       "      <th>34</th>\n",
       "      <td>0.0020</td>\n",
       "      <td>PrimaFacie_percentagefault_uninsured</td>\n",
       "    </tr>\n",
       "    <tr>\n",
       "      <th>35</th>\n",
       "      <td>0.0017</td>\n",
       "      <td>BusinessClass_8</td>\n",
       "    </tr>\n",
       "    <tr>\n",
       "      <th>36</th>\n",
       "      <td>0.0007</td>\n",
       "      <td>Match_Multiclaimant_multiInterestedparties_cla...</td>\n",
       "    </tr>\n",
       "    <tr>\n",
       "      <th>37</th>\n",
       "      <td>0.0004</td>\n",
       "      <td>Match_Multiclaimant_multiInterestedparties_cla...</td>\n",
       "    </tr>\n",
       "    <tr>\n",
       "      <th>38</th>\n",
       "      <td>0.0001</td>\n",
       "      <td>WhetherPrimaFacie_JointandSeveralLiability_Y</td>\n",
       "    </tr>\n",
       "    <tr>\n",
       "      <th>39</th>\n",
       "      <td>0.0000</td>\n",
       "      <td>Work_related_injury_status_nan</td>\n",
       "    </tr>\n",
       "    <tr>\n",
       "      <th>40</th>\n",
       "      <td>0.0000</td>\n",
       "      <td>WhetherPrimaFacie_JointandSeveralLiability_nan</td>\n",
       "    </tr>\n",
       "    <tr>\n",
       "      <th>41</th>\n",
       "      <td>0.0000</td>\n",
       "      <td>PolicyType_nan</td>\n",
       "    </tr>\n",
       "    <tr>\n",
       "      <th>42</th>\n",
       "      <td>0.0000</td>\n",
       "      <td>PolicyForm_nan</td>\n",
       "    </tr>\n",
       "    <tr>\n",
       "      <th>43</th>\n",
       "      <td>0.0000</td>\n",
       "      <td>Non_economicloss_nan</td>\n",
       "    </tr>\n",
       "    <tr>\n",
       "      <th>44</th>\n",
       "      <td>0.0000</td>\n",
       "      <td>Match_Multiclaimant_multiInterestedparties_cla...</td>\n",
       "    </tr>\n",
       "    <tr>\n",
       "      <th>45</th>\n",
       "      <td>0.0000</td>\n",
       "      <td>Insurance_Type_nan</td>\n",
       "    </tr>\n",
       "    <tr>\n",
       "      <th>46</th>\n",
       "      <td>0.0000</td>\n",
       "      <td>Injury_Type_nan</td>\n",
       "    </tr>\n",
       "    <tr>\n",
       "      <th>47</th>\n",
       "      <td>0.0000</td>\n",
       "      <td>Exemplarydamages_nan</td>\n",
       "    </tr>\n",
       "    <tr>\n",
       "      <th>48</th>\n",
       "      <td>0.0000</td>\n",
       "      <td>Exemplarydamages_Yes</td>\n",
       "    </tr>\n",
       "    <tr>\n",
       "      <th>49</th>\n",
       "      <td>0.0000</td>\n",
       "      <td>Employment_status_nan</td>\n",
       "    </tr>\n",
       "    <tr>\n",
       "      <th>50</th>\n",
       "      <td>0.0000</td>\n",
       "      <td>Cause_of_Claim_nan</td>\n",
       "    </tr>\n",
       "    <tr>\n",
       "      <th>51</th>\n",
       "      <td>0.0000</td>\n",
       "      <td>BusinessClass_nan</td>\n",
       "    </tr>\n",
       "    <tr>\n",
       "      <th>52</th>\n",
       "      <td>0.0000</td>\n",
       "      <td>Anyothercontributors_nan</td>\n",
       "    </tr>\n",
       "    <tr>\n",
       "      <th>53</th>\n",
       "      <td>0.0000</td>\n",
       "      <td>AnyMultipleInterestedparties_nan</td>\n",
       "    </tr>\n",
       "  </tbody>\n",
       "</table>\n",
       "</div>"
      ],
      "text/plain": [
       "         0                                                  1\n",
       "0   0.2723                                     Injury_Type_LM\n",
       "1   0.1789                                  Injury_Type_Other\n",
       "2   0.0752                 PrimaFacie_percentagefault_insured\n",
       "3   0.0557                                      Injury_Type_R\n",
       "4   0.0530                                      Injury_Type_L\n",
       "5   0.0484                                      Injury_Type_M\n",
       "6   0.0321                               time_taken_to report\n",
       "7   0.0266             Insurance_Type_NoworkcompYesCSAMedical\n",
       "8   0.0262                               Insurance_Type_Other\n",
       "9   0.0235                 PrimaFacie_percentagefault_injured\n",
       "10  0.0228                                        Age_Injured\n",
       "11  0.0212                          PerOccurrence_PolicyLimit\n",
       "12  0.0192            PrimaFacie_percentagefault_otherinsured\n",
       "13  0.0183                               PolicyLimitPerInjury\n",
       "14  0.0145                                CombinedSingleLimit\n",
       "15  0.0143                                   Cause_of_Claim_F\n",
       "16  0.0143                                   Cause_of_Claim_E\n",
       "17  0.0083       Insurance_Type_WorksersCompNoOtherCollateral\n",
       "18  0.0081                   AnyMultipleInterestedparties_1.0\n",
       "19  0.0076                               Cause_of_Claim_Other\n",
       "20  0.0071                       Work_related_injury_status_Y\n",
       "21  0.0071                           Anyothercontributors_2.0\n",
       "22  0.0051                                   BusinessClass_19\n",
       "23  0.0046                                     PolicyType_2.0\n",
       "24  0.0043                               Non_economicloss_Yes\n",
       "25  0.0040                                     PolicyForm_2.0\n",
       "26  0.0036                       Work_related_injury_status_N\n",
       "27  0.0035                                   Cause_of_Claim_O\n",
       "28  0.0027                                BusinessClass_Other\n",
       "29  0.0027                                    BusinessClass_7\n",
       "30  0.0027                                   BusinessClass_26\n",
       "31  0.0026                              Perperson_Policylimit\n",
       "32  0.0022  Match_Multiclaimant_multiInterestedparties_cla...\n",
       "33  0.0022                                Employment_status_Y\n",
       "34  0.0020               PrimaFacie_percentagefault_uninsured\n",
       "35  0.0017                                    BusinessClass_8\n",
       "36  0.0007  Match_Multiclaimant_multiInterestedparties_cla...\n",
       "37  0.0004  Match_Multiclaimant_multiInterestedparties_cla...\n",
       "38  0.0001       WhetherPrimaFacie_JointandSeveralLiability_Y\n",
       "39  0.0000                     Work_related_injury_status_nan\n",
       "40  0.0000     WhetherPrimaFacie_JointandSeveralLiability_nan\n",
       "41  0.0000                                     PolicyType_nan\n",
       "42  0.0000                                     PolicyForm_nan\n",
       "43  0.0000                               Non_economicloss_nan\n",
       "44  0.0000  Match_Multiclaimant_multiInterestedparties_cla...\n",
       "45  0.0000                                 Insurance_Type_nan\n",
       "46  0.0000                                    Injury_Type_nan\n",
       "47  0.0000                               Exemplarydamages_nan\n",
       "48  0.0000                               Exemplarydamages_Yes\n",
       "49  0.0000                              Employment_status_nan\n",
       "50  0.0000                                 Cause_of_Claim_nan\n",
       "51  0.0000                                  BusinessClass_nan\n",
       "52  0.0000                           Anyothercontributors_nan\n",
       "53  0.0000                   AnyMultipleInterestedparties_nan"
      ]
     },
     "execution_count": 248,
     "metadata": {},
     "output_type": "execute_result"
    }
   ],
   "source": [
    "impf"
   ]
  },
  {
   "cell_type": "markdown",
   "metadata": {},
   "source": [
    "### Build Random forest on important features"
   ]
  },
  {
   "cell_type": "code",
   "execution_count": 281,
   "metadata": {},
   "outputs": [],
   "source": [
    "impf1 = impf[1]\n",
    "impf1=impf1[0:28]"
   ]
  },
  {
   "cell_type": "code",
   "execution_count": 282,
   "metadata": {},
   "outputs": [],
   "source": [
    "np.random.seed(12345)"
   ]
  },
  {
   "cell_type": "code",
   "execution_count": 343,
   "metadata": {
    "scrolled": true
   },
   "outputs": [
    {
     "data": {
      "text/plain": [
       "RandomForestClassifier(bootstrap=True, class_weight=None, criterion='gini',\n",
       "            max_depth=10, max_features=23, max_leaf_nodes=None,\n",
       "            min_impurity_decrease=0.0, min_impurity_split=None,\n",
       "            min_samples_leaf=4, min_samples_split=2,\n",
       "            min_weight_fraction_leaf=0.0, n_estimators=100, n_jobs=10,\n",
       "            oob_score=True, random_state=3, verbose=0, warm_start=False)"
      ]
     },
     "execution_count": 343,
     "metadata": {},
     "output_type": "execute_result"
    }
   ],
   "source": [
    "# Create a random forest Classifier. By convention, clf means 'Classifier'\n",
    "clf = RandomForestClassifier(n_estimators=100, criterion='gini',n_jobs=10, \n",
    "                             random_state=3,max_depth=10, max_features=23,bootstrap=True, \n",
    "                             min_samples_leaf=4,oob_score=True)\n",
    "\n",
    "# Train the Classifier to take the training features and learn how they relate\n",
    "# to the training y (the species)\n",
    "\n",
    "clf.fit(X_train[impf1], tar)"
   ]
  },
  {
   "cell_type": "code",
   "execution_count": 344,
   "metadata": {},
   "outputs": [
    {
     "name": "stdout",
     "output_type": "stream",
     "text": [
      "Accuracy: 0.733999260081391\n",
      "Accuracy: 0.7040221914008322\n"
     ]
    }
   ],
   "source": [
    "predicted_rf = clf.predict(X_train[impf1])\n",
    "preds1=clf.predict(X_val[impf1])\n",
    "print ('Accuracy:', accuracy_score(tar, predicted_rf))\n",
    "print ('Accuracy:', accuracy_score(tar_val, preds1))\n"
   ]
  },
  {
   "cell_type": "code",
   "execution_count": null,
   "metadata": {},
   "outputs": [],
   "source": []
  },
  {
   "cell_type": "markdown",
   "metadata": {},
   "source": [
    "## Decision Trees"
   ]
  },
  {
   "cell_type": "code",
   "execution_count": 347,
   "metadata": {},
   "outputs": [],
   "source": [
    "from sklearn.tree import DecisionTreeClassifier \n",
    "clf_entropy = DecisionTreeClassifier( \n",
    "            criterion = \"entropy\", random_state = 100, \n",
    "            max_depth = 10, min_samples_leaf = 8) \n",
    "clf_gini = DecisionTreeClassifier(criterion = \"gini\", \n",
    "            random_state = 100,max_depth=10, min_samples_leaf=8) \n",
    "  \n",
    "# Performing training \n",
    "clf_entropy.fit(X_train, y_train)\n",
    "clf_gini.fit(X_train, y_train) \n",
    "\n",
    "predicted_DT_gini = clf_gini.predict(X_train)\n",
    "predicted_DT_entropy = clf_entropy.predict(X_train)\n",
    "\n",
    "preds1_gini=clf_gini.predict(X_val)\n",
    "preds1_entropy=clf_entropy.predict(X_val)\n"
   ]
  },
  {
   "cell_type": "code",
   "execution_count": 348,
   "metadata": {},
   "outputs": [
    {
     "name": "stdout",
     "output_type": "stream",
     "text": [
      "Accuracy train gini: 0.6994080651128376\n",
      "Accuracy val gini: 0.6635228848821082\n",
      "Accuracy train entropy: 0.7154088050314465\n",
      "Accuracy val entropy: 0.6887656033287102\n"
     ]
    }
   ],
   "source": [
    "print ('Accuracy train gini:', accuracy_score(y_train, predicted_DT_gini))\n",
    "print ('Accuracy val gini:', accuracy_score(y_val, preds1_gini))\n",
    "\n",
    "print ('Accuracy train entropy:', accuracy_score(y_train, predicted_DT_entropy))\n",
    "print ('Accuracy val entropy:', accuracy_score(y_val, preds1_entropy))\n"
   ]
  },
  {
   "cell_type": "markdown",
   "metadata": {},
   "source": [
    "## Logistic Regression"
   ]
  },
  {
   "cell_type": "code",
   "execution_count": 209,
   "metadata": {},
   "outputs": [
    {
     "data": {
      "text/plain": [
       "LogisticRegression(C=1.0, class_weight=None, dual=False, fit_intercept=True,\n",
       "          intercept_scaling=1, max_iter=100, multi_class='ovr', n_jobs=1,\n",
       "          penalty='l2', random_state=None, solver='liblinear', tol=0.0001,\n",
       "          verbose=0, warm_start=False)"
      ]
     },
     "execution_count": 209,
     "metadata": {},
     "output_type": "execute_result"
    }
   ],
   "source": [
    "lr = LogisticRegression()\n",
    "lr.fit(X_train, y_train)"
   ]
  },
  {
   "cell_type": "code",
   "execution_count": 211,
   "metadata": {},
   "outputs": [
    {
     "name": "stdout",
     "output_type": "stream",
     "text": [
      "Accuracy: 0.6802626711061783\n",
      "Accuracy: 0.6798890429958391\n"
     ]
    }
   ],
   "source": [
    "predicted_lr = lr.predict(X_train)\n",
    "preds_val_lr=lr.predict(X_val)\n",
    "print ('Accuracy:', accuracy_score(y_train, predicted_lr))\n",
    "print ('Accuracy:', accuracy_score(y_val, preds_val_lr))"
   ]
  },
  {
   "cell_type": "markdown",
   "metadata": {},
   "source": [
    "## Multinom Regression"
   ]
  },
  {
   "cell_type": "code",
   "execution_count": 213,
   "metadata": {},
   "outputs": [
    {
     "name": "stdout",
     "output_type": "stream",
     "text": [
      "Accuracy: 0.6838697743248243\n",
      "Accuracy: 0.6807212205270458\n"
     ]
    }
   ],
   "source": [
    "mul_lr = LogisticRegression(multi_class='multinomial', solver='newton-cg').fit(X_train, y_train)\n",
    "predicted_mlr = mul_lr.predict(X_train)\n",
    "preds_val_mlr=mul_lr.predict(X_val)\n",
    "print ('Accuracy:', accuracy_score(y_train, predicted_mlr))\n",
    "print ('Accuracy:', accuracy_score(y_val, preds_val_mlr))"
   ]
  },
  {
   "cell_type": "markdown",
   "metadata": {},
   "source": [
    "## SVM"
   ]
  },
  {
   "cell_type": "code",
   "execution_count": 214,
   "metadata": {},
   "outputs": [
    {
     "name": "stdout",
     "output_type": "stream",
     "text": [
      "Accuracy: 0.67055123936367\n",
      "Accuracy: 0.6624133148404993\n"
     ]
    }
   ],
   "source": [
    "from sklearn.svm import SVC # \"Support Vector Classifier\" \n",
    "clf_svm = SVC(kernel='linear', gamma=5) \n",
    "  \n",
    "# fitting x samples and y classes \n",
    "clf_svm.fit(X_train, y_train)\n",
    "predicted_svm = clf_svm.predict(X_train)\n",
    "preds_val_svm=clf_svm.predict(X_val)\n",
    "print ('Accuracy:', accuracy_score(y_train, predicted_svm))\n",
    "print ('Accuracy:', accuracy_score(y_val, preds_val_svm))"
   ]
  },
  {
   "cell_type": "markdown",
   "metadata": {},
   "source": [
    "## xgboost"
   ]
  },
  {
   "cell_type": "code",
   "execution_count": 218,
   "metadata": {},
   "outputs": [
    {
     "data": {
      "text/plain": [
       "XGBClassifier(base_score=0.5, booster='gbtree', colsample_bylevel=1,\n",
       "       colsample_bytree=1, gamma=0, learning_rate=0.1, max_delta_step=0,\n",
       "       max_depth=3, min_child_weight=1, missing=None, n_estimators=100,\n",
       "       n_jobs=1, nthread=None, objective='multi:softprob', random_state=0,\n",
       "       reg_alpha=0, reg_lambda=1, scale_pos_weight=1, seed=None,\n",
       "       silent=True, subsample=1)"
      ]
     },
     "execution_count": 218,
     "metadata": {},
     "output_type": "execute_result"
    }
   ],
   "source": [
    "model_xgb = XGBClassifier()\n",
    "model_xgb.fit(X_train, y_train)"
   ]
  },
  {
   "cell_type": "code",
   "execution_count": 219,
   "metadata": {},
   "outputs": [
    {
     "name": "stdout",
     "output_type": "stream",
     "text": [
      "Accuracy: 0.67055123936367\n",
      "Accuracy: 0.6624133148404993\n"
     ]
    }
   ],
   "source": [
    "predicted_svm = clf_svm.predict(X_train)\n",
    "preds_val_svm=clf_svm.predict(X_val)\n",
    "print ('Accuracy:', accuracy_score(y_train, predicted_svm))\n",
    "print ('Accuracy:', accuracy_score(y_val, preds_val_svm))"
   ]
  },
  {
   "cell_type": "code",
   "execution_count": null,
   "metadata": {},
   "outputs": [],
   "source": []
  }
 ],
 "metadata": {
  "kernelspec": {
   "display_name": "Python 3",
   "language": "python",
   "name": "python3"
  },
  "language_info": {
   "codemirror_mode": {
    "name": "ipython",
    "version": 3
   },
   "file_extension": ".py",
   "mimetype": "text/x-python",
   "name": "python",
   "nbconvert_exporter": "python",
   "pygments_lexer": "ipython3",
   "version": "3.6.5"
  }
 },
 "nbformat": 4,
 "nbformat_minor": 2
}
